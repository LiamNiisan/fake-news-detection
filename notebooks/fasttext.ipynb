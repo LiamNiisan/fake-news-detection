{
 "cells": [
  {
   "cell_type": "code",
   "execution_count": 1,
   "metadata": {},
   "outputs": [],
   "source": [
    "import os, sys"
   ]
  },
  {
   "cell_type": "code",
   "execution_count": 2,
   "metadata": {},
   "outputs": [
    {
     "data": {
      "text/plain": "'/Users/badr/Documents/ETS/Hiv2021/PFE/VS/git/fake-news-detection/notebooks'"
     },
     "execution_count": 2,
     "metadata": {},
     "output_type": "execute_result"
    }
   ],
   "source": [
    "cwd = os.getcwd()\n",
    "cwd"
   ]
  },
  {
   "cell_type": "code",
   "execution_count": 3,
   "metadata": {},
   "outputs": [],
   "source": [
    "main_repository = os.path.join(cwd, os.pardir)"
   ]
  },
  {
   "cell_type": "code",
   "execution_count": 4,
   "metadata": {},
   "outputs": [],
   "source": [
    "sys.path.append(os.path.join(main_repository, 'src'))"
   ]
  },
  {
   "cell_type": "markdown",
   "metadata": {},
   "source": [
    "## Create Fasttext Object"
   ]
  },
  {
   "cell_type": "code",
   "execution_count": 5,
   "metadata": {},
   "outputs": [],
   "source": [
    "from fasttext_model.FasttextModel import FasttextModel"
   ]
  },
  {
   "cell_type": "code",
   "execution_count": 6,
   "metadata": {},
   "outputs": [],
   "source": [
    "Fasttext = FasttextModel(main_repository, 5)"
   ]
  },
  {
   "cell_type": "markdown",
   "metadata": {},
   "source": [
    "## Prepare Data for Training"
   ]
  },
  {
   "cell_type": "code",
   "execution_count": 7,
   "metadata": {},
   "outputs": [
    {
     "name": "stderr",
     "output_type": "stream",
     "text": [
      "  0%|          | 0/5 [00:00<?, ?it/s]/Users/badr/Documents/ETS/Hiv2021/PFE/VS/git/fake-news-detection/notebooks/../src/Preprocessing.py:68: VisibleDeprecationWarning: Creating an ndarray from ragged nested sequences (which is a list-or-tuple of lists-or-tuples-or ndarrays with different lengths or shapes) is deprecated. If you meant to do this, you must specify 'dtype=object' when creating the ndarray.\n",
      "  return np.array([nltk.word_tokenize(corpus[i]) for i in range(len(corpus))])\n",
      "100%|██████████| 5/5 [07:21<00:00, 88.22s/it]\n"
     ]
    }
   ],
   "source": [
    "Fasttext.preprocess()"
   ]
  },
  {
   "cell_type": "code",
   "execution_count": 8,
   "metadata": {},
   "outputs": [
    {
     "name": "stderr",
     "output_type": "stream",
     "text": [
      "100%|██████████| 5/5 [00:26<00:00,  5.33s/it]\n"
     ]
    }
   ],
   "source": [
    "Fasttext.format()"
   ]
  },
  {
   "cell_type": "markdown",
   "metadata": {},
   "source": [
    "## Training"
   ]
  },
  {
   "cell_type": "code",
   "execution_count": 9,
   "metadata": {},
   "outputs": [
    {
     "name": "stderr",
     "output_type": "stream",
     "text": [
      "100%|██████████| 5/5 [06:29<00:00, 77.93s/it]\n"
     ]
    }
   ],
   "source": [
    "Fasttext.train(learning_rate=0.0075, epochs=100)"
   ]
  },
  {
   "cell_type": "markdown",
   "metadata": {},
   "source": [
    "## Testing"
   ]
  },
  {
   "cell_type": "code",
   "execution_count": 10,
   "metadata": {},
   "outputs": [
    {
     "name": "stderr",
     "output_type": "stream",
     "text": [
      "  0%|          | 0/5 [00:00<?, ?it/s]Warning : `load_model` does not return WordVectorModel or SupervisedModel any more, but a `FastText` object which is very similar.\n",
      " 20%|██        | 1/5 [00:01<00:05,  1.35s/it]Warning : `load_model` does not return WordVectorModel or SupervisedModel any more, but a `FastText` object which is very similar.\n",
      " 40%|████      | 2/5 [00:02<00:03,  1.24s/it]Warning : `load_model` does not return WordVectorModel or SupervisedModel any more, but a `FastText` object which is very similar.\n",
      " 60%|██████    | 3/5 [00:03<00:02,  1.19s/it]Warning : `load_model` does not return WordVectorModel or SupervisedModel any more, but a `FastText` object which is very similar.\n",
      " 80%|████████  | 4/5 [00:04<00:01,  1.14s/it]Warning : `load_model` does not return WordVectorModel or SupervisedModel any more, but a `FastText` object which is very similar.\n",
      "100%|██████████| 5/5 [00:05<00:00,  1.15s/it]\n"
     ]
    }
   ],
   "source": [
    "Fasttext.test()"
   ]
  },
  {
   "cell_type": "code",
   "execution_count": 11,
   "metadata": {},
   "outputs": [
    {
     "data": {
      "text/plain": "0.9366859369745028"
     },
     "execution_count": 11,
     "metadata": {},
     "output_type": "execute_result"
    }
   ],
   "source": [
    "Fasttext.precision"
   ]
  },
  {
   "cell_type": "markdown",
   "metadata": {},
   "source": [
    "# Testing on an article"
   ]
  },
  {
   "cell_type": "code",
   "execution_count": 12,
   "metadata": {},
   "outputs": [],
   "source": [
    "text = \"\"\" Members of Congress may use campaign funds to hire bodyguards, FEC rules\n",
    "(CNN) — Members of Congress can use campaign funds to hire bodyguards, federal election regulators ruled Thursday -- nearly three months after the violent January 6 siege on the US Capitol raised fresh concerns about lawmakers' safety.\n",
    "\n",
    "The 5-1 vote by the Federal Election Commission allows lawmakers to use donors' money for \"bona fide, legitimate, professional personal security\" against threats that arise as part of their jobs.\n",
    "\n",
    "The action came in response to a request from officials with the National Republican Congressional Committee and the National Republican Senatorial Committee and falls in line with previous FEC actions that allow politicians to use campaign money to upgrade security at their homes.\n",
    "But the commission spent hours of their online meeting tussling over how to properly define security personnel after Democratic lawyers raised the specter of some lawmakers using donors' money to pay right-wing militia members.\n",
    "\n",
    "In a Wednesday letter to the commission, Marc Elias and other attorneys representing Democratic campaign committees urged regulators to craft the rules narrowly so that \"campaign funds are not improperly used to fund groups organized to harass and intimidate political opponents.\"\n",
    "\n",
    "\"In the past election cycle, some individuals who are now Members of Congress displayed troubling ties to extremist groups, including some self-proclaimed 'militias,' such as the Proud Boys, the Oath Keepers, and the Three Percenters,\" the Democratic lawyers wrote. \"In some cases, these groups purported to provide 'security' at events attended by Congressional candidates and Members of Congress.\"\n",
    "\n",
    "One Democrat on the commission, Ellen Weintraub, said she was concerned about lawmakers operating at a far remove from their constituents and that untrained guards could improperly block the public from engaging with elected officials.\n",
    "\n",
    "\"I never thought of us as a country where the leadership of the country had to be surrounded by armed guards and ... needed to keep the public at arm's length,\" Weintraub said.\n",
    "\n",
    "But Jessica Furst Johnson, a lawyer representing the Republican campaign committees, said lawmakers have pressing security concerns.\n",
    "\n",
    "The threats they face, she retorted, do not involve \"people who are showing up at homes in the middle of the night to have a nice conservation about legislation. We are talking about situations where members are, unfortunately, feeling threatened with their children in their homes in the middle of the night.\" \"\"\".replace('\\n', ' ')"
   ]
  },
  {
   "cell_type": "code",
   "execution_count": 13,
   "metadata": {},
   "outputs": [
    {
     "data": {
      "text/plain": "' Members of Congress may use campaign funds to hire bodyguards, FEC rules (CNN) — Members of Congress can use campaign funds to hire bodyguards, federal election regulators ruled Thursday -- nearly three months after the violent January 6 siege on the US Capitol raised fresh concerns about lawmakers\\' safety.  The 5-1 vote by the Federal Election Commission allows lawmakers to use donors\\' money for \"bona fide, legitimate, professional personal security\" against threats that arise as part of their jobs.  The action came in response to a request from officials with the National Republican Congressional Committee and the National Republican Senatorial Committee and falls in line with previous FEC actions that allow politicians to use campaign money to upgrade security at their homes. But the commission spent hours of their online meeting tussling over how to properly define security personnel after Democratic lawyers raised the specter of some lawmakers using donors\\' money to pay right-wing militia members.  In a Wednesday letter to the commission, Marc Elias and other attorneys representing Democratic campaign committees urged regulators to craft the rules narrowly so that \"campaign funds are not improperly used to fund groups organized to harass and intimidate political opponents.\"  \"In the past election cycle, some individuals who are now Members of Congress displayed troubling ties to extremist groups, including some self-proclaimed \\'militias,\\' such as the Proud Boys, the Oath Keepers, and the Three Percenters,\" the Democratic lawyers wrote. \"In some cases, these groups purported to provide \\'security\\' at events attended by Congressional candidates and Members of Congress.\"  One Democrat on the commission, Ellen Weintraub, said she was concerned about lawmakers operating at a far remove from their constituents and that untrained guards could improperly block the public from engaging with elected officials.  \"I never thought of us as a country where the leadership of the country had to be surrounded by armed guards and ... needed to keep the public at arm\\'s length,\" Weintraub said.  But Jessica Furst Johnson, a lawyer representing the Republican campaign committees, said lawmakers have pressing security concerns.  The threats they face, she retorted, do not involve \"people who are showing up at homes in the middle of the night to have a nice conservation about legislation. We are talking about situations where members are, unfortunately, feeling threatened with their children in their homes in the middle of the night.\" '"
     },
     "execution_count": 13,
     "metadata": {},
     "output_type": "execute_result"
    }
   ],
   "source": [
    "text"
   ]
  },
  {
   "cell_type": "code",
   "execution_count": 17,
   "metadata": {},
   "outputs": [],
   "source": [
    "import fasttext"
   ]
  },
  {
   "cell_type": "code",
   "execution_count": 22,
   "metadata": {},
   "outputs": [
    {
     "name": "stderr",
     "output_type": "stream",
     "text": [
      "Warning : `load_model` does not return WordVectorModel or SupervisedModel any more, but a `FastText` object which is very similar.\n"
     ]
    }
   ],
   "source": [
    "f_model_path = os.path.join(\n",
    "    Fasttext.model_path, 'fasttext', 'model_1')\n",
    "\n",
    "model = fasttext.load_model(f_model_path)"
   ]
  },
  {
   "cell_type": "code",
   "execution_count": 23,
   "metadata": {},
   "outputs": [
    {
     "data": {
      "text/plain": "(('__label__true',), array([0.86624551]))"
     },
     "execution_count": 23,
     "metadata": {},
     "output_type": "execute_result"
    }
   ],
   "source": [
    "model.predict(text)"
   ]
  },
  {
   "cell_type": "code",
   "execution_count": 25,
   "metadata": {},
   "outputs": [],
   "source": [
    "text = \"\"\" Nolte: Whites Excluded, Illegal Aliens Qualify for Oakland’s $500 Month Payout Program \n",
    "\n",
    "Oakland, California, Mayor Libby Schaaf (D) announced a program that offers poor minority families $500 a month. Poor white families are excluded for the sin of being white. However, illegal aliens qualify.\n",
    "\n",
    "Per the Daily Mail, “An estimated 10,000 of Oakland’s 435,000 population are white residents who live in poverty,” but they will receive nothing, and only because they are white.\n",
    "\n",
    "Here is how you qualify for Oakland’s no-questions-asked $500 a month:\n",
    "\n",
    "You must have at least one child\n",
    "Your income must be at or below 50 percent of Oakland’s median income\n",
    "You must not be white\n",
    "The excuse for excluding whitey, per the far-left Associate Press, is that “White households in Oakland on average make about three times as much annually than black households[.]”\n",
    "\n",
    "Yeah, but, um, 10,000 white households do not.\n",
    "\n",
    "Okay, but they are still white. Duh.\n",
    "\n",
    "The good news — if you’re a total lunatic — is that while poor whites are excluded based only on the fact they are white, illegal aliens do qualify for the $500 per month.  Per Yahoo, the $500 is not taxable “and undocumented and/or unsheltered individuals also qualify.”\n",
    "\n",
    "Let me run that Yahoo sentence through the Orwellian translator: “illegal aliens and the homeless also qualify.”\n",
    "\n",
    "Ah, but do white illegal aliens and white homeless people qualify?\n",
    "\n",
    "Oh, and how do you prove you qualify? Is a racist ID required?\n",
    "\n",
    "Do Asians qualify as “people of color,” or is this one more hate crime against them, just like all the other hate crimes against Asians that happen exclusively in Democrat-run cities?\n",
    "\n",
    "What about a white person who is both homeless and an illegal alien; would this person qualify?\n",
    "\n",
    "The city is going to try and get away with this blatant racism by claiming the fund being used for the $500 payouts is a private fund. We’ll see if that flies, not only with the people but with the Supreme Court.\n",
    "\n",
    "Oakland is a shithole city and one that has been run exclusively by Democrats for some 50 years. If there’s a racism problem in Oakland, if there’s a “systemic racism” problem in Oakland, let’s try to remember who’s been in charge of that system for a half century.\n",
    "\n",
    "The Daily Mail reports “Oakland’s homeless population rose by nearly 50 per cent between 2017 and 2019.” Well, with Democrats in charge for a half-century, whose fault is that? Out here in MAGA Land, in Rural America, we don’t have a homeless crisis.\n",
    "\n",
    "Oakland closed 2020 with its highest murder rate in eight years; 102 people killed. Well, whose fault is that? Out here in Trump Land we don’t have a gun violence problem (even though we all own guns).\n",
    "\n",
    "Last year, Oakland was named one of the most dangerous cities in America? Well, whose fault is that? Out here in Rural America, all of us Trumptards live in peace and brotherhood. No racial tensions. No riots. No mass shootings.\n",
    "\n",
    "There’s just no question that one of the primary motives behind excluding whites from this $500 a month is to deliberately gin up racial hate and racial division and racial tensions, which is something else that is almost exclusive to Democrat-run cities.\n",
    "\n",
    "Between the violence, the shitty schools, the deliberate gunning up of racial tensions, not to mention all the rioting led by the left-wing terrorists in Antifa and Black Lives Matter, these Democrat-run cities are deliberately tearing themselves apart.\n",
    "\n",
    "No sympathy here.\n",
    "\n",
    "You get what you vote for and the idiots of Oakland obviously enjoy racism and murder and poverty and chronic homelessness. They do keep voting for it.\n",
    "\n",
    "No skin off my nose.\n",
    "\n",
    "Life remains peaceful, clean, safe, colorblind, and serene in MAGA Country.\n",
    "\"\"\".replace('\\n', ' ')"
   ]
  },
  {
   "cell_type": "code",
   "execution_count": 26,
   "metadata": {},
   "outputs": [
    {
     "data": {
      "text/plain": "(('__label__fake',), array([0.99912077]))"
     },
     "execution_count": 26,
     "metadata": {},
     "output_type": "execute_result"
    }
   ],
   "source": [
    "model.predict(text)"
   ]
  }
 ],
 "metadata": {
  "kernelspec": {
   "display_name": "Python 3.8.8 64-bit ('base': conda)",
   "name": "python388jvsc74a57bd0edd520d6644a321125cc4a079653ea19f3677dde8ec49922823a2d76c0a5a38b"
  },
  "language_info": {
   "codemirror_mode": {
    "name": "ipython",
    "version": 3
   },
   "file_extension": ".py",
   "mimetype": "text/x-python",
   "name": "python",
   "nbconvert_exporter": "python",
   "pygments_lexer": "ipython3",
   "version": "3.8.8"
  },
  "orig_nbformat": 2
 },
 "nbformat": 4,
 "nbformat_minor": 2
}