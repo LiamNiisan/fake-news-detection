{
 "cells": [
  {
   "cell_type": "code",
   "execution_count": 1,
   "metadata": {},
   "outputs": [],
   "source": [
    "import os, sys"
   ]
  },
  {
   "cell_type": "code",
   "execution_count": 2,
   "metadata": {},
   "outputs": [
    {
     "data": {
      "text/plain": "'/Users/badr/Documents/ETS/Hiv2021/PFE/VS/git/fake-news-detection/notebooks'"
     },
     "execution_count": 2,
     "metadata": {},
     "output_type": "execute_result"
    }
   ],
   "source": [
    "cwd = os.getcwd()\n",
    "cwd"
   ]
  },
  {
   "cell_type": "code",
   "execution_count": 3,
   "metadata": {},
   "outputs": [],
   "source": [
    "main_repository = os.path.join(cwd, os.pardir)"
   ]
  },
  {
   "cell_type": "code",
   "execution_count": 4,
   "metadata": {},
   "outputs": [],
   "source": [
    "sys.path.append(os.path.join(main_repository, 'src'))"
   ]
  },
  {
   "cell_type": "markdown",
   "metadata": {},
   "source": [
    "## Create Fasttext Object"
   ]
  },
  {
   "cell_type": "code",
   "execution_count": 5,
   "metadata": {},
   "outputs": [],
   "source": [
    "from fasttext_model.FasttextModel import FasttextModel"
   ]
  },
  {
   "cell_type": "code",
   "execution_count": 6,
   "metadata": {},
   "outputs": [],
   "source": [
    "Fasttext = FasttextModel(main_repository, 5)"
   ]
  },
  {
   "cell_type": "markdown",
   "metadata": {},
   "source": [
    "## Prepare Data for Training"
   ]
  },
  {
   "cell_type": "code",
   "execution_count": 7,
   "metadata": {},
   "outputs": [
    {
     "name": "stderr",
     "output_type": "stream",
     "text": [
      "  0%|          | 0/5 [00:00<?, ?it/s]/Users/badr/Documents/ETS/Hiv2021/PFE/VS/git/fake-news-detection/notebooks/../src/Preprocessing.py:68: VisibleDeprecationWarning: Creating an ndarray from ragged nested sequences (which is a list-or-tuple of lists-or-tuples-or ndarrays with different lengths or shapes) is deprecated. If you meant to do this, you must specify 'dtype=object' when creating the ndarray.\n",
      "  return np.array([nltk.word_tokenize(corpus[i]) for i in range(len(corpus))])\n",
      "100%|██████████| 5/5 [06:15<00:00, 75.04s/it]\n"
     ]
    }
   ],
   "source": [
    "Fasttext.preprocess()"
   ]
  },
  {
   "cell_type": "code",
   "execution_count": 8,
   "metadata": {},
   "outputs": [
    {
     "name": "stderr",
     "output_type": "stream",
     "text": [
      "100%|██████████| 5/5 [00:30<00:00,  6.08s/it]\n"
     ]
    }
   ],
   "source": [
    "Fasttext.format()"
   ]
  },
  {
   "cell_type": "markdown",
   "metadata": {},
   "source": [
    "## Training"
   ]
  },
  {
   "cell_type": "code",
   "execution_count": 9,
   "metadata": {},
   "outputs": [
    {
     "name": "stderr",
     "output_type": "stream",
     "text": [
      "100%|██████████| 5/5 [08:55<00:00, 107.05s/it]\n"
     ]
    }
   ],
   "source": [
    "Fasttext.train(learning_rate=0.0075, epochs=100)"
   ]
  },
  {
   "cell_type": "markdown",
   "metadata": {},
   "source": [
    "## Testing"
   ]
  },
  {
   "cell_type": "code",
   "execution_count": 10,
   "metadata": {},
   "outputs": [
    {
     "name": "stderr",
     "output_type": "stream",
     "text": [
      "  0%|          | 0/5 [00:00<?, ?it/s]Warning : `load_model` does not return WordVectorModel or SupervisedModel any more, but a `FastText` object which is very similar.\n",
      " 20%|██        | 1/5 [00:01<00:04,  1.10s/it]Warning : `load_model` does not return WordVectorModel or SupervisedModel any more, but a `FastText` object which is very similar.\n",
      " 40%|████      | 2/5 [00:02<00:03,  1.10s/it]Warning : `load_model` does not return WordVectorModel or SupervisedModel any more, but a `FastText` object which is very similar.\n",
      " 60%|██████    | 3/5 [00:03<00:02,  1.12s/it]Warning : `load_model` does not return WordVectorModel or SupervisedModel any more, but a `FastText` object which is very similar.\n",
      " 80%|████████  | 4/5 [00:04<00:01,  1.10s/it]Warning : `load_model` does not return WordVectorModel or SupervisedModel any more, but a `FastText` object which is very similar.\n",
      "100%|██████████| 5/5 [00:05<00:00,  1.10s/it]\n"
     ]
    }
   ],
   "source": [
    "Fasttext.test()"
   ]
  },
  {
   "cell_type": "code",
   "execution_count": 11,
   "metadata": {},
   "outputs": [
    {
     "data": {
      "text/plain": "0.9320334068227929"
     },
     "execution_count": 11,
     "metadata": {},
     "output_type": "execute_result"
    }
   ],
   "source": [
    "Fasttext.precision"
   ]
  },
  {
   "cell_type": "markdown",
   "metadata": {},
   "source": [
    "# Testing on an article"
   ]
  },
  {
   "cell_type": "code",
   "execution_count": 7,
   "metadata": {},
   "outputs": [],
   "source": [
    "text = \"\"\" Members of Congress may use campaign funds to hire bodyguards, FEC rules\n",
    "(CNN) — Members of Congress can use campaign funds to hire bodyguards, federal election regulators ruled Thursday -- nearly three months after the violent January 6 siege on the US Capitol raised fresh concerns about lawmakers' safety.\n",
    "\n",
    "The 5-1 vote by the Federal Election Commission allows lawmakers to use donors' money for \"bona fide, legitimate, professional personal security\" against threats that arise as part of their jobs.\n",
    "\n",
    "The action came in response to a request from officials with the National Republican Congressional Committee and the National Republican Senatorial Committee and falls in line with previous FEC actions that allow politicians to use campaign money to upgrade security at their homes.\n",
    "But the commission spent hours of their online meeting tussling over how to properly define security personnel after Democratic lawyers raised the specter of some lawmakers using donors' money to pay right-wing militia members.\n",
    "\n",
    "In a Wednesday letter to the commission, Marc Elias and other attorneys representing Democratic campaign committees urged regulators to craft the rules narrowly so that \"campaign funds are not improperly used to fund groups organized to harass and intimidate political opponents.\"\n",
    "\n",
    "\"In the past election cycle, some individuals who are now Members of Congress displayed troubling ties to extremist groups, including some self-proclaimed 'militias,' such as the Proud Boys, the Oath Keepers, and the Three Percenters,\" the Democratic lawyers wrote. \"In some cases, these groups purported to provide 'security' at events attended by Congressional candidates and Members of Congress.\"\n",
    "\n",
    "One Democrat on the commission, Ellen Weintraub, said she was concerned about lawmakers operating at a far remove from their constituents and that untrained guards could improperly block the public from engaging with elected officials.\n",
    "\n",
    "\"I never thought of us as a country where the leadership of the country had to be surrounded by armed guards and ... needed to keep the public at arm's length,\" Weintraub said.\n",
    "\n",
    "But Jessica Furst Johnson, a lawyer representing the Republican campaign committees, said lawmakers have pressing security concerns.\n",
    "\n",
    "The threats they face, she retorted, do not involve \"people who are showing up at homes in the middle of the night to have a nice conservation about legislation. We are talking about situations where members are, unfortunately, feeling threatened with their children in their homes in the middle of the night.\" \"\"\".replace('\\n', ' ')"
   ]
  },
  {
   "cell_type": "code",
   "execution_count": 21,
   "metadata": {},
   "outputs": [],
   "source": [
    "text = \"\"\" After safety review, Health Canada says people shouldn't hesitate to get AstraZeneca vaccine\n",
    "\n",
    "Pharmacist Mario Linaksita, right, administers the Oxford-AstraZeneca COVID-19 vaccine to Sharon Berringer, 56, at University Pharmacy in Vancouver on Thursday, April 1, 2021. (Darryl Dyck/Canadian Press)\n",
    "Following reports of rare blood clotting events among some who have received the AstraZeneca vaccine, Health Canada officials said today they still believe the product is safe — and Canadians should have no qualms about rolling up their sleeves for it when the time comes.\n",
    "\n",
    "Speaking to reporters at a technical briefing, Dr. Supriya Sharma, Health Canada's chief medical adviser, said there is a \"very low risk\" that some patients could develop blood clotting with low platelets following vaccination.\n",
    "\n",
    "Sharma said that with a fourth wave of COVID-19 raging — and with the risk of hospitalization and death still much greater than the risk of developing clots following an AstraZeneca shot — the benefits of this vaccine clearly outweigh any risks.\n",
    "\n",
    "\"Get whatever vaccine is available to you. It's that simple. The longer you wait to get vaccinated, the longer you're not protected,\" Sharma said. \"We know the risks of getting these side effects from the vaccine are very rare.\"\n",
    "\n",
    "COVID clotting risk far higher, Sharma says\n",
    "\n",
    "Pointing to evidence from the U.K., where the AstraZeneca shot has been administered 20 million times, Sharma said the chance of developing these clots is roughly 1 in 250,000.\n",
    "\n",
    "While there are other numbers circulating about the frequency of these clots, Canada is relying on the British data because the U.K. has a robust safety monitoring system and has administered a lot of shots, Sharma said.\n",
    "\n",
    "Meanwhile, Sharma said, the odds of developing a \"regular\" clot — and not this rare, vaccine-induced thrombocytopenia (VIPIT) in people with low platelets — are 1 in 5 for people hospitalized with COVID-19.\n",
    "\n",
    "The risk of a woman between the ages of 15 and 45 developing any sort of blood clot is 1 in 3,300. If they take birth control, the odds are 1 in 1,600. If a woman is pregnant, the risk is 1 in 300, Sharma said.\n",
    "\n",
    "\"It is difficult to wrap your head around these abstract numbers and relative risks. We understand that,\" Sharma said. \"The risk of regular clots with COVID is much, much higher and it's much, much higher than having this very severe clot.\"\n",
    "\n",
    "Health Canada still has not definitively associated the AstraZeneca vaccine with these clots. Sharma said only that the shot was \"probably\" the reason why some people developed this condition.\n",
    "\n",
    "WATCH: Health Canada's Dr. Supriya Sharma on the AstraZeneca vaccine\n",
    "\n",
    "\n",
    "Dr. Supriya Sharma tells reporters the COVID threat is \"real\" and outweighs rare instances of blood clots reported with the AstraZeneca and Johnson and Johnson/Janssen vaccines. 1:39\n",
    "Sharma said the department has updated the product label to warn would-be patients about the risk of developing these clots. Patients who receive the shot will be told to look out for symptoms — severe headaches, abdominal pain, leg pain or shortness of breath.\n",
    "\n",
    "Sharma said that if regulators conclude at any time that the risks of the AstraZeneca shot outweigh its benefits, Health Canada won't hesitate to pull the vaccine's authorization.\n",
    "\n",
    "She said it's not unusual for such very rare side effects to emerge when a vaccine has been given to such large numbers of people.\n",
    "\n",
    "One woman in Quebec has developed clots after receiving the Covishield product, a biologically identical version of the AstraZeneca vaccine produced by the Serum Institute of India.\n",
    "\n",
    "In approving the shot in late February, Health Canada regulators authorized the shot for all adults 18 and over.\n",
    "\n",
    "Sharma said Health Canada still believes that the shot can be safely deployed in all adults regardless of age. However, the National Advisory Committee on Immunization (NACI) has recommended that provinces restrict access to adults over the age of 55 — for now.\n",
    "\n",
    "Sharma said NACI is reviewing more real-world data now and could update its guidelines. \"\"\".replace('\\n', ' ')"
   ]
  },
  {
   "cell_type": "code",
   "execution_count": 22,
   "metadata": {},
   "outputs": [
    {
     "data": {
      "text/plain": "' After safety review, Health Canada says people shouldn\\'t hesitate to get AstraZeneca vaccine  Pharmacist Mario Linaksita, right, administers the Oxford-AstraZeneca COVID-19 vaccine to Sharon Berringer, 56, at University Pharmacy in Vancouver on Thursday, April 1, 2021. (Darryl Dyck/Canadian Press) Following reports of rare blood clotting events among some who have received the AstraZeneca vaccine, Health Canada officials said today they still believe the product is safe — and Canadians should have no qualms about rolling up their sleeves for it when the time comes.  Speaking to reporters at a technical briefing, Dr. Supriya Sharma, Health Canada\\'s chief medical adviser, said there is a \"very low risk\" that some patients could develop blood clotting with low platelets following vaccination.  Sharma said that with a fourth wave of COVID-19 raging — and with the risk of hospitalization and death still much greater than the risk of developing clots following an AstraZeneca shot — the benefits of this vaccine clearly outweigh any risks.  \"Get whatever vaccine is available to you. It\\'s that simple. The longer you wait to get vaccinated, the longer you\\'re not protected,\" Sharma said. \"We know the risks of getting these side effects from the vaccine are very rare.\"  COVID clotting risk far higher, Sharma says  Pointing to evidence from the U.K., where the AstraZeneca shot has been administered 20 million times, Sharma said the chance of developing these clots is roughly 1 in 250,000.  While there are other numbers circulating about the frequency of these clots, Canada is relying on the British data because the U.K. has a robust safety monitoring system and has administered a lot of shots, Sharma said.  Meanwhile, Sharma said, the odds of developing a \"regular\" clot — and not this rare, vaccine-induced thrombocytopenia (VIPIT) in people with low platelets — are 1 in 5 for people hospitalized with COVID-19.  The risk of a woman between the ages of 15 and 45 developing any sort of blood clot is 1 in 3,300. If they take birth control, the odds are 1 in 1,600. If a woman is pregnant, the risk is 1 in 300, Sharma said.  \"It is difficult to wrap your head around these abstract numbers and relative risks. We understand that,\" Sharma said. \"The risk of regular clots with COVID is much, much higher and it\\'s much, much higher than having this very severe clot.\"  Health Canada still has not definitively associated the AstraZeneca vaccine with these clots. Sharma said only that the shot was \"probably\" the reason why some people developed this condition.  WATCH: Health Canada\\'s Dr. Supriya Sharma on the AstraZeneca vaccine   Dr. Supriya Sharma tells reporters the COVID threat is \"real\" and outweighs rare instances of blood clots reported with the AstraZeneca and Johnson and Johnson/Janssen vaccines. 1:39 Sharma said the department has updated the product label to warn would-be patients about the risk of developing these clots. Patients who receive the shot will be told to look out for symptoms — severe headaches, abdominal pain, leg pain or shortness of breath.  Sharma said that if regulators conclude at any time that the risks of the AstraZeneca shot outweigh its benefits, Health Canada won\\'t hesitate to pull the vaccine\\'s authorization.  She said it\\'s not unusual for such very rare side effects to emerge when a vaccine has been given to such large numbers of people.  One woman in Quebec has developed clots after receiving the Covishield product, a biologically identical version of the AstraZeneca vaccine produced by the Serum Institute of India.  In approving the shot in late February, Health Canada regulators authorized the shot for all adults 18 and over.  Sharma said Health Canada still believes that the shot can be safely deployed in all adults regardless of age. However, the National Advisory Committee on Immunization (NACI) has recommended that provinces restrict access to adults over the age of 55 — for now.  Sharma said NACI is reviewing more real-world data now and could update its guidelines. '"
     },
     "execution_count": 22,
     "metadata": {},
     "output_type": "execute_result"
    }
   ],
   "source": [
    "text"
   ]
  },
  {
   "cell_type": "code",
   "execution_count": 17,
   "metadata": {},
   "outputs": [],
   "source": [
    "import fasttext"
   ]
  },
  {
   "cell_type": "code",
   "execution_count": 23,
   "metadata": {},
   "outputs": [
    {
     "name": "stderr",
     "output_type": "stream",
     "text": [
      "Warning : `load_model` does not return WordVectorModel or SupervisedModel any more, but a `FastText` object which is very similar.\n"
     ]
    }
   ],
   "source": [
    "f_model_path = os.path.join(\n",
    "    Fasttext.model_path, 'fasttext', 'model_1')\n",
    "\n",
    "model = fasttext.load_model(f_model_path)"
   ]
  },
  {
   "cell_type": "code",
   "execution_count": 24,
   "metadata": {},
   "outputs": [
    {
     "data": {
      "text/plain": "(('__label__true',), array([0.6851089]))"
     },
     "execution_count": 24,
     "metadata": {},
     "output_type": "execute_result"
    }
   ],
   "source": [
    "model.predict(text)"
   ]
  },
  {
   "cell_type": "code",
   "execution_count": 48,
   "metadata": {},
   "outputs": [],
   "source": [
    "text = \"\"\" Nolte: Whites Excluded, Illegal Aliens Qualify for Oakland’s $500 Month Payout Program \n",
    "\n",
    "Oakland, California, Mayor Libby Schaaf (D) announced a program that offers poor minority families $500 a month. Poor white families are excluded for the sin of being white. However, illegal aliens qualify.\n",
    "\n",
    "Per the Daily Mail, “An estimated 10,000 of Oakland’s 435,000 population are white residents who live in poverty,” but they will receive nothing, and only because they are white.\n",
    "\n",
    "Here is how you qualify for Oakland’s no-questions-asked $500 a month:\n",
    "\n",
    "You must have at least one child\n",
    "Your income must be at or below 50 percent of Oakland’s median income\n",
    "You must not be white\n",
    "The excuse for excluding whitey, per the far-left Associate Press, is that “White households in Oakland on average make about three times as much annually than black households[.]”\n",
    "\n",
    "Yeah, but, um, 10,000 white households do not.\n",
    "\n",
    "Okay, but they are still white. Duh.\n",
    "\n",
    "The good news — if you’re a total lunatic — is that while poor whites are excluded based only on the fact they are white, illegal aliens do qualify for the $500 per month.  Per Yahoo, the $500 is not taxable “and undocumented and/or unsheltered individuals also qualify.”\n",
    "\n",
    "Let me run that Yahoo sentence through the Orwellian translator: “illegal aliens and the homeless also qualify.”\n",
    "\n",
    "Ah, but do white illegal aliens and white homeless people qualify?\n",
    "\n",
    "Oh, and how do you prove you qualify? Is a racist ID required?\n",
    "\n",
    "Do Asians qualify as “people of color,” or is this one more hate crime against them, just like all the other hate crimes against Asians that happen exclusively in Democrat-run cities?\n",
    "\n",
    "What about a white person who is both homeless and an illegal alien; would this person qualify?\n",
    "\n",
    "The city is going to try and get away with this blatant racism by claiming the fund being used for the $500 payouts is a private fund. We’ll see if that flies, not only with the people but with the Supreme Court.\n",
    "\n",
    "Oakland is a shithole city and one that has been run exclusively by Democrats for some 50 years. If there’s a racism problem in Oakland, if there’s a “systemic racism” problem in Oakland, let’s try to remember who’s been in charge of that system for a half century.\n",
    "\n",
    "The Daily Mail reports “Oakland’s homeless population rose by nearly 50 per cent between 2017 and 2019.” Well, with Democrats in charge for a half-century, whose fault is that? Out here in MAGA Land, in Rural America, we don’t have a homeless crisis.\n",
    "\n",
    "Oakland closed 2020 with its highest murder rate in eight years; 102 people killed. Well, whose fault is that? Out here in Trump Land we don’t have a gun violence problem (even though we all own guns).\n",
    "\n",
    "Last year, Oakland was named one of the most dangerous cities in America? Well, whose fault is that? Out here in Rural America, all of us Trumptards live in peace and brotherhood. No racial tensions. No riots. No mass shootings.\n",
    "\n",
    "There’s just no question that one of the primary motives behind excluding whites from this $500 a month is to deliberately gin up racial hate and racial division and racial tensions, which is something else that is almost exclusive to Democrat-run cities.\n",
    "\n",
    "Between the violence, the shitty schools, the deliberate gunning up of racial tensions, not to mention all the rioting led by the left-wing terrorists in Antifa and Black Lives Matter, these Democrat-run cities are deliberately tearing themselves apart.\n",
    "\n",
    "No sympathy here.\n",
    "\n",
    "You get what you vote for and the idiots of Oakland obviously enjoy racism and murder and poverty and chronic homelessness. They do keep voting for it.\n",
    "\n",
    "No skin off my nose.\n",
    "\n",
    "Life remains peaceful, clean, safe, colorblind, and serene in MAGA Country.\n",
    "\"\"\".replace('\\n', ' ')"
   ]
  },
  {
   "cell_type": "code",
   "execution_count": 49,
   "metadata": {},
   "outputs": [
    {
     "data": {
      "text/plain": "(('__label__fake',), array([0.99911696]))"
     },
     "execution_count": 49,
     "metadata": {},
     "output_type": "execute_result"
    }
   ],
   "source": [
    "model.predict(text)"
   ]
  },
  {
   "cell_type": "code",
   "execution_count": 50,
   "metadata": {},
   "outputs": [],
   "source": [
    "import pandas as pd\n",
    "import numpy as np"
   ]
  },
  {
   "cell_type": "code",
   "execution_count": 51,
   "metadata": {},
   "outputs": [],
   "source": [
    "sample = pd.read_excel('news_sample.xlsx')"
   ]
  },
  {
   "cell_type": "code",
   "execution_count": 52,
   "metadata": {},
   "outputs": [
    {
     "data": {
      "text/html": "<div>\n<style scoped>\n    .dataframe tbody tr th:only-of-type {\n        vertical-align: middle;\n    }\n\n    .dataframe tbody tr th {\n        vertical-align: top;\n    }\n\n    .dataframe thead th {\n        text-align: right;\n    }\n</style>\n<table border=\"1\" class=\"dataframe\">\n  <thead>\n    <tr style=\"text-align: right;\">\n      <th></th>\n      <th>Article</th>\n      <th>Link</th>\n      <th>Type</th>\n    </tr>\n  </thead>\n  <tbody>\n    <tr>\n      <th>0</th>\n      <td>Members of Congress may use campaign funds to ...</td>\n      <td>https://www.cnn.com/2021/03/26/politics/campai...</td>\n      <td>Nouvelles americaines - Politique</td>\n    </tr>\n    <tr>\n      <th>1</th>\n      <td>Biden to unveil major new spending plans as De...</td>\n      <td>https://apple.news/AHAdrDeI2QsOHQvky_R6QKA</td>\n      <td>Nouvelles americaines - Politique</td>\n    </tr>\n    <tr>\n      <th>2</th>\n      <td>Blinken suggests US won't take punitive action...</td>\n      <td>https://apple.news/AATez8h0STMeO9_-cMUvl4w</td>\n      <td>Nouvelles americaines - Politique</td>\n    </tr>\n    <tr>\n      <th>3</th>\n      <td>One day before the Republican Party’s elite do...</td>\n      <td>https://apple.news/AOpNgt6jzTFmO0SeiBeI_tA</td>\n      <td>Nouvelles americaines - Politique</td>\n    </tr>\n    <tr>\n      <th>4</th>\n      <td>Erin O’Toole wanted Conservatives to affirm th...</td>\n      <td>https://apple.news/AA7uTFp8pSPi_JyUAxkQLAw</td>\n      <td>Nouvelles canadiennes - Politique</td>\n    </tr>\n    <tr>\n      <th>5</th>\n      <td>Western Canada: Supreme Court upholds Ottawa’s...</td>\n      <td>https://apple.news/AwReImVYORaqXxkN82-kYnQ</td>\n      <td>Nouvelles canadiennes - Politique</td>\n    </tr>\n    <tr>\n      <th>6</th>\n      <td>US-China relations: Beijing’s plan for aviatio...</td>\n      <td>https://apple.news/Ah-0sZKV0QKKmKUaMk8MklA</td>\n      <td>Nouvelles internationales - Politique</td>\n    </tr>\n    <tr>\n      <th>7</th>\n      <td>West Coast Trail will reopen to Canadian hiker...</td>\n      <td>https://apple.news/Axn6cI_0TRtK6r0gAH2oD0g</td>\n      <td>Nouvelles canadiennes locales - faits divers</td>\n    </tr>\n    <tr>\n      <th>8</th>\n      <td>iOS 14.5 beta 5 is now available to developer ...</td>\n      <td>https://apple.news/AvwAnqPIrRnmSwMTh0UQ2dg</td>\n      <td>Nouvelles tech</td>\n    </tr>\n    <tr>\n      <th>9</th>\n      <td>A New Snapshot of a Black Hole Reveals Its Mys...</td>\n      <td>https://apple.news/A4-miuWiySUye_iTyOTS8uw</td>\n      <td>Nouvelles science</td>\n    </tr>\n    <tr>\n      <th>10</th>\n      <td>Canadiens acquire Eric Staal from the Buffalo ...</td>\n      <td>https://www.nhl.com/canadiens/news/canadiens-a...</td>\n      <td>Nouvelles sport</td>\n    </tr>\n    <tr>\n      <th>11</th>\n      <td>Just 30 More Awesome Products That We Found Sc...</td>\n      <td>https://www.buzzfeed.com/mayning/tiktok-produc...</td>\n      <td>buzzfeed</td>\n    </tr>\n    <tr>\n      <th>12</th>\n      <td>Trump Releases Footage of Yet-to-Air 60 Minute...</td>\n      <td>https://nymag.com/intelligencer/2020/10/trump-...</td>\n      <td>fake</td>\n    </tr>\n    <tr>\n      <th>13</th>\n      <td>Source: Biden to Debate Wearing Brain Implant,...</td>\n      <td>https://nymag.com/intelligencer/2020/09/trump-...</td>\n      <td>fake</td>\n    </tr>\n    <tr>\n      <th>14</th>\n      <td>Vatican Cardinal: In a Globalized World, ‘Ther...</td>\n      <td>https://www.infowars.com/posts/vatican-cardina...</td>\n      <td>fake</td>\n    </tr>\n    <tr>\n      <th>15</th>\n      <td>Texas GOP Votes To Delete Its Gab Account Afte...</td>\n      <td>https://www.infowars.com/posts/texas-gop-votes...</td>\n      <td>fake</td>\n    </tr>\n    <tr>\n      <th>16</th>\n      <td>Here Come The Global Vaccine Passports Vaccina...</td>\n      <td>https://www.infowars.com/posts/here-come-the-g...</td>\n      <td>fake</td>\n    </tr>\n    <tr>\n      <th>17</th>\n      <td>Nolte: Whites Excluded, Illegal Aliens Qualify...</td>\n      <td>https://www.breitbart.com/politics/2021/03/26/...</td>\n      <td>fake</td>\n    </tr>\n  </tbody>\n</table>\n</div>",
      "text/plain": "                                              Article  \\\n0   Members of Congress may use campaign funds to ...   \n1   Biden to unveil major new spending plans as De...   \n2   Blinken suggests US won't take punitive action...   \n3   One day before the Republican Party’s elite do...   \n4   Erin O’Toole wanted Conservatives to affirm th...   \n5   Western Canada: Supreme Court upholds Ottawa’s...   \n6   US-China relations: Beijing’s plan for aviatio...   \n7   West Coast Trail will reopen to Canadian hiker...   \n8   iOS 14.5 beta 5 is now available to developer ...   \n9   A New Snapshot of a Black Hole Reveals Its Mys...   \n10  Canadiens acquire Eric Staal from the Buffalo ...   \n11  Just 30 More Awesome Products That We Found Sc...   \n12  Trump Releases Footage of Yet-to-Air 60 Minute...   \n13  Source: Biden to Debate Wearing Brain Implant,...   \n14  Vatican Cardinal: In a Globalized World, ‘Ther...   \n15  Texas GOP Votes To Delete Its Gab Account Afte...   \n16  Here Come The Global Vaccine Passports Vaccina...   \n17  Nolte: Whites Excluded, Illegal Aliens Qualify...   \n\n                                                 Link  \\\n0   https://www.cnn.com/2021/03/26/politics/campai...   \n1          https://apple.news/AHAdrDeI2QsOHQvky_R6QKA   \n2          https://apple.news/AATez8h0STMeO9_-cMUvl4w   \n3          https://apple.news/AOpNgt6jzTFmO0SeiBeI_tA   \n4          https://apple.news/AA7uTFp8pSPi_JyUAxkQLAw   \n5          https://apple.news/AwReImVYORaqXxkN82-kYnQ   \n6          https://apple.news/Ah-0sZKV0QKKmKUaMk8MklA   \n7          https://apple.news/Axn6cI_0TRtK6r0gAH2oD0g   \n8          https://apple.news/AvwAnqPIrRnmSwMTh0UQ2dg   \n9          https://apple.news/A4-miuWiySUye_iTyOTS8uw   \n10  https://www.nhl.com/canadiens/news/canadiens-a...   \n11  https://www.buzzfeed.com/mayning/tiktok-produc...   \n12  https://nymag.com/intelligencer/2020/10/trump-...   \n13  https://nymag.com/intelligencer/2020/09/trump-...   \n14  https://www.infowars.com/posts/vatican-cardina...   \n15  https://www.infowars.com/posts/texas-gop-votes...   \n16  https://www.infowars.com/posts/here-come-the-g...   \n17  https://www.breitbart.com/politics/2021/03/26/...   \n\n                                            Type  \n0              Nouvelles americaines - Politique  \n1              Nouvelles americaines - Politique  \n2              Nouvelles americaines - Politique  \n3              Nouvelles americaines - Politique  \n4              Nouvelles canadiennes - Politique  \n5              Nouvelles canadiennes - Politique  \n6          Nouvelles internationales - Politique  \n7   Nouvelles canadiennes locales - faits divers  \n8                                Nouvelles tech   \n9                              Nouvelles science  \n10                               Nouvelles sport  \n11                                      buzzfeed  \n12                                          fake  \n13                                          fake  \n14                                          fake  \n15                                          fake  \n16                                          fake  \n17                                          fake  "
     },
     "execution_count": 52,
     "metadata": {},
     "output_type": "execute_result"
    }
   ],
   "source": [
    "sample"
   ]
  },
  {
   "cell_type": "code",
   "execution_count": 53,
   "metadata": {},
   "outputs": [],
   "source": [
    "sample_text = [article.replace('\\n', ' ') for article in sample['Article'].to_numpy()]"
   ]
  },
  {
   "cell_type": "code",
   "execution_count": 54,
   "metadata": {},
   "outputs": [
    {
     "data": {
      "text/plain": "([['__label__true'],\n  ['__label__true'],\n  ['__label__true'],\n  ['__label__true'],\n  ['__label__fake'],\n  ['__label__true'],\n  ['__label__true'],\n  ['__label__fake'],\n  ['__label__fake'],\n  ['__label__fake'],\n  ['__label__fake'],\n  ['__label__fake'],\n  ['__label__fake'],\n  ['__label__fake'],\n  ['__label__fake'],\n  ['__label__fake'],\n  ['__label__true'],\n  ['__label__fake']],\n [array([0.8655688], dtype=float32),\n  array([0.92760366], dtype=float32),\n  array([0.5219696], dtype=float32),\n  array([0.9043543], dtype=float32),\n  array([0.6802929], dtype=float32),\n  array([0.5412521], dtype=float32),\n  array([0.9857506], dtype=float32),\n  array([0.5413083], dtype=float32),\n  array([0.99955374], dtype=float32),\n  array([0.9970895], dtype=float32),\n  array([0.54190737], dtype=float32),\n  array([0.990149], dtype=float32),\n  array([0.9408776], dtype=float32),\n  array([0.96281147], dtype=float32),\n  array([0.696766], dtype=float32),\n  array([0.9502674], dtype=float32),\n  array([0.7410048], dtype=float32),\n  array([0.99911696], dtype=float32)])"
     },
     "execution_count": 54,
     "metadata": {},
     "output_type": "execute_result"
    }
   ],
   "source": [
    "prediction = model.predict(sample_text)\n",
    "prediction"
   ]
  },
  {
   "cell_type": "code",
   "execution_count": 55,
   "metadata": {},
   "outputs": [],
   "source": [
    "sample['Résultat'] = prediction[0]\n",
    "sample['Score'] = prediction[1]"
   ]
  },
  {
   "cell_type": "code",
   "execution_count": 56,
   "metadata": {},
   "outputs": [
    {
     "data": {
      "text/html": "<div>\n<style scoped>\n    .dataframe tbody tr th:only-of-type {\n        vertical-align: middle;\n    }\n\n    .dataframe tbody tr th {\n        vertical-align: top;\n    }\n\n    .dataframe thead th {\n        text-align: right;\n    }\n</style>\n<table border=\"1\" class=\"dataframe\">\n  <thead>\n    <tr style=\"text-align: right;\">\n      <th></th>\n      <th>Article</th>\n      <th>Link</th>\n      <th>Type</th>\n      <th>Résultat</th>\n      <th>Score</th>\n    </tr>\n  </thead>\n  <tbody>\n    <tr>\n      <th>0</th>\n      <td>Members of Congress may use campaign funds to ...</td>\n      <td>https://www.cnn.com/2021/03/26/politics/campai...</td>\n      <td>Nouvelles americaines - Politique</td>\n      <td>[__label__true]</td>\n      <td>[0.8655688]</td>\n    </tr>\n    <tr>\n      <th>1</th>\n      <td>Biden to unveil major new spending plans as De...</td>\n      <td>https://apple.news/AHAdrDeI2QsOHQvky_R6QKA</td>\n      <td>Nouvelles americaines - Politique</td>\n      <td>[__label__true]</td>\n      <td>[0.92760366]</td>\n    </tr>\n    <tr>\n      <th>2</th>\n      <td>Blinken suggests US won't take punitive action...</td>\n      <td>https://apple.news/AATez8h0STMeO9_-cMUvl4w</td>\n      <td>Nouvelles americaines - Politique</td>\n      <td>[__label__true]</td>\n      <td>[0.5219696]</td>\n    </tr>\n    <tr>\n      <th>3</th>\n      <td>One day before the Republican Party’s elite do...</td>\n      <td>https://apple.news/AOpNgt6jzTFmO0SeiBeI_tA</td>\n      <td>Nouvelles americaines - Politique</td>\n      <td>[__label__true]</td>\n      <td>[0.9043543]</td>\n    </tr>\n    <tr>\n      <th>4</th>\n      <td>Erin O’Toole wanted Conservatives to affirm th...</td>\n      <td>https://apple.news/AA7uTFp8pSPi_JyUAxkQLAw</td>\n      <td>Nouvelles canadiennes - Politique</td>\n      <td>[__label__fake]</td>\n      <td>[0.6802929]</td>\n    </tr>\n    <tr>\n      <th>5</th>\n      <td>Western Canada: Supreme Court upholds Ottawa’s...</td>\n      <td>https://apple.news/AwReImVYORaqXxkN82-kYnQ</td>\n      <td>Nouvelles canadiennes - Politique</td>\n      <td>[__label__true]</td>\n      <td>[0.5412521]</td>\n    </tr>\n    <tr>\n      <th>6</th>\n      <td>US-China relations: Beijing’s plan for aviatio...</td>\n      <td>https://apple.news/Ah-0sZKV0QKKmKUaMk8MklA</td>\n      <td>Nouvelles internationales - Politique</td>\n      <td>[__label__true]</td>\n      <td>[0.9857506]</td>\n    </tr>\n    <tr>\n      <th>7</th>\n      <td>West Coast Trail will reopen to Canadian hiker...</td>\n      <td>https://apple.news/Axn6cI_0TRtK6r0gAH2oD0g</td>\n      <td>Nouvelles canadiennes locales - faits divers</td>\n      <td>[__label__fake]</td>\n      <td>[0.5413083]</td>\n    </tr>\n    <tr>\n      <th>8</th>\n      <td>iOS 14.5 beta 5 is now available to developer ...</td>\n      <td>https://apple.news/AvwAnqPIrRnmSwMTh0UQ2dg</td>\n      <td>Nouvelles tech</td>\n      <td>[__label__fake]</td>\n      <td>[0.99955374]</td>\n    </tr>\n    <tr>\n      <th>9</th>\n      <td>A New Snapshot of a Black Hole Reveals Its Mys...</td>\n      <td>https://apple.news/A4-miuWiySUye_iTyOTS8uw</td>\n      <td>Nouvelles science</td>\n      <td>[__label__fake]</td>\n      <td>[0.9970895]</td>\n    </tr>\n    <tr>\n      <th>10</th>\n      <td>Canadiens acquire Eric Staal from the Buffalo ...</td>\n      <td>https://www.nhl.com/canadiens/news/canadiens-a...</td>\n      <td>Nouvelles sport</td>\n      <td>[__label__fake]</td>\n      <td>[0.54190737]</td>\n    </tr>\n    <tr>\n      <th>11</th>\n      <td>Just 30 More Awesome Products That We Found Sc...</td>\n      <td>https://www.buzzfeed.com/mayning/tiktok-produc...</td>\n      <td>buzzfeed</td>\n      <td>[__label__fake]</td>\n      <td>[0.990149]</td>\n    </tr>\n    <tr>\n      <th>12</th>\n      <td>Trump Releases Footage of Yet-to-Air 60 Minute...</td>\n      <td>https://nymag.com/intelligencer/2020/10/trump-...</td>\n      <td>fake</td>\n      <td>[__label__fake]</td>\n      <td>[0.9408776]</td>\n    </tr>\n    <tr>\n      <th>13</th>\n      <td>Source: Biden to Debate Wearing Brain Implant,...</td>\n      <td>https://nymag.com/intelligencer/2020/09/trump-...</td>\n      <td>fake</td>\n      <td>[__label__fake]</td>\n      <td>[0.96281147]</td>\n    </tr>\n    <tr>\n      <th>14</th>\n      <td>Vatican Cardinal: In a Globalized World, ‘Ther...</td>\n      <td>https://www.infowars.com/posts/vatican-cardina...</td>\n      <td>fake</td>\n      <td>[__label__fake]</td>\n      <td>[0.696766]</td>\n    </tr>\n    <tr>\n      <th>15</th>\n      <td>Texas GOP Votes To Delete Its Gab Account Afte...</td>\n      <td>https://www.infowars.com/posts/texas-gop-votes...</td>\n      <td>fake</td>\n      <td>[__label__fake]</td>\n      <td>[0.9502674]</td>\n    </tr>\n    <tr>\n      <th>16</th>\n      <td>Here Come The Global Vaccine Passports Vaccina...</td>\n      <td>https://www.infowars.com/posts/here-come-the-g...</td>\n      <td>fake</td>\n      <td>[__label__true]</td>\n      <td>[0.7410048]</td>\n    </tr>\n    <tr>\n      <th>17</th>\n      <td>Nolte: Whites Excluded, Illegal Aliens Qualify...</td>\n      <td>https://www.breitbart.com/politics/2021/03/26/...</td>\n      <td>fake</td>\n      <td>[__label__fake]</td>\n      <td>[0.99911696]</td>\n    </tr>\n  </tbody>\n</table>\n</div>",
      "text/plain": "                                              Article  \\\n0   Members of Congress may use campaign funds to ...   \n1   Biden to unveil major new spending plans as De...   \n2   Blinken suggests US won't take punitive action...   \n3   One day before the Republican Party’s elite do...   \n4   Erin O’Toole wanted Conservatives to affirm th...   \n5   Western Canada: Supreme Court upholds Ottawa’s...   \n6   US-China relations: Beijing’s plan for aviatio...   \n7   West Coast Trail will reopen to Canadian hiker...   \n8   iOS 14.5 beta 5 is now available to developer ...   \n9   A New Snapshot of a Black Hole Reveals Its Mys...   \n10  Canadiens acquire Eric Staal from the Buffalo ...   \n11  Just 30 More Awesome Products That We Found Sc...   \n12  Trump Releases Footage of Yet-to-Air 60 Minute...   \n13  Source: Biden to Debate Wearing Brain Implant,...   \n14  Vatican Cardinal: In a Globalized World, ‘Ther...   \n15  Texas GOP Votes To Delete Its Gab Account Afte...   \n16  Here Come The Global Vaccine Passports Vaccina...   \n17  Nolte: Whites Excluded, Illegal Aliens Qualify...   \n\n                                                 Link  \\\n0   https://www.cnn.com/2021/03/26/politics/campai...   \n1          https://apple.news/AHAdrDeI2QsOHQvky_R6QKA   \n2          https://apple.news/AATez8h0STMeO9_-cMUvl4w   \n3          https://apple.news/AOpNgt6jzTFmO0SeiBeI_tA   \n4          https://apple.news/AA7uTFp8pSPi_JyUAxkQLAw   \n5          https://apple.news/AwReImVYORaqXxkN82-kYnQ   \n6          https://apple.news/Ah-0sZKV0QKKmKUaMk8MklA   \n7          https://apple.news/Axn6cI_0TRtK6r0gAH2oD0g   \n8          https://apple.news/AvwAnqPIrRnmSwMTh0UQ2dg   \n9          https://apple.news/A4-miuWiySUye_iTyOTS8uw   \n10  https://www.nhl.com/canadiens/news/canadiens-a...   \n11  https://www.buzzfeed.com/mayning/tiktok-produc...   \n12  https://nymag.com/intelligencer/2020/10/trump-...   \n13  https://nymag.com/intelligencer/2020/09/trump-...   \n14  https://www.infowars.com/posts/vatican-cardina...   \n15  https://www.infowars.com/posts/texas-gop-votes...   \n16  https://www.infowars.com/posts/here-come-the-g...   \n17  https://www.breitbart.com/politics/2021/03/26/...   \n\n                                            Type         Résultat  \\\n0              Nouvelles americaines - Politique  [__label__true]   \n1              Nouvelles americaines - Politique  [__label__true]   \n2              Nouvelles americaines - Politique  [__label__true]   \n3              Nouvelles americaines - Politique  [__label__true]   \n4              Nouvelles canadiennes - Politique  [__label__fake]   \n5              Nouvelles canadiennes - Politique  [__label__true]   \n6          Nouvelles internationales - Politique  [__label__true]   \n7   Nouvelles canadiennes locales - faits divers  [__label__fake]   \n8                                Nouvelles tech   [__label__fake]   \n9                              Nouvelles science  [__label__fake]   \n10                               Nouvelles sport  [__label__fake]   \n11                                      buzzfeed  [__label__fake]   \n12                                          fake  [__label__fake]   \n13                                          fake  [__label__fake]   \n14                                          fake  [__label__fake]   \n15                                          fake  [__label__fake]   \n16                                          fake  [__label__true]   \n17                                          fake  [__label__fake]   \n\n           Score  \n0    [0.8655688]  \n1   [0.92760366]  \n2    [0.5219696]  \n3    [0.9043543]  \n4    [0.6802929]  \n5    [0.5412521]  \n6    [0.9857506]  \n7    [0.5413083]  \n8   [0.99955374]  \n9    [0.9970895]  \n10  [0.54190737]  \n11    [0.990149]  \n12   [0.9408776]  \n13  [0.96281147]  \n14    [0.696766]  \n15   [0.9502674]  \n16   [0.7410048]  \n17  [0.99911696]  "
     },
     "execution_count": 56,
     "metadata": {},
     "output_type": "execute_result"
    }
   ],
   "source": [
    "sample"
   ]
  }
 ],
 "metadata": {
  "kernelspec": {
   "display_name": "Python 3.8.8 64-bit ('base': conda)",
   "name": "python388jvsc74a57bd0edd520d6644a321125cc4a079653ea19f3677dde8ec49922823a2d76c0a5a38b"
  },
  "language_info": {
   "codemirror_mode": {
    "name": "ipython",
    "version": 3
   },
   "file_extension": ".py",
   "mimetype": "text/x-python",
   "name": "python",
   "nbconvert_exporter": "python",
   "pygments_lexer": "ipython3",
   "version": "3.8.8"
  },
  "orig_nbformat": 2
 },
 "nbformat": 4,
 "nbformat_minor": 2
}