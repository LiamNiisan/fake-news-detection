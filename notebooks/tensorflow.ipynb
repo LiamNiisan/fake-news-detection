{
 "cells": [
  {
   "cell_type": "code",
   "execution_count": 1,
   "metadata": {},
   "outputs": [],
   "source": [
    "import os, sys"
   ]
  },
  {
   "cell_type": "code",
   "execution_count": 2,
   "metadata": {},
   "outputs": [
    {
     "data": {
      "text/plain": "'/Users/badr/Documents/ETS/Hiv2021/PFE/VS/git/fake-news-detection/notebooks'"
     },
     "execution_count": 2,
     "metadata": {},
     "output_type": "execute_result"
    }
   ],
   "source": [
    "cwd = os.getcwd()\n",
    "cwd"
   ]
  },
  {
   "cell_type": "code",
   "execution_count": 3,
   "metadata": {},
   "outputs": [],
   "source": [
    "main_repository = os.path.join(cwd, os.pardir)"
   ]
  },
  {
   "cell_type": "code",
   "execution_count": 4,
   "metadata": {},
   "outputs": [],
   "source": [
    "sys.path.append(os.path.join(main_repository, 'src'))"
   ]
  },
  {
   "cell_type": "markdown",
   "metadata": {},
   "source": [
    "## Create Tensorflow Object"
   ]
  },
  {
   "cell_type": "code",
   "execution_count": 5,
   "metadata": {},
   "outputs": [],
   "source": [
    "from tensorflow_model.TensorflowModel import TensorflowModel"
   ]
  },
  {
   "cell_type": "code",
   "execution_count": 6,
   "metadata": {},
   "outputs": [],
   "source": [
    "Tensorflow = TensorflowModel(main_repository, 5)"
   ]
  },
  {
   "cell_type": "markdown",
   "metadata": {},
   "source": [
    "## Prepare Data for Training"
   ]
  },
  {
   "cell_type": "code",
   "execution_count": null,
   "metadata": {},
   "outputs": [],
   "source": [
    "Tensorflow.preprocess()"
   ]
  },
  {
   "cell_type": "code",
   "execution_count": 7,
   "metadata": {},
   "outputs": [
    {
     "name": "stderr",
     "output_type": "stream",
     "text": [
      "100%|██████████| 5/5 [01:48<00:00, 21.67s/it]\n"
     ]
    }
   ],
   "source": [
    "Tensorflow.format()"
   ]
  },
  {
   "cell_type": "markdown",
   "metadata": {},
   "source": [
    "## Training"
   ]
  },
  {
   "cell_type": "code",
   "execution_count": 75,
   "metadata": {},
   "outputs": [
    {
     "name": "stderr",
     "output_type": "stream",
     "text": [
      "  0%|          | 0/5 [00:00<?, ?it/s]"
     ]
    },
    {
     "name": "stdout",
     "output_type": "stream",
     "text": [
      "Found 28746 files belonging to 2 classes.\n",
      "Found 7188 files belonging to 2 classes.\n",
      "Epoch 1/40\n",
      "899/899 [==============================] - 10s 11ms/step - loss: 0.5644 - binary_accuracy: 0.7730 - val_loss: 0.4996 - val_binary_accuracy: 0.6829\n",
      "Epoch 2/40\n",
      "899/899 [==============================] - 2s 2ms/step - loss: 0.1996 - binary_accuracy: 0.9482 - val_loss: 0.4473 - val_binary_accuracy: 0.7400\n",
      "Epoch 3/40\n",
      "899/899 [==============================] - 2s 2ms/step - loss: 0.1279 - binary_accuracy: 0.9619 - val_loss: 0.3880 - val_binary_accuracy: 0.7960\n",
      "Epoch 4/40\n",
      "899/899 [==============================] - 1s 1ms/step - loss: 0.0975 - binary_accuracy: 0.9706 - val_loss: 0.3288 - val_binary_accuracy: 0.8428\n",
      "Epoch 5/40\n",
      "899/899 [==============================] - 2s 2ms/step - loss: 0.0788 - binary_accuracy: 0.9752 - val_loss: 0.2754 - val_binary_accuracy: 0.8752\n",
      "Epoch 6/40\n",
      "899/899 [==============================] - 1s 1ms/step - loss: 0.0673 - binary_accuracy: 0.9783 - val_loss: 0.2388 - val_binary_accuracy: 0.9001\n",
      "Epoch 7/40\n",
      "899/899 [==============================] - 1s 1ms/step - loss: 0.0586 - binary_accuracy: 0.9809 - val_loss: 0.2128 - val_binary_accuracy: 0.9157\n",
      "Epoch 8/40\n",
      "899/899 [==============================] - 1s 1ms/step - loss: 0.0522 - binary_accuracy: 0.9832 - val_loss: 0.1838 - val_binary_accuracy: 0.9313\n",
      "Epoch 9/40\n",
      "899/899 [==============================] - 1s 1ms/step - loss: 0.0476 - binary_accuracy: 0.9853 - val_loss: 0.1626 - val_binary_accuracy: 0.9431\n",
      "Epoch 10/40\n",
      "899/899 [==============================] - 1s 1ms/step - loss: 0.0451 - binary_accuracy: 0.9853 - val_loss: 0.1533 - val_binary_accuracy: 0.9477\n",
      "Epoch 11/40\n",
      "899/899 [==============================] - 1s 1ms/step - loss: 0.0426 - binary_accuracy: 0.9861 - val_loss: 0.1487 - val_binary_accuracy: 0.9503\n",
      "Epoch 12/40\n",
      "899/899 [==============================] - 1s 1ms/step - loss: 0.0413 - binary_accuracy: 0.9866 - val_loss: 0.1355 - val_binary_accuracy: 0.9542\n",
      "Epoch 13/40\n",
      "899/899 [==============================] - 1s 1ms/step - loss: 0.0402 - binary_accuracy: 0.9866 - val_loss: 0.1316 - val_binary_accuracy: 0.9570\n",
      "Epoch 14/40\n",
      "899/899 [==============================] - 1s 1ms/step - loss: 0.0391 - binary_accuracy: 0.9877 - val_loss: 0.1316 - val_binary_accuracy: 0.9574\n",
      "Epoch 15/40\n",
      "899/899 [==============================] - 1s 1ms/step - loss: 0.0383 - binary_accuracy: 0.9882 - val_loss: 0.1260 - val_binary_accuracy: 0.9587\n",
      "Epoch 16/40\n",
      "899/899 [==============================] - 1s 2ms/step - loss: 0.0378 - binary_accuracy: 0.9874 - val_loss: 0.1208 - val_binary_accuracy: 0.9606\n",
      "Epoch 17/40\n",
      "899/899 [==============================] - 1s 1ms/step - loss: 0.0373 - binary_accuracy: 0.9878 - val_loss: 0.1176 - val_binary_accuracy: 0.9619\n",
      "Epoch 18/40\n",
      "899/899 [==============================] - 1s 1ms/step - loss: 0.0376 - binary_accuracy: 0.9880 - val_loss: 0.1136 - val_binary_accuracy: 0.9638\n",
      "Epoch 19/40\n",
      "899/899 [==============================] - 1s 1ms/step - loss: 0.0361 - binary_accuracy: 0.9887 - val_loss: 0.1204 - val_binary_accuracy: 0.9623\n",
      "Epoch 20/40\n",
      "899/899 [==============================] - 1s 1ms/step - loss: 0.0363 - binary_accuracy: 0.9887 - val_loss: 0.1139 - val_binary_accuracy: 0.9645\n",
      "Epoch 21/40\n",
      "899/899 [==============================] - 1s 1ms/step - loss: 0.0361 - binary_accuracy: 0.9886 - val_loss: 0.1180 - val_binary_accuracy: 0.9631\n",
      "Epoch 22/40\n",
      "899/899 [==============================] - 1s 1ms/step - loss: 0.0361 - binary_accuracy: 0.9889 - val_loss: 0.1127 - val_binary_accuracy: 0.9651\n",
      "Epoch 23/40\n",
      "899/899 [==============================] - 1s 2ms/step - loss: 0.0357 - binary_accuracy: 0.9887 - val_loss: 0.1161 - val_binary_accuracy: 0.9641\n",
      "Epoch 24/40\n",
      "899/899 [==============================] - 1s 1ms/step - loss: 0.0357 - binary_accuracy: 0.9883 - val_loss: 0.1156 - val_binary_accuracy: 0.9651\n",
      "Epoch 25/40\n",
      "899/899 [==============================] - 2s 2ms/step - loss: 0.0367 - binary_accuracy: 0.9890 - val_loss: 0.1137 - val_binary_accuracy: 0.9654\n",
      "Epoch 26/40\n",
      "899/899 [==============================] - 1s 2ms/step - loss: 0.0349 - binary_accuracy: 0.9894 - val_loss: 0.1134 - val_binary_accuracy: 0.9656\n",
      "Epoch 27/40\n",
      "899/899 [==============================] - 1s 2ms/step - loss: 0.0342 - binary_accuracy: 0.9889 - val_loss: 0.1148 - val_binary_accuracy: 0.9655\n",
      "Epoch 28/40\n",
      "899/899 [==============================] - 2s 2ms/step - loss: 0.0348 - binary_accuracy: 0.9892 - val_loss: 0.1150 - val_binary_accuracy: 0.9656\n",
      "Epoch 29/40\n",
      "899/899 [==============================] - 1s 2ms/step - loss: 0.0353 - binary_accuracy: 0.9891 - val_loss: 0.1085 - val_binary_accuracy: 0.9673\n",
      "Epoch 30/40\n",
      "899/899 [==============================] - 1s 2ms/step - loss: 0.0355 - binary_accuracy: 0.9891 - val_loss: 0.1177 - val_binary_accuracy: 0.9647\n",
      "Epoch 31/40\n",
      "899/899 [==============================] - 2s 2ms/step - loss: 0.0348 - binary_accuracy: 0.9895 - val_loss: 0.1202 - val_binary_accuracy: 0.9641\n",
      "Epoch 32/40\n",
      "899/899 [==============================] - 2s 2ms/step - loss: 0.0360 - binary_accuracy: 0.9890 - val_loss: 0.1179 - val_binary_accuracy: 0.9648\n",
      "Epoch 33/40\n",
      "899/899 [==============================] - 2s 2ms/step - loss: 0.0348 - binary_accuracy: 0.9887 - val_loss: 0.1161 - val_binary_accuracy: 0.9654\n",
      "Epoch 34/40\n",
      "899/899 [==============================] - 2s 2ms/step - loss: 0.0348 - binary_accuracy: 0.9894 - val_loss: 0.1182 - val_binary_accuracy: 0.9641\n",
      "Epoch 35/40\n",
      "899/899 [==============================] - 2s 2ms/step - loss: 0.0348 - binary_accuracy: 0.9890 - val_loss: 0.1146 - val_binary_accuracy: 0.9666\n",
      "Epoch 36/40\n",
      "899/899 [==============================] - 2s 2ms/step - loss: 0.0346 - binary_accuracy: 0.9887 - val_loss: 0.1196 - val_binary_accuracy: 0.9649\n",
      "Epoch 37/40\n",
      "899/899 [==============================] - 2s 2ms/step - loss: 0.0348 - binary_accuracy: 0.9887 - val_loss: 0.1209 - val_binary_accuracy: 0.9645\n",
      "Epoch 38/40\n",
      "899/899 [==============================] - 2s 2ms/step - loss: 0.0347 - binary_accuracy: 0.9891 - val_loss: 0.1135 - val_binary_accuracy: 0.9666\n",
      "Epoch 39/40\n",
      "899/899 [==============================] - 2s 2ms/step - loss: 0.0351 - binary_accuracy: 0.9889 - val_loss: 0.1177 - val_binary_accuracy: 0.9662\n",
      "Epoch 40/40\n",
      "899/899 [==============================] - 2s 2ms/step - loss: 0.0346 - binary_accuracy: 0.9888 - val_loss: 0.1156 - val_binary_accuracy: 0.9666\n",
      "225/225 [==============================] - 4s 13ms/step - loss: 0.1258 - accuracy: 0.9626 - precision_13: 0.9944\n",
      "INFO:tensorflow:Assets written to: /Users/badr/Documents/ETS/Hiv2021/PFE/VS/git/fake-news-detection/notebooks/../models/tensorflow/model_1/assets\n"
     ]
    },
    {
     "name": "stderr",
     "output_type": "stream",
     "text": [
      " 20%|██        | 1/5 [01:31<06:05, 91.43s/it]"
     ]
    },
    {
     "name": "stdout",
     "output_type": "stream",
     "text": [
      "Found 28746 files belonging to 2 classes.\n",
      "Found 7188 files belonging to 2 classes.\n",
      "Epoch 1/40\n",
      "899/899 [==============================] - 19s 21ms/step - loss: 0.5677 - binary_accuracy: 0.7602 - val_loss: 0.4981 - val_binary_accuracy: 0.6838\n",
      "Epoch 2/40\n",
      "899/899 [==============================] - 2s 2ms/step - loss: 0.2025 - binary_accuracy: 0.9464 - val_loss: 0.4390 - val_binary_accuracy: 0.7531\n",
      "Epoch 3/40\n",
      "899/899 [==============================] - 2s 2ms/step - loss: 0.1301 - binary_accuracy: 0.9601 - val_loss: 0.3765 - val_binary_accuracy: 0.8054\n",
      "Epoch 4/40\n",
      "899/899 [==============================] - 3s 3ms/step - loss: 0.0987 - binary_accuracy: 0.9685 - val_loss: 0.3272 - val_binary_accuracy: 0.8410\n",
      "Epoch 5/40\n",
      "899/899 [==============================] - 3s 3ms/step - loss: 0.0803 - binary_accuracy: 0.9736 - val_loss: 0.2721 - val_binary_accuracy: 0.8785\n",
      "Epoch 6/40\n",
      "899/899 [==============================] - 2s 3ms/step - loss: 0.0675 - binary_accuracy: 0.9783 - val_loss: 0.2449 - val_binary_accuracy: 0.8965\n",
      "Epoch 7/40\n",
      "899/899 [==============================] - 3s 3ms/step - loss: 0.0579 - binary_accuracy: 0.9812 - val_loss: 0.2095 - val_binary_accuracy: 0.9161\n",
      "Epoch 8/40\n",
      "899/899 [==============================] - 3s 3ms/step - loss: 0.0509 - binary_accuracy: 0.9833 - val_loss: 0.1873 - val_binary_accuracy: 0.9303\n",
      "Epoch 9/40\n",
      "899/899 [==============================] - 2s 3ms/step - loss: 0.0475 - binary_accuracy: 0.9853 - val_loss: 0.1710 - val_binary_accuracy: 0.9405\n",
      "Epoch 10/40\n",
      "899/899 [==============================] - 2s 3ms/step - loss: 0.0426 - binary_accuracy: 0.9874 - val_loss: 0.1547 - val_binary_accuracy: 0.9488\n",
      "Epoch 11/40\n",
      "899/899 [==============================] - 3s 3ms/step - loss: 0.0408 - binary_accuracy: 0.9880 - val_loss: 0.1497 - val_binary_accuracy: 0.9524\n",
      "Epoch 12/40\n",
      "899/899 [==============================] - 3s 3ms/step - loss: 0.0392 - binary_accuracy: 0.9883 - val_loss: 0.1414 - val_binary_accuracy: 0.9558\n",
      "Epoch 13/40\n",
      "899/899 [==============================] - 2s 2ms/step - loss: 0.0382 - binary_accuracy: 0.9891 - val_loss: 0.1364 - val_binary_accuracy: 0.9591\n",
      "Epoch 14/40\n",
      "899/899 [==============================] - 3s 3ms/step - loss: 0.0365 - binary_accuracy: 0.9891 - val_loss: 0.1312 - val_binary_accuracy: 0.9605\n",
      "Epoch 15/40\n",
      "899/899 [==============================] - 2s 2ms/step - loss: 0.0355 - binary_accuracy: 0.9899 - val_loss: 0.1223 - val_binary_accuracy: 0.9617\n",
      "Epoch 16/40\n",
      "899/899 [==============================] - 3s 3ms/step - loss: 0.0349 - binary_accuracy: 0.9905 - val_loss: 0.1282 - val_binary_accuracy: 0.9610\n",
      "Epoch 17/40\n",
      "899/899 [==============================] - 2s 3ms/step - loss: 0.0348 - binary_accuracy: 0.9897 - val_loss: 0.1258 - val_binary_accuracy: 0.9619\n",
      "Epoch 18/40\n",
      "899/899 [==============================] - 2s 2ms/step - loss: 0.0340 - binary_accuracy: 0.9905 - val_loss: 0.1274 - val_binary_accuracy: 0.9619\n",
      "Epoch 19/40\n",
      "899/899 [==============================] - 2s 3ms/step - loss: 0.0330 - binary_accuracy: 0.9898 - val_loss: 0.1259 - val_binary_accuracy: 0.9623\n",
      "Epoch 20/40\n",
      "899/899 [==============================] - 2s 2ms/step - loss: 0.0326 - binary_accuracy: 0.9907 - val_loss: 0.1267 - val_binary_accuracy: 0.9624\n",
      "Epoch 21/40\n",
      "899/899 [==============================] - 2s 2ms/step - loss: 0.0326 - binary_accuracy: 0.9902 - val_loss: 0.1210 - val_binary_accuracy: 0.9627\n",
      "Epoch 22/40\n",
      "899/899 [==============================] - 2s 3ms/step - loss: 0.0326 - binary_accuracy: 0.9903 - val_loss: 0.1255 - val_binary_accuracy: 0.9626\n",
      "Epoch 23/40\n",
      "899/899 [==============================] - 2s 3ms/step - loss: 0.0324 - binary_accuracy: 0.9904 - val_loss: 0.1207 - val_binary_accuracy: 0.9640\n",
      "Epoch 24/40\n",
      "899/899 [==============================] - 2s 3ms/step - loss: 0.0321 - binary_accuracy: 0.9907 - val_loss: 0.1181 - val_binary_accuracy: 0.9642\n",
      "Epoch 25/40\n",
      "899/899 [==============================] - 3s 3ms/step - loss: 0.0315 - binary_accuracy: 0.9906 - val_loss: 0.1197 - val_binary_accuracy: 0.9644\n",
      "Epoch 26/40\n",
      "899/899 [==============================] - 2s 2ms/step - loss: 0.0313 - binary_accuracy: 0.9906 - val_loss: 0.1225 - val_binary_accuracy: 0.9641\n",
      "Epoch 27/40\n",
      "899/899 [==============================] - 2s 2ms/step - loss: 0.0317 - binary_accuracy: 0.9904 - val_loss: 0.1195 - val_binary_accuracy: 0.9647\n",
      "Epoch 28/40\n",
      "899/899 [==============================] - 2s 2ms/step - loss: 0.0312 - binary_accuracy: 0.9905 - val_loss: 0.1203 - val_binary_accuracy: 0.9647\n",
      "Epoch 29/40\n",
      "899/899 [==============================] - 2s 2ms/step - loss: 0.0303 - binary_accuracy: 0.9915 - val_loss: 0.1232 - val_binary_accuracy: 0.9644\n",
      "Epoch 30/40\n",
      "899/899 [==============================] - 2s 2ms/step - loss: 0.0305 - binary_accuracy: 0.9909 - val_loss: 0.1204 - val_binary_accuracy: 0.9647\n",
      "Epoch 31/40\n",
      "899/899 [==============================] - 1s 2ms/step - loss: 0.0300 - binary_accuracy: 0.9913 - val_loss: 0.1235 - val_binary_accuracy: 0.9644\n",
      "Epoch 32/40\n",
      "899/899 [==============================] - 1s 1ms/step - loss: 0.0309 - binary_accuracy: 0.9901 - val_loss: 0.1214 - val_binary_accuracy: 0.9648\n",
      "Epoch 33/40\n",
      "899/899 [==============================] - 1s 1ms/step - loss: 0.0310 - binary_accuracy: 0.9906 - val_loss: 0.1147 - val_binary_accuracy: 0.9656\n",
      "Epoch 34/40\n",
      "899/899 [==============================] - 1s 2ms/step - loss: 0.0308 - binary_accuracy: 0.9911 - val_loss: 0.1284 - val_binary_accuracy: 0.9640\n",
      "Epoch 35/40\n",
      "899/899 [==============================] - 1s 2ms/step - loss: 0.0311 - binary_accuracy: 0.9906 - val_loss: 0.1227 - val_binary_accuracy: 0.9647\n",
      "Epoch 36/40\n",
      "899/899 [==============================] - 1s 2ms/step - loss: 0.0309 - binary_accuracy: 0.9908 - val_loss: 0.1196 - val_binary_accuracy: 0.9651\n",
      "Epoch 37/40\n",
      "899/899 [==============================] - 1s 2ms/step - loss: 0.0298 - binary_accuracy: 0.9909 - val_loss: 0.1203 - val_binary_accuracy: 0.9651\n",
      "Epoch 38/40\n",
      "899/899 [==============================] - 1s 2ms/step - loss: 0.0301 - binary_accuracy: 0.9909 - val_loss: 0.1254 - val_binary_accuracy: 0.9647\n",
      "Epoch 39/40\n",
      "899/899 [==============================] - 1s 2ms/step - loss: 0.0305 - binary_accuracy: 0.9905 - val_loss: 0.1170 - val_binary_accuracy: 0.9654\n",
      "Epoch 40/40\n",
      "899/899 [==============================] - 1s 2ms/step - loss: 0.0303 - binary_accuracy: 0.9903 - val_loss: 0.1216 - val_binary_accuracy: 0.9654\n",
      "225/225 [==============================] - 4s 14ms/step - loss: 0.1185 - accuracy: 0.9660 - precision_14: 0.9948\n",
      "INFO:tensorflow:Assets written to: /Users/badr/Documents/ETS/Hiv2021/PFE/VS/git/fake-news-detection/notebooks/../models/tensorflow/model_2/assets\n"
     ]
    },
    {
     "name": "stderr",
     "output_type": "stream",
     "text": [
      " 40%|████      | 2/5 [03:35<05:31, 110.66s/it]"
     ]
    },
    {
     "name": "stdout",
     "output_type": "stream",
     "text": [
      "Found 28748 files belonging to 2 classes.\n",
      "Found 7188 files belonging to 2 classes.\n",
      "Epoch 1/40\n",
      "899/899 [==============================] - 17s 18ms/step - loss: 0.5683 - binary_accuracy: 0.7353 - val_loss: 0.5012 - val_binary_accuracy: 0.6848\n",
      "Epoch 2/40\n",
      "899/899 [==============================] - 2s 2ms/step - loss: 0.1995 - binary_accuracy: 0.9461 - val_loss: 0.4589 - val_binary_accuracy: 0.7411\n",
      "Epoch 3/40\n",
      "899/899 [==============================] - 2s 2ms/step - loss: 0.1289 - binary_accuracy: 0.9618 - val_loss: 0.3953 - val_binary_accuracy: 0.7962\n",
      "Epoch 4/40\n",
      "899/899 [==============================] - 3s 3ms/step - loss: 0.0976 - binary_accuracy: 0.9702 - val_loss: 0.3516 - val_binary_accuracy: 0.8299\n",
      "Epoch 5/40\n",
      "899/899 [==============================] - 3s 3ms/step - loss: 0.0790 - binary_accuracy: 0.9751 - val_loss: 0.2936 - val_binary_accuracy: 0.8669\n",
      "Epoch 6/40\n",
      "899/899 [==============================] - 2s 2ms/step - loss: 0.0665 - binary_accuracy: 0.9789 - val_loss: 0.2525 - val_binary_accuracy: 0.8941\n",
      "Epoch 7/40\n",
      "899/899 [==============================] - 2s 2ms/step - loss: 0.0582 - binary_accuracy: 0.9810 - val_loss: 0.2260 - val_binary_accuracy: 0.9111\n",
      "Epoch 8/40\n",
      "899/899 [==============================] - 2s 2ms/step - loss: 0.0510 - binary_accuracy: 0.9828 - val_loss: 0.2004 - val_binary_accuracy: 0.9256\n",
      "Epoch 9/40\n",
      "899/899 [==============================] - 2s 2ms/step - loss: 0.0469 - binary_accuracy: 0.9846 - val_loss: 0.1824 - val_binary_accuracy: 0.9360\n",
      "Epoch 10/40\n",
      "899/899 [==============================] - 2s 2ms/step - loss: 0.0422 - binary_accuracy: 0.9860 - val_loss: 0.1692 - val_binary_accuracy: 0.9437\n",
      "Epoch 11/40\n",
      "899/899 [==============================] - 2s 2ms/step - loss: 0.0397 - binary_accuracy: 0.9866 - val_loss: 0.1537 - val_binary_accuracy: 0.9499\n",
      "Epoch 12/40\n",
      "899/899 [==============================] - 2s 2ms/step - loss: 0.0376 - binary_accuracy: 0.9873 - val_loss: 0.1528 - val_binary_accuracy: 0.9513\n",
      "Epoch 13/40\n",
      "899/899 [==============================] - 2s 2ms/step - loss: 0.0358 - binary_accuracy: 0.9882 - val_loss: 0.1462 - val_binary_accuracy: 0.9537\n",
      "Epoch 14/40\n",
      "899/899 [==============================] - 2s 2ms/step - loss: 0.0352 - binary_accuracy: 0.9883 - val_loss: 0.1394 - val_binary_accuracy: 0.9556\n",
      "Epoch 15/40\n",
      "899/899 [==============================] - 2s 2ms/step - loss: 0.0339 - binary_accuracy: 0.9884 - val_loss: 0.1413 - val_binary_accuracy: 0.9558\n",
      "Epoch 16/40\n",
      "899/899 [==============================] - 2s 3ms/step - loss: 0.0339 - binary_accuracy: 0.9888 - val_loss: 0.1415 - val_binary_accuracy: 0.9565\n",
      "Epoch 17/40\n",
      "899/899 [==============================] - 2s 3ms/step - loss: 0.0327 - binary_accuracy: 0.9892 - val_loss: 0.1357 - val_binary_accuracy: 0.9581\n",
      "Epoch 18/40\n",
      "899/899 [==============================] - 2s 2ms/step - loss: 0.0324 - binary_accuracy: 0.9893 - val_loss: 0.1340 - val_binary_accuracy: 0.9594\n",
      "Epoch 19/40\n",
      "899/899 [==============================] - 2s 3ms/step - loss: 0.0321 - binary_accuracy: 0.9891 - val_loss: 0.1376 - val_binary_accuracy: 0.9585\n",
      "Epoch 20/40\n",
      "899/899 [==============================] - 2s 3ms/step - loss: 0.0313 - binary_accuracy: 0.9897 - val_loss: 0.1325 - val_binary_accuracy: 0.9608\n",
      "Epoch 21/40\n",
      "899/899 [==============================] - 2s 2ms/step - loss: 0.0313 - binary_accuracy: 0.9896 - val_loss: 0.1359 - val_binary_accuracy: 0.9599\n",
      "Epoch 22/40\n",
      "899/899 [==============================] - 2s 2ms/step - loss: 0.0308 - binary_accuracy: 0.9892 - val_loss: 0.1285 - val_binary_accuracy: 0.9622\n",
      "Epoch 23/40\n",
      "899/899 [==============================] - 2s 2ms/step - loss: 0.0294 - binary_accuracy: 0.9901 - val_loss: 0.1308 - val_binary_accuracy: 0.9616\n",
      "Epoch 24/40\n",
      "899/899 [==============================] - 2s 2ms/step - loss: 0.0300 - binary_accuracy: 0.9905 - val_loss: 0.1335 - val_binary_accuracy: 0.9610\n",
      "Epoch 25/40\n",
      "899/899 [==============================] - 2s 2ms/step - loss: 0.0302 - binary_accuracy: 0.9901 - val_loss: 0.1324 - val_binary_accuracy: 0.9615\n",
      "Epoch 26/40\n",
      "899/899 [==============================] - 2s 2ms/step - loss: 0.0301 - binary_accuracy: 0.9901 - val_loss: 0.1321 - val_binary_accuracy: 0.9619\n",
      "Epoch 27/40\n",
      "899/899 [==============================] - 2s 2ms/step - loss: 0.0305 - binary_accuracy: 0.9900 - val_loss: 0.1357 - val_binary_accuracy: 0.9610\n",
      "Epoch 28/40\n",
      "899/899 [==============================] - 2s 3ms/step - loss: 0.0302 - binary_accuracy: 0.9906 - val_loss: 0.1392 - val_binary_accuracy: 0.9605\n",
      "Epoch 29/40\n",
      "899/899 [==============================] - 2s 2ms/step - loss: 0.0296 - binary_accuracy: 0.9905 - val_loss: 0.1342 - val_binary_accuracy: 0.9617\n",
      "Epoch 30/40\n",
      "899/899 [==============================] - 2s 2ms/step - loss: 0.0298 - binary_accuracy: 0.9901 - val_loss: 0.1319 - val_binary_accuracy: 0.9620\n",
      "Epoch 31/40\n",
      "899/899 [==============================] - 2s 2ms/step - loss: 0.0287 - binary_accuracy: 0.9902 - val_loss: 0.1378 - val_binary_accuracy: 0.9609\n",
      "Epoch 32/40\n",
      "899/899 [==============================] - 2s 2ms/step - loss: 0.0301 - binary_accuracy: 0.9897 - val_loss: 0.1352 - val_binary_accuracy: 0.9616\n",
      "Epoch 33/40\n",
      "899/899 [==============================] - 2s 2ms/step - loss: 0.0289 - binary_accuracy: 0.9906 - val_loss: 0.1365 - val_binary_accuracy: 0.9615\n",
      "Epoch 34/40\n",
      "899/899 [==============================] - 2s 2ms/step - loss: 0.0290 - binary_accuracy: 0.9903 - val_loss: 0.1407 - val_binary_accuracy: 0.9610\n",
      "Epoch 35/40\n",
      "899/899 [==============================] - 2s 2ms/step - loss: 0.0295 - binary_accuracy: 0.9900 - val_loss: 0.1406 - val_binary_accuracy: 0.9609\n",
      "Epoch 36/40\n",
      "899/899 [==============================] - 2s 2ms/step - loss: 0.0294 - binary_accuracy: 0.9908 - val_loss: 0.1459 - val_binary_accuracy: 0.9605\n",
      "Epoch 37/40\n",
      "899/899 [==============================] - 2s 2ms/step - loss: 0.0285 - binary_accuracy: 0.9906 - val_loss: 0.1408 - val_binary_accuracy: 0.9612\n",
      "Epoch 38/40\n",
      "899/899 [==============================] - 2s 2ms/step - loss: 0.0293 - binary_accuracy: 0.9898 - val_loss: 0.1392 - val_binary_accuracy: 0.9616\n",
      "Epoch 39/40\n",
      "899/899 [==============================] - 2s 2ms/step - loss: 0.0290 - binary_accuracy: 0.9903 - val_loss: 0.1376 - val_binary_accuracy: 0.9619\n",
      "Epoch 40/40\n",
      "899/899 [==============================] - 2s 2ms/step - loss: 0.0291 - binary_accuracy: 0.9904 - val_loss: 0.1375 - val_binary_accuracy: 0.9619\n",
      "225/225 [==============================] - 4s 16ms/step - loss: 0.1401 - accuracy: 0.9627 - precision_15: 0.9973\n",
      "INFO:tensorflow:Assets written to: /Users/badr/Documents/ETS/Hiv2021/PFE/VS/git/fake-news-detection/notebooks/../models/tensorflow/model_3/assets\n"
     ]
    },
    {
     "name": "stderr",
     "output_type": "stream",
     "text": [
      " 60%|██████    | 3/5 [05:35<03:49, 114.93s/it]"
     ]
    },
    {
     "name": "stdout",
     "output_type": "stream",
     "text": [
      "Found 28748 files belonging to 2 classes.\n",
      "Found 7188 files belonging to 2 classes.\n",
      "Epoch 1/40\n",
      "899/899 [==============================] - 18s 19ms/step - loss: 0.5651 - binary_accuracy: 0.7551 - val_loss: 0.4677 - val_binary_accuracy: 0.7193\n",
      "Epoch 2/40\n",
      "899/899 [==============================] - 2s 2ms/step - loss: 0.1995 - binary_accuracy: 0.9465 - val_loss: 0.3833 - val_binary_accuracy: 0.7974\n",
      "Epoch 3/40\n",
      "899/899 [==============================] - 2s 3ms/step - loss: 0.1268 - binary_accuracy: 0.9624 - val_loss: 0.3127 - val_binary_accuracy: 0.8510\n",
      "Epoch 4/40\n",
      "899/899 [==============================] - 2s 3ms/step - loss: 0.0960 - binary_accuracy: 0.9702 - val_loss: 0.2545 - val_binary_accuracy: 0.8888\n",
      "Epoch 5/40\n",
      "899/899 [==============================] - 2s 3ms/step - loss: 0.0782 - binary_accuracy: 0.9749 - val_loss: 0.2152 - val_binary_accuracy: 0.9104\n",
      "Epoch 6/40\n",
      "899/899 [==============================] - 2s 2ms/step - loss: 0.0653 - binary_accuracy: 0.9788 - val_loss: 0.1733 - val_binary_accuracy: 0.9341\n",
      "Epoch 7/40\n",
      "899/899 [==============================] - 2s 3ms/step - loss: 0.0567 - binary_accuracy: 0.9814 - val_loss: 0.1528 - val_binary_accuracy: 0.9428\n",
      "Epoch 8/40\n",
      "899/899 [==============================] - 2s 2ms/step - loss: 0.0500 - binary_accuracy: 0.9830 - val_loss: 0.1335 - val_binary_accuracy: 0.9530\n",
      "Epoch 9/40\n",
      "899/899 [==============================] - 2s 2ms/step - loss: 0.0452 - binary_accuracy: 0.9848 - val_loss: 0.1247 - val_binary_accuracy: 0.9569\n",
      "Epoch 10/40\n",
      "899/899 [==============================] - 2s 2ms/step - loss: 0.0424 - binary_accuracy: 0.9854 - val_loss: 0.1143 - val_binary_accuracy: 0.9612\n",
      "Epoch 11/40\n",
      "899/899 [==============================] - 2s 2ms/step - loss: 0.0396 - binary_accuracy: 0.9868 - val_loss: 0.1070 - val_binary_accuracy: 0.9640\n",
      "Epoch 12/40\n",
      "899/899 [==============================] - 2s 2ms/step - loss: 0.0380 - binary_accuracy: 0.9874 - val_loss: 0.1036 - val_binary_accuracy: 0.9651\n",
      "Epoch 13/40\n",
      "899/899 [==============================] - 2s 2ms/step - loss: 0.0366 - binary_accuracy: 0.9874 - val_loss: 0.0967 - val_binary_accuracy: 0.9669\n",
      "Epoch 14/40\n",
      "899/899 [==============================] - 2s 2ms/step - loss: 0.0351 - binary_accuracy: 0.9884 - val_loss: 0.0983 - val_binary_accuracy: 0.9666\n",
      "Epoch 15/40\n",
      "899/899 [==============================] - 2s 2ms/step - loss: 0.0341 - binary_accuracy: 0.9886 - val_loss: 0.0998 - val_binary_accuracy: 0.9666\n",
      "Epoch 16/40\n",
      "899/899 [==============================] - 2s 2ms/step - loss: 0.0335 - binary_accuracy: 0.9892 - val_loss: 0.0971 - val_binary_accuracy: 0.9679\n",
      "Epoch 17/40\n",
      "899/899 [==============================] - 2s 2ms/step - loss: 0.0325 - binary_accuracy: 0.9894 - val_loss: 0.0927 - val_binary_accuracy: 0.9687\n",
      "Epoch 18/40\n",
      "899/899 [==============================] - 2s 2ms/step - loss: 0.0329 - binary_accuracy: 0.9893 - val_loss: 0.0942 - val_binary_accuracy: 0.9683\n",
      "Epoch 19/40\n",
      "899/899 [==============================] - 2s 2ms/step - loss: 0.0315 - binary_accuracy: 0.9900 - val_loss: 0.0941 - val_binary_accuracy: 0.9684\n",
      "Epoch 20/40\n",
      "899/899 [==============================] - 2s 2ms/step - loss: 0.0318 - binary_accuracy: 0.9896 - val_loss: 0.0937 - val_binary_accuracy: 0.9683\n",
      "Epoch 21/40\n",
      "899/899 [==============================] - 2s 2ms/step - loss: 0.0315 - binary_accuracy: 0.9897 - val_loss: 0.0956 - val_binary_accuracy: 0.9679\n",
      "Epoch 22/40\n",
      "899/899 [==============================] - 2s 2ms/step - loss: 0.0312 - binary_accuracy: 0.9907 - val_loss: 0.0956 - val_binary_accuracy: 0.9679\n",
      "Epoch 23/40\n",
      "899/899 [==============================] - 2s 2ms/step - loss: 0.0310 - binary_accuracy: 0.9901 - val_loss: 0.0922 - val_binary_accuracy: 0.9693\n",
      "Epoch 24/40\n",
      "899/899 [==============================] - 2s 2ms/step - loss: 0.0302 - binary_accuracy: 0.9907 - val_loss: 0.0954 - val_binary_accuracy: 0.9688\n",
      "Epoch 25/40\n",
      "899/899 [==============================] - 2s 2ms/step - loss: 0.0307 - binary_accuracy: 0.9902 - val_loss: 0.0949 - val_binary_accuracy: 0.9693\n",
      "Epoch 26/40\n",
      "899/899 [==============================] - 2s 2ms/step - loss: 0.0304 - binary_accuracy: 0.9901 - val_loss: 0.0941 - val_binary_accuracy: 0.9697\n",
      "Epoch 27/40\n",
      "899/899 [==============================] - 2s 2ms/step - loss: 0.0306 - binary_accuracy: 0.9907 - val_loss: 0.0931 - val_binary_accuracy: 0.9694\n",
      "Epoch 28/40\n",
      "899/899 [==============================] - 2s 2ms/step - loss: 0.0295 - binary_accuracy: 0.9902 - val_loss: 0.0919 - val_binary_accuracy: 0.9698\n",
      "Epoch 29/40\n",
      "899/899 [==============================] - 2s 2ms/step - loss: 0.0305 - binary_accuracy: 0.9907 - val_loss: 0.0967 - val_binary_accuracy: 0.9693\n",
      "Epoch 30/40\n",
      "899/899 [==============================] - 2s 2ms/step - loss: 0.0301 - binary_accuracy: 0.9901 - val_loss: 0.0972 - val_binary_accuracy: 0.9687\n",
      "Epoch 31/40\n",
      "899/899 [==============================] - 2s 2ms/step - loss: 0.0299 - binary_accuracy: 0.9905 - val_loss: 0.0946 - val_binary_accuracy: 0.9698\n",
      "Epoch 32/40\n",
      "899/899 [==============================] - 2s 3ms/step - loss: 0.0305 - binary_accuracy: 0.9903 - val_loss: 0.0965 - val_binary_accuracy: 0.9694\n",
      "Epoch 33/40\n",
      "899/899 [==============================] - 2s 2ms/step - loss: 0.0295 - binary_accuracy: 0.9903 - val_loss: 0.0971 - val_binary_accuracy: 0.9693\n",
      "Epoch 34/40\n",
      "899/899 [==============================] - 2s 2ms/step - loss: 0.0293 - binary_accuracy: 0.9904 - val_loss: 0.0949 - val_binary_accuracy: 0.9698\n",
      "Epoch 35/40\n",
      "899/899 [==============================] - 2s 3ms/step - loss: 0.0292 - binary_accuracy: 0.9910 - val_loss: 0.0963 - val_binary_accuracy: 0.9697\n",
      "Epoch 36/40\n",
      "899/899 [==============================] - 2s 2ms/step - loss: 0.0295 - binary_accuracy: 0.9907 - val_loss: 0.0947 - val_binary_accuracy: 0.9702\n",
      "Epoch 37/40\n",
      "899/899 [==============================] - 2s 2ms/step - loss: 0.0290 - binary_accuracy: 0.9906 - val_loss: 0.0985 - val_binary_accuracy: 0.9691\n",
      "Epoch 38/40\n",
      "899/899 [==============================] - 2s 2ms/step - loss: 0.0294 - binary_accuracy: 0.9910 - val_loss: 0.0979 - val_binary_accuracy: 0.9693\n",
      "Epoch 39/40\n",
      "899/899 [==============================] - 2s 2ms/step - loss: 0.0291 - binary_accuracy: 0.9907 - val_loss: 0.0945 - val_binary_accuracy: 0.9705\n",
      "Epoch 40/40\n",
      "899/899 [==============================] - 2s 2ms/step - loss: 0.0294 - binary_accuracy: 0.9906 - val_loss: 0.1010 - val_binary_accuracy: 0.9688\n",
      "225/225 [==============================] - 4s 14ms/step - loss: 0.1029 - accuracy: 0.9674 - precision_16: 0.9926\n",
      "INFO:tensorflow:Assets written to: /Users/badr/Documents/ETS/Hiv2021/PFE/VS/git/fake-news-detection/notebooks/../models/tensorflow/model_4/assets\n"
     ]
    },
    {
     "name": "stderr",
     "output_type": "stream",
     "text": [
      " 80%|████████  | 4/5 [07:43<02:00, 120.13s/it]"
     ]
    },
    {
     "name": "stdout",
     "output_type": "stream",
     "text": [
      "Found 28748 files belonging to 2 classes.\n",
      "Found 7188 files belonging to 2 classes.\n",
      "Epoch 1/40\n",
      "899/899 [==============================] - 16s 17ms/step - loss: 0.5651 - binary_accuracy: 0.7464 - val_loss: 0.5014 - val_binary_accuracy: 0.6852\n",
      "Epoch 2/40\n",
      "899/899 [==============================] - 2s 2ms/step - loss: 0.1980 - binary_accuracy: 0.9470 - val_loss: 0.4291 - val_binary_accuracy: 0.7620\n",
      "Epoch 3/40\n",
      "899/899 [==============================] - 2s 2ms/step - loss: 0.1283 - binary_accuracy: 0.9617 - val_loss: 0.3678 - val_binary_accuracy: 0.8139\n",
      "Epoch 4/40\n",
      "899/899 [==============================] - 2s 2ms/step - loss: 0.0984 - binary_accuracy: 0.9692 - val_loss: 0.3195 - val_binary_accuracy: 0.8489\n",
      "Epoch 5/40\n",
      "899/899 [==============================] - 3s 3ms/step - loss: 0.0808 - binary_accuracy: 0.9738 - val_loss: 0.2650 - val_binary_accuracy: 0.8875\n",
      "Epoch 6/40\n",
      "899/899 [==============================] - 3s 3ms/step - loss: 0.0695 - binary_accuracy: 0.9776 - val_loss: 0.2270 - val_binary_accuracy: 0.9078\n",
      "Epoch 7/40\n",
      "899/899 [==============================] - 2s 3ms/step - loss: 0.0609 - binary_accuracy: 0.9805 - val_loss: 0.1942 - val_binary_accuracy: 0.9260\n",
      "Epoch 8/40\n",
      "899/899 [==============================] - 2s 2ms/step - loss: 0.0554 - binary_accuracy: 0.9822 - val_loss: 0.1669 - val_binary_accuracy: 0.9378\n",
      "Epoch 9/40\n",
      "899/899 [==============================] - 2s 2ms/step - loss: 0.0511 - binary_accuracy: 0.9840 - val_loss: 0.1509 - val_binary_accuracy: 0.9476\n",
      "Epoch 10/40\n",
      "899/899 [==============================] - 2s 2ms/step - loss: 0.0470 - binary_accuracy: 0.9848 - val_loss: 0.1377 - val_binary_accuracy: 0.9549\n",
      "Epoch 11/40\n",
      "899/899 [==============================] - 2s 2ms/step - loss: 0.0447 - binary_accuracy: 0.9864 - val_loss: 0.1325 - val_binary_accuracy: 0.9569\n",
      "Epoch 12/40\n",
      "899/899 [==============================] - 2s 2ms/step - loss: 0.0425 - binary_accuracy: 0.9873 - val_loss: 0.1282 - val_binary_accuracy: 0.9581\n",
      "Epoch 13/40\n",
      "899/899 [==============================] - 2s 2ms/step - loss: 0.0414 - binary_accuracy: 0.9878 - val_loss: 0.1219 - val_binary_accuracy: 0.9608\n",
      "Epoch 14/40\n",
      "899/899 [==============================] - 2s 2ms/step - loss: 0.0399 - binary_accuracy: 0.9877 - val_loss: 0.1116 - val_binary_accuracy: 0.9641\n",
      "Epoch 15/40\n",
      "899/899 [==============================] - 2s 2ms/step - loss: 0.0393 - binary_accuracy: 0.9877 - val_loss: 0.1146 - val_binary_accuracy: 0.9638\n",
      "Epoch 16/40\n",
      "899/899 [==============================] - 2s 2ms/step - loss: 0.0391 - binary_accuracy: 0.9883 - val_loss: 0.1100 - val_binary_accuracy: 0.9658\n",
      "Epoch 17/40\n",
      "899/899 [==============================] - 2s 2ms/step - loss: 0.0383 - binary_accuracy: 0.9891 - val_loss: 0.1078 - val_binary_accuracy: 0.9663\n",
      "Epoch 18/40\n",
      "899/899 [==============================] - 2s 2ms/step - loss: 0.0373 - binary_accuracy: 0.9883 - val_loss: 0.1118 - val_binary_accuracy: 0.9658\n",
      "Epoch 19/40\n",
      "899/899 [==============================] - 2s 2ms/step - loss: 0.0372 - binary_accuracy: 0.9886 - val_loss: 0.1099 - val_binary_accuracy: 0.9661\n",
      "Epoch 20/40\n",
      "899/899 [==============================] - 2s 2ms/step - loss: 0.0368 - binary_accuracy: 0.9889 - val_loss: 0.1091 - val_binary_accuracy: 0.9663\n",
      "Epoch 21/40\n",
      "899/899 [==============================] - 2s 2ms/step - loss: 0.0363 - binary_accuracy: 0.9891 - val_loss: 0.1091 - val_binary_accuracy: 0.9663\n",
      "Epoch 22/40\n",
      "899/899 [==============================] - 2s 2ms/step - loss: 0.0360 - binary_accuracy: 0.9892 - val_loss: 0.1063 - val_binary_accuracy: 0.9668\n",
      "Epoch 23/40\n",
      "899/899 [==============================] - 2s 2ms/step - loss: 0.0358 - binary_accuracy: 0.9894 - val_loss: 0.1071 - val_binary_accuracy: 0.9670\n",
      "Epoch 24/40\n",
      "899/899 [==============================] - 2s 2ms/step - loss: 0.0359 - binary_accuracy: 0.9892 - val_loss: 0.1086 - val_binary_accuracy: 0.9666\n",
      "Epoch 25/40\n",
      "899/899 [==============================] - 2s 2ms/step - loss: 0.0350 - binary_accuracy: 0.9890 - val_loss: 0.1037 - val_binary_accuracy: 0.9681\n",
      "Epoch 26/40\n",
      "899/899 [==============================] - 2s 2ms/step - loss: 0.0351 - binary_accuracy: 0.9891 - val_loss: 0.1127 - val_binary_accuracy: 0.9662\n",
      "Epoch 27/40\n",
      "899/899 [==============================] - 2s 2ms/step - loss: 0.0356 - binary_accuracy: 0.9897 - val_loss: 0.1082 - val_binary_accuracy: 0.9672\n",
      "Epoch 28/40\n",
      "899/899 [==============================] - 2s 2ms/step - loss: 0.0355 - binary_accuracy: 0.9897 - val_loss: 0.1109 - val_binary_accuracy: 0.9668\n",
      "Epoch 29/40\n",
      "899/899 [==============================] - 2s 2ms/step - loss: 0.0360 - binary_accuracy: 0.9887 - val_loss: 0.1104 - val_binary_accuracy: 0.9674\n",
      "Epoch 30/40\n",
      "899/899 [==============================] - 2s 2ms/step - loss: 0.0354 - binary_accuracy: 0.9890 - val_loss: 0.1097 - val_binary_accuracy: 0.9676\n",
      "Epoch 31/40\n",
      "899/899 [==============================] - 2s 2ms/step - loss: 0.0346 - binary_accuracy: 0.9892 - val_loss: 0.1067 - val_binary_accuracy: 0.9681\n",
      "Epoch 32/40\n",
      "899/899 [==============================] - 2s 2ms/step - loss: 0.0352 - binary_accuracy: 0.9896 - val_loss: 0.1056 - val_binary_accuracy: 0.9683\n",
      "Epoch 33/40\n",
      "899/899 [==============================] - 2s 2ms/step - loss: 0.0355 - binary_accuracy: 0.9888 - val_loss: 0.1093 - val_binary_accuracy: 0.9674\n",
      "Epoch 34/40\n",
      "899/899 [==============================] - 2s 2ms/step - loss: 0.0353 - binary_accuracy: 0.9892 - val_loss: 0.1104 - val_binary_accuracy: 0.9673\n",
      "Epoch 35/40\n",
      "899/899 [==============================] - 2s 2ms/step - loss: 0.0345 - binary_accuracy: 0.9891 - val_loss: 0.1047 - val_binary_accuracy: 0.9684\n",
      "Epoch 36/40\n",
      "899/899 [==============================] - 2s 2ms/step - loss: 0.0354 - binary_accuracy: 0.9894 - val_loss: 0.1119 - val_binary_accuracy: 0.9672\n",
      "Epoch 37/40\n",
      "899/899 [==============================] - 2s 2ms/step - loss: 0.0353 - binary_accuracy: 0.9895 - val_loss: 0.1085 - val_binary_accuracy: 0.9677\n",
      "Epoch 38/40\n",
      "899/899 [==============================] - 2s 2ms/step - loss: 0.0344 - binary_accuracy: 0.9898 - val_loss: 0.1095 - val_binary_accuracy: 0.9676\n",
      "Epoch 39/40\n",
      "899/899 [==============================] - 2s 2ms/step - loss: 0.0348 - binary_accuracy: 0.9895 - val_loss: 0.1061 - val_binary_accuracy: 0.9684\n",
      "Epoch 40/40\n",
      "899/899 [==============================] - 2s 2ms/step - loss: 0.0347 - binary_accuracy: 0.9897 - val_loss: 0.1081 - val_binary_accuracy: 0.9681\n",
      "225/225 [==============================] - 4s 15ms/step - loss: 0.1041 - accuracy: 0.9666 - precision_17: 0.9944\n",
      "INFO:tensorflow:Assets written to: /Users/badr/Documents/ETS/Hiv2021/PFE/VS/git/fake-news-detection/notebooks/../models/tensorflow/model_5/assets\n"
     ]
    },
    {
     "name": "stderr",
     "output_type": "stream",
     "text": [
      "100%|██████████| 5/5 [09:39<00:00, 115.94s/it]\n"
     ]
    }
   ],
   "source": [
    "Tensorflow.train(embedding_dim = 32, max_features = 625, sequence_length = 125, epochs = 40)"
   ]
  },
  {
   "cell_type": "markdown",
   "metadata": {},
   "source": [
    "## Testing"
   ]
  },
  {
   "cell_type": "code",
   "execution_count": 77,
   "metadata": {},
   "outputs": [
    {
     "name": "stderr",
     "output_type": "stream",
     "text": [
      "  0%|          | 0/5 [00:00<?, ?it/s]"
     ]
    },
    {
     "name": "stdout",
     "output_type": "stream",
     "text": [
      "WARNING:tensorflow:11 out of the last 11 calls to <function recreate_function.<locals>.restored_function_body at 0x7fdbf87ae160> triggered tf.function retracing. Tracing is expensive and the excessive number of tracings could be due to (1) creating @tf.function repeatedly in a loop, (2) passing tensors with different shapes, (3) passing Python objects instead of tensors. For (1), please define your @tf.function outside of the loop. For (2), @tf.function has experimental_relax_shapes=True option that relaxes argument shapes that can avoid unnecessary retracing. For (3), please refer to https://www.tensorflow.org/guide/function#controlling_retracing and https://www.tensorflow.org/api_docs/python/tf/function for  more details.\n",
      "Found 8985 files belonging to 2 classes.\n",
      "281/281 [==============================] - 4s 13ms/step - loss: 0.1194 - accuracy: 0.9672 - precision_13: 0.9955\n"
     ]
    },
    {
     "name": "stderr",
     "output_type": "stream",
     "text": [
      " 20%|██        | 1/5 [00:06<00:24,  6.00s/it]"
     ]
    },
    {
     "name": "stdout",
     "output_type": "stream",
     "text": [
      "WARNING:tensorflow:11 out of the last 11 calls to <function recreate_function.<locals>.restored_function_body at 0x7fdbf11cd790> triggered tf.function retracing. Tracing is expensive and the excessive number of tracings could be due to (1) creating @tf.function repeatedly in a loop, (2) passing tensors with different shapes, (3) passing Python objects instead of tensors. For (1), please define your @tf.function outside of the loop. For (2), @tf.function has experimental_relax_shapes=True option that relaxes argument shapes that can avoid unnecessary retracing. For (3), please refer to https://www.tensorflow.org/guide/function#controlling_retracing and https://www.tensorflow.org/api_docs/python/tf/function for  more details.\n",
      "Found 8985 files belonging to 2 classes.\n",
      "281/281 [==============================] - 4s 13ms/step - loss: 0.1175 - accuracy: 0.9675 - precision_14: 0.9958\n"
     ]
    },
    {
     "name": "stderr",
     "output_type": "stream",
     "text": [
      " 40%|████      | 2/5 [00:10<00:15,  5.32s/it]"
     ]
    },
    {
     "name": "stdout",
     "output_type": "stream",
     "text": [
      "WARNING:tensorflow:11 out of the last 11 calls to <function recreate_function.<locals>.restored_function_body at 0x7fdbf94c7670> triggered tf.function retracing. Tracing is expensive and the excessive number of tracings could be due to (1) creating @tf.function repeatedly in a loop, (2) passing tensors with different shapes, (3) passing Python objects instead of tensors. For (1), please define your @tf.function outside of the loop. For (2), @tf.function has experimental_relax_shapes=True option that relaxes argument shapes that can avoid unnecessary retracing. For (3), please refer to https://www.tensorflow.org/guide/function#controlling_retracing and https://www.tensorflow.org/api_docs/python/tf/function for  more details.\n",
      "Found 8983 files belonging to 2 classes.\n",
      "281/281 [==============================] - 4s 15ms/step - loss: 0.1125 - accuracy: 0.9683 - precision_15: 0.9948\n"
     ]
    },
    {
     "name": "stderr",
     "output_type": "stream",
     "text": [
      " 60%|██████    | 3/5 [00:16<00:10,  5.27s/it]"
     ]
    },
    {
     "name": "stdout",
     "output_type": "stream",
     "text": [
      "WARNING:tensorflow:11 out of the last 11 calls to <function recreate_function.<locals>.restored_function_body at 0x7fdbf9476af0> triggered tf.function retracing. Tracing is expensive and the excessive number of tracings could be due to (1) creating @tf.function repeatedly in a loop, (2) passing tensors with different shapes, (3) passing Python objects instead of tensors. For (1), please define your @tf.function outside of the loop. For (2), @tf.function has experimental_relax_shapes=True option that relaxes argument shapes that can avoid unnecessary retracing. For (3), please refer to https://www.tensorflow.org/guide/function#controlling_retracing and https://www.tensorflow.org/api_docs/python/tf/function for  more details.\n",
      "Found 8983 files belonging to 2 classes.\n",
      "281/281 [==============================] - 4s 14ms/step - loss: 0.1080 - accuracy: 0.9681 - precision_16: 0.9938\n"
     ]
    },
    {
     "name": "stderr",
     "output_type": "stream",
     "text": [
      " 80%|████████  | 4/5 [00:21<00:05,  5.17s/it]"
     ]
    },
    {
     "name": "stdout",
     "output_type": "stream",
     "text": [
      "WARNING:tensorflow:11 out of the last 11 calls to <function recreate_function.<locals>.restored_function_body at 0x7fdbf11cd550> triggered tf.function retracing. Tracing is expensive and the excessive number of tracings could be due to (1) creating @tf.function repeatedly in a loop, (2) passing tensors with different shapes, (3) passing Python objects instead of tensors. For (1), please define your @tf.function outside of the loop. For (2), @tf.function has experimental_relax_shapes=True option that relaxes argument shapes that can avoid unnecessary retracing. For (3), please refer to https://www.tensorflow.org/guide/function#controlling_retracing and https://www.tensorflow.org/api_docs/python/tf/function for  more details.\n",
      "Found 8983 files belonging to 2 classes.\n",
      "281/281 [==============================] - 4s 14ms/step - loss: 0.1041 - accuracy: 0.9682 - precision_17: 0.9950\n"
     ]
    },
    {
     "name": "stderr",
     "output_type": "stream",
     "text": [
      "100%|██████████| 5/5 [00:26<00:00,  5.28s/it]\n"
     ]
    }
   ],
   "source": [
    "Tensorflow.test()"
   ]
  },
  {
   "cell_type": "code",
   "execution_count": 78,
   "metadata": {},
   "outputs": [
    {
     "data": {
      "text/plain": "0.994994854927063"
     },
     "execution_count": 78,
     "metadata": {},
     "output_type": "execute_result"
    }
   ],
   "source": [
    "Tensorflow.precision"
   ]
  },
  {
   "cell_type": "code",
   "execution_count": 79,
   "metadata": {},
   "outputs": [
    {
     "data": {
      "text/plain": "0.9678310275077819"
     },
     "execution_count": 79,
     "metadata": {},
     "output_type": "execute_result"
    }
   ],
   "source": [
    "Tensorflow.accuracy"
   ]
  },
  {
   "cell_type": "markdown",
   "metadata": {},
   "source": [
    "# Testing on an article"
   ]
  },
  {
   "cell_type": "code",
   "execution_count": 13,
   "metadata": {},
   "outputs": [],
   "source": [
    "text = \"\"\" Members of Congress may use campaign funds to hire bodyguards, FEC rules\n",
    "(CNN) — Members of Congress can use campaign funds to hire bodyguards, federal election regulators ruled Thursday -- nearly three months after the violent January 6 siege on the US Capitol raised fresh concerns about lawmakers' safety.\n",
    "\n",
    "The 5-1 vote by the Federal Election Commission allows lawmakers to use donors' money for \"bona fide, legitimate, professional personal security\" against threats that arise as part of their jobs.\n",
    "\n",
    "The action came in response to a request from officials with the National Republican Congressional Committee and the National Republican Senatorial Committee and falls in line with previous FEC actions that allow politicians to use campaign money to upgrade security at their homes.\n",
    "But the commission spent hours of their online meeting tussling over how to properly define security personnel after Democratic lawyers raised the specter of some lawmakers using donors' money to pay right-wing militia members.\n",
    "\n",
    "In a Wednesday letter to the commission, Marc Elias and other attorneys representing Democratic campaign committees urged regulators to craft the rules narrowly so that \"campaign funds are not improperly used to fund groups organized to harass and intimidate political opponents.\"\n",
    "\n",
    "\"In the past election cycle, some individuals who are now Members of Congress displayed troubling ties to extremist groups, including some self-proclaimed 'militias,' such as the Proud Boys, the Oath Keepers, and the Three Percenters,\" the Democratic lawyers wrote. \"In some cases, these groups purported to provide 'security' at events attended by Congressional candidates and Members of Congress.\"\n",
    "\n",
    "One Democrat on the commission, Ellen Weintraub, said she was concerned about lawmakers operating at a far remove from their constituents and that untrained guards could improperly block the public from engaging with elected officials.\n",
    "\n",
    "\"I never thought of us as a country where the leadership of the country had to be surrounded by armed guards and ... needed to keep the public at arm's length,\" Weintraub said.\n",
    "\n",
    "But Jessica Furst Johnson, a lawyer representing the Republican campaign committees, said lawmakers have pressing security concerns.\n",
    "\n",
    "The threats they face, she retorted, do not involve \"people who are showing up at homes in the middle of the night to have a nice conservation about legislation. We are talking about situations where members are, unfortunately, feeling threatened with their children in their homes in the middle of the night.\" \"\"\".replace('\\n', ' ')"
   ]
  },
  {
   "cell_type": "code",
   "execution_count": 81,
   "metadata": {},
   "outputs": [
    {
     "data": {
      "text/plain": "' Members of Congress may use campaign funds to hire bodyguards, FEC rules (CNN) — Members of Congress can use campaign funds to hire bodyguards, federal election regulators ruled Thursday -- nearly three months after the violent January 6 siege on the US Capitol raised fresh concerns about lawmakers\\' safety.  The 5-1 vote by the Federal Election Commission allows lawmakers to use donors\\' money for \"bona fide, legitimate, professional personal security\" against threats that arise as part of their jobs.  The action came in response to a request from officials with the National Republican Congressional Committee and the National Republican Senatorial Committee and falls in line with previous FEC actions that allow politicians to use campaign money to upgrade security at their homes. But the commission spent hours of their online meeting tussling over how to properly define security personnel after Democratic lawyers raised the specter of some lawmakers using donors\\' money to pay right-wing militia members.  In a Wednesday letter to the commission, Marc Elias and other attorneys representing Democratic campaign committees urged regulators to craft the rules narrowly so that \"campaign funds are not improperly used to fund groups organized to harass and intimidate political opponents.\"  \"In the past election cycle, some individuals who are now Members of Congress displayed troubling ties to extremist groups, including some self-proclaimed \\'militias,\\' such as the Proud Boys, the Oath Keepers, and the Three Percenters,\" the Democratic lawyers wrote. \"In some cases, these groups purported to provide \\'security\\' at events attended by Congressional candidates and Members of Congress.\"  One Democrat on the commission, Ellen Weintraub, said she was concerned about lawmakers operating at a far remove from their constituents and that untrained guards could improperly block the public from engaging with elected officials.  \"I never thought of us as a country where the leadership of the country had to be surrounded by armed guards and ... needed to keep the public at arm\\'s length,\" Weintraub said.  But Jessica Furst Johnson, a lawyer representing the Republican campaign committees, said lawmakers have pressing security concerns.  The threats they face, she retorted, do not involve \"people who are showing up at homes in the middle of the night to have a nice conservation about legislation. We are talking about situations where members are, unfortunately, feeling threatened with their children in their homes in the middle of the night.\" '"
     },
     "execution_count": 81,
     "metadata": {},
     "output_type": "execute_result"
    }
   ],
   "source": [
    "text"
   ]
  },
  {
   "cell_type": "code",
   "execution_count": 7,
   "metadata": {},
   "outputs": [],
   "source": [
    "import tensorflow as tf"
   ]
  },
  {
   "cell_type": "code",
   "execution_count": 8,
   "metadata": {},
   "outputs": [],
   "source": [
    "tf_model_path = os.path.join(\n",
    "                Tensorflow.model_path, 'tensorflow', 'model_1')\n",
    "\n",
    "model = tf.keras.models.load_model(tf_model_path)"
   ]
  },
  {
   "cell_type": "code",
   "execution_count": 19,
   "metadata": {},
   "outputs": [],
   "source": [
    "text = \"\"\" Ontario reports record-high 4,456 new COVID-19 cases Sunday\n",
    "\n",
    "Ontario reports 4,456 new COVID-19 cases Sunday, several days after Premier Doug Ford implemented new stay-at-home orders amid the third wave of the pandemic. (Steve Russell/The Canadian Press)\n",
    "Ontario reported another 4,456 cases of COVID-19 on Sunday — a new record in the province.\n",
    "\n",
    "The daily case count is also up from 3,813 cases on Saturday and 4,227 on Friday.\n",
    "\n",
    "The province is also reporting 21 additional deaths.\n",
    "\n",
    "New cases reported Sunday include 1,353 in Toronto, 860 in Peel Region, 444 in York Region, 329 in Durham Region, and 377 in Ottawa, according to health minister Christine Elliott.\n",
    "\n",
    "As of 8 p.m. on Saturday, 3,139,743 vaccine doses were administered.\n",
    "\n",
    "The seven-day average climbed again to 3,573 cases from 3,371 on Saturday.\n",
    "\n",
    "Nearly 600 patients in ICUs with COVID-related illness\n",
    "\n",
    "There are now 593 patients in intensive care units (ICUs) across the province with COVID-related illness as of Saturday, according to Anthony Dale, president of the Ontario Hospital Association.\n",
    "\n",
    "The number of patients grew by 77 on Friday and 61 on Saturday, Dale said. \n",
    "\n",
    "The latest OHA figure comes one day before the provincial order for hospitals to halt non-emergency surgeries comes into effect. \n",
    "\n",
    "A memo was sent to hospitals Thursday night telling them to postpone their non-emergency surgeries, effective Monday, everywhere but in northern Ontario. Pediatric specialty hospitals are excluded from the order. \n",
    "\n",
    "As a result of the first such postponement in March 2020, the province has a backlog of more than 245,000 procedures.\n",
    "\n",
    "\"The impact of the third wave of the pandemic on scheduled surgeries and procedures will depend on the severity and duration of the current COVID-19 surge,\" a spokesperson for Ontario Health told CBC News via email.\n",
    "\n",
    "\"These are very difficult and challenging times for all Ontarians,\" the spokesperson said. \"We are monitoring continuously and will ramp up again as soon as safely possible.\"\n",
    "\n",
    "\n",
    "Dr. Ronald Cohn, president of SickKids, is worried ICU capacity issues will get worse before the situation improves. Watch Rosemary Barton Live on Sunday at 10 a.m. ET/7 a.m. PT/11:30 a.m. NT on CBC News Network and CBC Gem. 0:46\n",
    "Bring out-of-province ICU nurses to help GTA, says Toronto critical care doctor\n",
    "\n",
    "Dr. Michael Warner, medical director of critical care at Michael Garron Hospital in Toronto, posted a video to Twitter on Saturday asking Ontario to lift jurisdictional barriers so that critical care nurses from across the country could be brought into the GTA to help.\n",
    "\n",
    "On paper, Warner said, Ontario has roughly 2,300 ICU beds. \n",
    "\n",
    "However, in practice, there are \"far fewer\" because the province doesn't have enough specially-trained ICU nurses to staff them.\n",
    "\n",
    "\"Unfortunately, the situation is going to get much worse,\" he said.\n",
    "\n",
    "As of Sunday morning, SickKids Hospital now has five adult patients in its ICU with COVID-19 and the hospital's president and CEO, Dr. Ronald Cohn, said he expects up to two more adults by day's end.\n",
    "\n",
    "\"I'm afraid it will get a little bit worse before it will get better,\" Cohn said on CBC's Rosemary Barton Live program.\n",
    "\n",
    "\n",
    "When asked why the provincial government waited to issue a stay-at-home order, despite calls from doctors to do so sooner, Ontario’s solicitor general Sylvia Jones said: \"We wanted to make sure that the modelling was actually showing up in our hospitals.” Here’s what Dr. Barbara Yaffe, Ontario’s associate chief medical officer of health, said in response. 0:34\n",
    "Cohn reassured listeners that SickKids has done careful modelling and that there will be \"a very minimal impact on anything related to children's health care.\"\n",
    "\n",
    "He said the hospital is used to treating older teenagers with respiratory issues so \"from a physiological point of view it's not that huge of a difference\" to care for adults.\n",
    "\n",
    "I'm afraid it will get a little bit worse before it will get better- Dr. Ronald Cohn, SickKids Hospital\n",
    "However, Cohn said, the children's hospital has many neighbouring hospitals.\n",
    "\n",
    "\"Whenever we feel like we need help… they're just a phone call away,\" he said.\n",
    "\n",
    "Critically ill patients can be moved to SickKids or to hospitals in Kingston and further afield, said Warner, but, \"eventually we will run out of places to move patients because we won't have enough trained staff to care for them.\"\n",
    "\n",
    "Warner urged the province \"to get ahead of this,\" saying a scenario in which places like Halifax are offering elective surgery while the Greater Toronto Area is in triage \"just can't happen.\"\n",
    "\n",
    "\n",
    "The province's Science Advisory Table has released its latest modelling on the spread of COVID-19, with a harrowing image of what lies ahead for the pandemic’s third wave in Ontario. Projections show that intensive care admissions will be high enough to threaten the health-care system’s ability to care for all patients, and that the spread of variants of concern is dangerously outpacing Ontario's vaccination campaign. Jessica Ng has more details. 1:57\n",
    "The re-deployment of healthcare workers is \"a real reality we may have to face,\" Cohn said, although that is not currently a concern for SickKids.\n",
    "\n",
    "Warner's proposal is \"interesting for sure,\" Mélanie Gauthier, president and director of the eastern region for the Canadian Association of Critical Care Nurses, told CBC News on Sunday morning.\n",
    "\n",
    "\"One of the main things that we have to understand is critical care nurses across the country are actually trained quite differently,\" said Gauthier, who, herself, works as a critical care nurse clinician with the Royal Victoria Hospital at the McGill University Health Centre.\n",
    "\n",
    "\"I'm not saying that it's not possible, however, there are a lot of different aspects to it that we would have to consider,\" she said.\n",
    "\n",
    "ICU nurses are 'overburdened' and 'exhausted,' says association president\n",
    "\n",
    "It's important to recognize the toll more than a year of pandemic critical care has wrought on ICU nurses across the country, Gauthier said.\n",
    "\n",
    "While many strategies have been implemented to support them, she said the reality is that most of the responsibility for caring for critically ill patients falls to them.\n",
    "\n",
    "\"It's a lot of responsibility,\" Gauthier said, adding that they're feeling \"overburdened\" and \"it has taken a toll on them.\"\n",
    "\n",
    "Recognition for that work is nice, she said, but many have now gone more than a year with very little time for themselves and there is some concern about an \"exodus of nurses\" after the pandemic.\n",
    "\n",
    "\"A lot of them have actually left during the pandemic just because of the emotional toll and the physical exhaustion,\" she said. \n",
    "\n",
    "If there was at least one thing that could help, Gauthier said it would be for the general public to continue to respect and abide by public health guidelines.\n",
    "\n",
    "\"Take it seriously,\" she said. \"It is quite discouraging for some nurses to see large gatherings in parks, especially with nicer weather.\"\n",
    "\n",
    "Percentage of ICU admissions for people aged 18-39 doubled nationwide January-March\n",
    "\n",
    "In a statement released Sunday afternoon, Canada's Chief Public Health Officer Dr. Theresa Tam urged people that a \"high degree of caution must be maintained until vaccination programs are further expanded.\"\n",
    "\n",
    "The country is seeing an increase in the number of adults under the age of 60 requiring hospital treatment for COVID-19, Tam said.\n",
    "\n",
    "In particular, she said, the number of adults between the ages of 40 to 59 who required ICU care and mechanical ventilation in March 2021 was on the rise. \n",
    "\n",
    "People between the ages of 18 and 39 made up 15 per cent of ICU admissions that same month, Tam said, double from just 7.4 per cent two months earlier, in January.\n",
    "\n",
    "\"This is a reminder that serious illness can occur at any age,\" she said. \"Evidence indicates that variants of concern can be associated with more severe illness and increased risk of death.\"\n",
    "\n",
    "Nearly 25,000 cases involving variants of concern have been reported nationwide as of April 8, per her statement. The vast majority are B.1.1.7 variants, which originated in the U.K.\n",
    "\n",
    "\"A combination of strong and sustained community-based public health measures and strict adherence to individual precautions is crucial in order to suppress rapid epidemic growth,\" Tam said.\n",
    "\n",
    "Tam urged Canadians to:\n",
    "\n",
    "Maintain the greatest possible distance with other people\n",
    "Wear the best-fitting mask they have\n",
    "Aim for the fewest interactions with people\n",
    "Aim to interact with the fewest number of people\"\"\".replace('\\n', ' ')"
   ]
  },
  {
   "cell_type": "code",
   "execution_count": 20,
   "metadata": {},
   "outputs": [
    {
     "data": {
      "text/plain": "' Ontario reports record-high 4,456 new COVID-19 cases Sunday  Ontario reports 4,456 new COVID-19 cases Sunday, several days after Premier Doug Ford implemented new stay-at-home orders amid the third wave of the pandemic. (Steve Russell/The Canadian Press) Ontario reported another 4,456 cases of COVID-19 on Sunday — a new record in the province.  The daily case count is also up from 3,813 cases on Saturday and 4,227 on Friday.  The province is also reporting 21 additional deaths.  New cases reported Sunday include 1,353 in Toronto, 860 in Peel Region, 444 in York Region, 329 in Durham Region, and 377 in Ottawa, according to health minister Christine Elliott.  As of 8 p.m. on Saturday, 3,139,743 vaccine doses were administered.  The seven-day average climbed again to 3,573 cases from 3,371 on Saturday.  Nearly 600 patients in ICUs with COVID-related illness  There are now 593 patients in intensive care units (ICUs) across the province with COVID-related illness as of Saturday, according to Anthony Dale, president of the Ontario Hospital Association.  The number of patients grew by 77 on Friday and 61 on Saturday, Dale said.   The latest OHA figure comes one day before the provincial order for hospitals to halt non-emergency surgeries comes into effect.   A memo was sent to hospitals Thursday night telling them to postpone their non-emergency surgeries, effective Monday, everywhere but in northern Ontario. Pediatric specialty hospitals are excluded from the order.   As a result of the first such postponement in March 2020, the province has a backlog of more than 245,000 procedures.  \"The impact of the third wave of the pandemic on scheduled surgeries and procedures will depend on the severity and duration of the current COVID-19 surge,\" a spokesperson for Ontario Health told CBC News via email.  \"These are very difficult and challenging times for all Ontarians,\" the spokesperson said. \"We are monitoring continuously and will ramp up again as soon as safely possible.\"   Dr. Ronald Cohn, president of SickKids, is worried ICU capacity issues will get worse before the situation improves. Watch Rosemary Barton Live on Sunday at 10 a.m. ET/7 a.m. PT/11:30 a.m. NT on CBC News Network and CBC Gem. 0:46 Bring out-of-province ICU nurses to help GTA, says Toronto critical care doctor  Dr. Michael Warner, medical director of critical care at Michael Garron Hospital in Toronto, posted a video to Twitter on Saturday asking Ontario to lift jurisdictional barriers so that critical care nurses from across the country could be brought into the GTA to help.  On paper, Warner said, Ontario has roughly 2,300 ICU beds.   However, in practice, there are \"far fewer\" because the province doesn\\'t have enough specially-trained ICU nurses to staff them.  \"Unfortunately, the situation is going to get much worse,\" he said.  As of Sunday morning, SickKids Hospital now has five adult patients in its ICU with COVID-19 and the hospital\\'s president and CEO, Dr. Ronald Cohn, said he expects up to two more adults by day\\'s end.  \"I\\'m afraid it will get a little bit worse before it will get better,\" Cohn said on CBC\\'s Rosemary Barton Live program.   When asked why the provincial government waited to issue a stay-at-home order, despite calls from doctors to do so sooner, Ontario’s solicitor general Sylvia Jones said: \"We wanted to make sure that the modelling was actually showing up in our hospitals.” Here’s what Dr. Barbara Yaffe, Ontario’s associate chief medical officer of health, said in response. 0:34 Cohn reassured listeners that SickKids has done careful modelling and that there will be \"a very minimal impact on anything related to children\\'s health care.\"  He said the hospital is used to treating older teenagers with respiratory issues so \"from a physiological point of view it\\'s not that huge of a difference\" to care for adults.  I\\'m afraid it will get a little bit worse before it will get better- Dr. Ronald Cohn, SickKids Hospital However, Cohn said, the children\\'s hospital has many neighbouring hospitals.  \"Whenever we feel like we need help… they\\'re just a phone call away,\" he said.  Critically ill patients can be moved to SickKids or to hospitals in Kingston and further afield, said Warner, but, \"eventually we will run out of places to move patients because we won\\'t have enough trained staff to care for them.\"  Warner urged the province \"to get ahead of this,\" saying a scenario in which places like Halifax are offering elective surgery while the Greater Toronto Area is in triage \"just can\\'t happen.\"   The province\\'s Science Advisory Table has released its latest modelling on the spread of COVID-19, with a harrowing image of what lies ahead for the pandemic’s third wave in Ontario. Projections show that intensive care admissions will be high enough to threaten the health-care system’s ability to care for all patients, and that the spread of variants of concern is dangerously outpacing Ontario\\'s vaccination campaign. Jessica Ng has more details. 1:57 The re-deployment of healthcare workers is \"a real reality we may have to face,\" Cohn said, although that is not currently a concern for SickKids.  Warner\\'s proposal is \"interesting for sure,\" Mélanie Gauthier, president and director of the eastern region for the Canadian Association of Critical Care Nurses, told CBC News on Sunday morning.  \"One of the main things that we have to understand is critical care nurses across the country are actually trained quite differently,\" said Gauthier, who, herself, works as a critical care nurse clinician with the Royal Victoria Hospital at the McGill University Health Centre.  \"I\\'m not saying that it\\'s not possible, however, there are a lot of different aspects to it that we would have to consider,\" she said.  ICU nurses are \\'overburdened\\' and \\'exhausted,\\' says association president  It\\'s important to recognize the toll more than a year of pandemic critical care has wrought on ICU nurses across the country, Gauthier said.  While many strategies have been implemented to support them, she said the reality is that most of the responsibility for caring for critically ill patients falls to them.  \"It\\'s a lot of responsibility,\" Gauthier said, adding that they\\'re feeling \"overburdened\" and \"it has taken a toll on them.\"  Recognition for that work is nice, she said, but many have now gone more than a year with very little time for themselves and there is some concern about an \"exodus of nurses\" after the pandemic.  \"A lot of them have actually left during the pandemic just because of the emotional toll and the physical exhaustion,\" she said.   If there was at least one thing that could help, Gauthier said it would be for the general public to continue to respect and abide by public health guidelines.  \"Take it seriously,\" she said. \"It is quite discouraging for some nurses to see large gatherings in parks, especially with nicer weather.\"  Percentage of ICU admissions for people aged 18-39 doubled nationwide January-March  In a statement released Sunday afternoon, Canada\\'s Chief Public Health Officer Dr. Theresa Tam urged people that a \"high degree of caution must be maintained until vaccination programs are further expanded.\"  The country is seeing an increase in the number of adults under the age of 60 requiring hospital treatment for COVID-19, Tam said.  In particular, she said, the number of adults between the ages of 40 to 59 who required ICU care and mechanical ventilation in March 2021 was on the rise.   People between the ages of 18 and 39 made up 15 per cent of ICU admissions that same month, Tam said, double from just 7.4 per cent two months earlier, in January.  \"This is a reminder that serious illness can occur at any age,\" she said. \"Evidence indicates that variants of concern can be associated with more severe illness and increased risk of death.\"  Nearly 25,000 cases involving variants of concern have been reported nationwide as of April 8, per her statement. The vast majority are B.1.1.7 variants, which originated in the U.K.  \"A combination of strong and sustained community-based public health measures and strict adherence to individual precautions is crucial in order to suppress rapid epidemic growth,\" Tam said.  Tam urged Canadians to:  Maintain the greatest possible distance with other people Wear the best-fitting mask they have Aim for the fewest interactions with people Aim to interact with the fewest number of people'"
     },
     "execution_count": 20,
     "metadata": {},
     "output_type": "execute_result"
    }
   ],
   "source": [
    "text"
   ]
  },
  {
   "cell_type": "code",
   "execution_count": 27,
   "metadata": {},
   "outputs": [
    {
     "data": {
      "text/plain": "array([[0.97467923]], dtype=float32)"
     },
     "execution_count": 27,
     "metadata": {},
     "output_type": "execute_result"
    }
   ],
   "source": [
    "model.predict([text]) "
   ]
  },
  {
   "cell_type": "code",
   "execution_count": 15,
   "metadata": {},
   "outputs": [],
   "source": [
    "text = \"\"\" Nolte: Whites Excluded, Illegal Aliens Qualify for Oakland’s $500 Month Payout Program \n",
    "\n",
    "Oakland, California, Mayor Libby Schaaf (D) announced a program that offers poor minority families $500 a month. Poor white families are excluded for the sin of being white. However, illegal aliens qualify.\n",
    "\n",
    "Per the Daily Mail, “An estimated 10,000 of Oakland’s 435,000 population are white residents who live in poverty,” but they will receive nothing, and only because they are white.\n",
    "\n",
    "Here is how you qualify for Oakland’s no-questions-asked $500 a month:\n",
    "\n",
    "You must have at least one child\n",
    "Your income must be at or below 50 percent of Oakland’s median income\n",
    "You must not be white\n",
    "The excuse for excluding whitey, per the far-left Associate Press, is that “White households in Oakland on average make about three times as much annually than black households[.]”\n",
    "\n",
    "Yeah, but, um, 10,000 white households do not.\n",
    "\n",
    "Okay, but they are still white. Duh.\n",
    "\n",
    "The good news — if you’re a total lunatic — is that while poor whites are excluded based only on the fact they are white, illegal aliens do qualify for the $500 per month.  Per Yahoo, the $500 is not taxable “and undocumented and/or unsheltered individuals also qualify.”\n",
    "\n",
    "Let me run that Yahoo sentence through the Orwellian translator: “illegal aliens and the homeless also qualify.”\n",
    "\n",
    "Ah, but do white illegal aliens and white homeless people qualify?\n",
    "\n",
    "Oh, and how do you prove you qualify? Is a racist ID required?\n",
    "\n",
    "Do Asians qualify as “people of color,” or is this one more hate crime against them, just like all the other hate crimes against Asians that happen exclusively in Democrat-run cities?\n",
    "\n",
    "What about a white person who is both homeless and an illegal alien; would this person qualify?\n",
    "\n",
    "The city is going to try and get away with this blatant racism by claiming the fund being used for the $500 payouts is a private fund. We’ll see if that flies, not only with the people but with the Supreme Court.\n",
    "\n",
    "Oakland is a shithole city and one that has been run exclusively by Democrats for some 50 years. If there’s a racism problem in Oakland, if there’s a “systemic racism” problem in Oakland, let’s try to remember who’s been in charge of that system for a half century.\n",
    "\n",
    "The Daily Mail reports “Oakland’s homeless population rose by nearly 50 per cent between 2017 and 2019.” Well, with Democrats in charge for a half-century, whose fault is that? Out here in MAGA Land, in Rural America, we don’t have a homeless crisis.\n",
    "\n",
    "Oakland closed 2020 with its highest murder rate in eight years; 102 people killed. Well, whose fault is that? Out here in Trump Land we don’t have a gun violence problem (even though we all own guns).\n",
    "\n",
    "Last year, Oakland was named one of the most dangerous cities in America? Well, whose fault is that? Out here in Rural America, all of us Trumptards live in peace and brotherhood. No racial tensions. No riots. No mass shootings.\n",
    "\n",
    "There’s just no question that one of the primary motives behind excluding whites from this $500 a month is to deliberately gin up racial hate and racial division and racial tensions, which is something else that is almost exclusive to Democrat-run cities.\n",
    "\n",
    "Between the violence, the shitty schools, the deliberate gunning up of racial tensions, not to mention all the rioting led by the left-wing terrorists in Antifa and Black Lives Matter, these Democrat-run cities are deliberately tearing themselves apart.\n",
    "\n",
    "No sympathy here.\n",
    "\n",
    "You get what you vote for and the idiots of Oakland obviously enjoy racism and murder and poverty and chronic homelessness. They do keep voting for it.\n",
    "\n",
    "No skin off my nose.\n",
    "\n",
    "Life remains peaceful, clean, safe, colorblind, and serene in MAGA Country.\n",
    "\"\"\".replace('\\n', ' ')"
   ]
  },
  {
   "cell_type": "code",
   "execution_count": 86,
   "metadata": {},
   "outputs": [
    {
     "data": {
      "text/plain": "array([[0.00027549]], dtype=float32)"
     },
     "execution_count": 86,
     "metadata": {},
     "output_type": "execute_result"
    }
   ],
   "source": [
    "model.predict([text]) "
   ]
  },
  {
   "cell_type": "code",
   "execution_count": 87,
   "metadata": {},
   "outputs": [],
   "source": [
    "import pandas as pd\n",
    "import numpy as np"
   ]
  },
  {
   "cell_type": "code",
   "execution_count": 88,
   "metadata": {},
   "outputs": [],
   "source": [
    "sample = pd.read_excel('news_sample.xlsx')"
   ]
  },
  {
   "cell_type": "code",
   "execution_count": 89,
   "metadata": {},
   "outputs": [
    {
     "data": {
      "text/html": "<div>\n<style scoped>\n    .dataframe tbody tr th:only-of-type {\n        vertical-align: middle;\n    }\n\n    .dataframe tbody tr th {\n        vertical-align: top;\n    }\n\n    .dataframe thead th {\n        text-align: right;\n    }\n</style>\n<table border=\"1\" class=\"dataframe\">\n  <thead>\n    <tr style=\"text-align: right;\">\n      <th></th>\n      <th>Article</th>\n      <th>Link</th>\n      <th>Type</th>\n    </tr>\n  </thead>\n  <tbody>\n    <tr>\n      <th>0</th>\n      <td>Members of Congress may use campaign funds to ...</td>\n      <td>https://www.cnn.com/2021/03/26/politics/campai...</td>\n      <td>Nouvelles americaines - Politique</td>\n    </tr>\n    <tr>\n      <th>1</th>\n      <td>Biden to unveil major new spending plans as De...</td>\n      <td>https://apple.news/AHAdrDeI2QsOHQvky_R6QKA</td>\n      <td>Nouvelles americaines - Politique</td>\n    </tr>\n    <tr>\n      <th>2</th>\n      <td>Blinken suggests US won't take punitive action...</td>\n      <td>https://apple.news/AATez8h0STMeO9_-cMUvl4w</td>\n      <td>Nouvelles americaines - Politique</td>\n    </tr>\n    <tr>\n      <th>3</th>\n      <td>One day before the Republican Party’s elite do...</td>\n      <td>https://apple.news/AOpNgt6jzTFmO0SeiBeI_tA</td>\n      <td>Nouvelles americaines - Politique</td>\n    </tr>\n    <tr>\n      <th>4</th>\n      <td>Erin O’Toole wanted Conservatives to affirm th...</td>\n      <td>https://apple.news/AA7uTFp8pSPi_JyUAxkQLAw</td>\n      <td>Nouvelles canadiennes - Politique</td>\n    </tr>\n    <tr>\n      <th>5</th>\n      <td>Western Canada: Supreme Court upholds Ottawa’s...</td>\n      <td>https://apple.news/AwReImVYORaqXxkN82-kYnQ</td>\n      <td>Nouvelles canadiennes - Politique</td>\n    </tr>\n    <tr>\n      <th>6</th>\n      <td>US-China relations: Beijing’s plan for aviatio...</td>\n      <td>https://apple.news/Ah-0sZKV0QKKmKUaMk8MklA</td>\n      <td>Nouvelles internationales - Politique</td>\n    </tr>\n    <tr>\n      <th>7</th>\n      <td>West Coast Trail will reopen to Canadian hiker...</td>\n      <td>https://apple.news/Axn6cI_0TRtK6r0gAH2oD0g</td>\n      <td>Nouvelles canadiennes locales - faits divers</td>\n    </tr>\n    <tr>\n      <th>8</th>\n      <td>iOS 14.5 beta 5 is now available to developer ...</td>\n      <td>https://apple.news/AvwAnqPIrRnmSwMTh0UQ2dg</td>\n      <td>Nouvelles tech</td>\n    </tr>\n    <tr>\n      <th>9</th>\n      <td>A New Snapshot of a Black Hole Reveals Its Mys...</td>\n      <td>https://apple.news/A4-miuWiySUye_iTyOTS8uw</td>\n      <td>Nouvelles science</td>\n    </tr>\n    <tr>\n      <th>10</th>\n      <td>Canadiens acquire Eric Staal from the Buffalo ...</td>\n      <td>https://www.nhl.com/canadiens/news/canadiens-a...</td>\n      <td>Nouvelles sport</td>\n    </tr>\n    <tr>\n      <th>11</th>\n      <td>Just 30 More Awesome Products That We Found Sc...</td>\n      <td>https://www.buzzfeed.com/mayning/tiktok-produc...</td>\n      <td>buzzfeed</td>\n    </tr>\n    <tr>\n      <th>12</th>\n      <td>Trump Releases Footage of Yet-to-Air 60 Minute...</td>\n      <td>https://nymag.com/intelligencer/2020/10/trump-...</td>\n      <td>fake</td>\n    </tr>\n    <tr>\n      <th>13</th>\n      <td>Source: Biden to Debate Wearing Brain Implant,...</td>\n      <td>https://nymag.com/intelligencer/2020/09/trump-...</td>\n      <td>fake</td>\n    </tr>\n    <tr>\n      <th>14</th>\n      <td>Vatican Cardinal: In a Globalized World, ‘Ther...</td>\n      <td>https://www.infowars.com/posts/vatican-cardina...</td>\n      <td>fake</td>\n    </tr>\n    <tr>\n      <th>15</th>\n      <td>Texas GOP Votes To Delete Its Gab Account Afte...</td>\n      <td>https://www.infowars.com/posts/texas-gop-votes...</td>\n      <td>fake</td>\n    </tr>\n    <tr>\n      <th>16</th>\n      <td>Here Come The Global Vaccine Passports Vaccina...</td>\n      <td>https://www.infowars.com/posts/here-come-the-g...</td>\n      <td>fake</td>\n    </tr>\n    <tr>\n      <th>17</th>\n      <td>Nolte: Whites Excluded, Illegal Aliens Qualify...</td>\n      <td>https://www.breitbart.com/politics/2021/03/26/...</td>\n      <td>fake</td>\n    </tr>\n  </tbody>\n</table>\n</div>",
      "text/plain": "                                              Article  \\\n0   Members of Congress may use campaign funds to ...   \n1   Biden to unveil major new spending plans as De...   \n2   Blinken suggests US won't take punitive action...   \n3   One day before the Republican Party’s elite do...   \n4   Erin O’Toole wanted Conservatives to affirm th...   \n5   Western Canada: Supreme Court upholds Ottawa’s...   \n6   US-China relations: Beijing’s plan for aviatio...   \n7   West Coast Trail will reopen to Canadian hiker...   \n8   iOS 14.5 beta 5 is now available to developer ...   \n9   A New Snapshot of a Black Hole Reveals Its Mys...   \n10  Canadiens acquire Eric Staal from the Buffalo ...   \n11  Just 30 More Awesome Products That We Found Sc...   \n12  Trump Releases Footage of Yet-to-Air 60 Minute...   \n13  Source: Biden to Debate Wearing Brain Implant,...   \n14  Vatican Cardinal: In a Globalized World, ‘Ther...   \n15  Texas GOP Votes To Delete Its Gab Account Afte...   \n16  Here Come The Global Vaccine Passports Vaccina...   \n17  Nolte: Whites Excluded, Illegal Aliens Qualify...   \n\n                                                 Link  \\\n0   https://www.cnn.com/2021/03/26/politics/campai...   \n1          https://apple.news/AHAdrDeI2QsOHQvky_R6QKA   \n2          https://apple.news/AATez8h0STMeO9_-cMUvl4w   \n3          https://apple.news/AOpNgt6jzTFmO0SeiBeI_tA   \n4          https://apple.news/AA7uTFp8pSPi_JyUAxkQLAw   \n5          https://apple.news/AwReImVYORaqXxkN82-kYnQ   \n6          https://apple.news/Ah-0sZKV0QKKmKUaMk8MklA   \n7          https://apple.news/Axn6cI_0TRtK6r0gAH2oD0g   \n8          https://apple.news/AvwAnqPIrRnmSwMTh0UQ2dg   \n9          https://apple.news/A4-miuWiySUye_iTyOTS8uw   \n10  https://www.nhl.com/canadiens/news/canadiens-a...   \n11  https://www.buzzfeed.com/mayning/tiktok-produc...   \n12  https://nymag.com/intelligencer/2020/10/trump-...   \n13  https://nymag.com/intelligencer/2020/09/trump-...   \n14  https://www.infowars.com/posts/vatican-cardina...   \n15  https://www.infowars.com/posts/texas-gop-votes...   \n16  https://www.infowars.com/posts/here-come-the-g...   \n17  https://www.breitbart.com/politics/2021/03/26/...   \n\n                                            Type  \n0              Nouvelles americaines - Politique  \n1              Nouvelles americaines - Politique  \n2              Nouvelles americaines - Politique  \n3              Nouvelles americaines - Politique  \n4              Nouvelles canadiennes - Politique  \n5              Nouvelles canadiennes - Politique  \n6          Nouvelles internationales - Politique  \n7   Nouvelles canadiennes locales - faits divers  \n8                                Nouvelles tech   \n9                              Nouvelles science  \n10                               Nouvelles sport  \n11                                      buzzfeed  \n12                                          fake  \n13                                          fake  \n14                                          fake  \n15                                          fake  \n16                                          fake  \n17                                          fake  "
     },
     "execution_count": 89,
     "metadata": {},
     "output_type": "execute_result"
    }
   ],
   "source": [
    "sample"
   ]
  },
  {
   "cell_type": "code",
   "execution_count": 90,
   "metadata": {},
   "outputs": [],
   "source": [
    "sample_text = [article.replace('\\n', ' ') for article in sample['Article'].to_numpy()]"
   ]
  },
  {
   "cell_type": "code",
   "execution_count": 91,
   "metadata": {},
   "outputs": [
    {
     "data": {
      "text/plain": "array([[6.6841453e-02],\n       [3.2495856e-03],\n       [2.8561085e-02],\n       [7.1210146e-05],\n       [5.4618478e-02],\n       [1.4805883e-02],\n       [1.9378394e-02],\n       [6.3426703e-02],\n       [2.7641654e-04],\n       [4.0975213e-04],\n       [4.6781123e-02],\n       [7.5525045e-04],\n       [1.5721023e-02],\n       [6.5281987e-04],\n       [2.5157392e-02],\n       [9.0565979e-03],\n       [7.1191265e-05],\n       [2.7549267e-04]], dtype=float32)"
     },
     "execution_count": 91,
     "metadata": {},
     "output_type": "execute_result"
    }
   ],
   "source": [
    "prediction = model.predict(sample_text)\n",
    "prediction"
   ]
  },
  {
   "cell_type": "code",
   "execution_count": 92,
   "metadata": {},
   "outputs": [
    {
     "data": {
      "text/plain": "<tf.Tensor: shape=(18, 1), dtype=bool, numpy=\narray([[False],\n       [False],\n       [False],\n       [False],\n       [False],\n       [False],\n       [False],\n       [False],\n       [False],\n       [False],\n       [False],\n       [False],\n       [False],\n       [False],\n       [False],\n       [False],\n       [False],\n       [False]])>"
     },
     "execution_count": 92,
     "metadata": {},
     "output_type": "execute_result"
    }
   ],
   "source": [
    "tf.greater(prediction, .5)"
   ]
  },
  {
   "cell_type": "code",
   "execution_count": 96,
   "metadata": {},
   "outputs": [],
   "source": [
    "sample['Résultat'] = tf.greater(prediction, .5).numpy()\n",
    "sample['Score'] = prediction"
   ]
  },
  {
   "cell_type": "code",
   "execution_count": 97,
   "metadata": {},
   "outputs": [
    {
     "data": {
      "text/html": "<div>\n<style scoped>\n    .dataframe tbody tr th:only-of-type {\n        vertical-align: middle;\n    }\n\n    .dataframe tbody tr th {\n        vertical-align: top;\n    }\n\n    .dataframe thead th {\n        text-align: right;\n    }\n</style>\n<table border=\"1\" class=\"dataframe\">\n  <thead>\n    <tr style=\"text-align: right;\">\n      <th></th>\n      <th>Article</th>\n      <th>Link</th>\n      <th>Type</th>\n      <th>Résultat</th>\n      <th>Score</th>\n    </tr>\n  </thead>\n  <tbody>\n    <tr>\n      <th>0</th>\n      <td>Members of Congress may use campaign funds to ...</td>\n      <td>https://www.cnn.com/2021/03/26/politics/campai...</td>\n      <td>Nouvelles americaines - Politique</td>\n      <td>False</td>\n      <td>0.066841</td>\n    </tr>\n    <tr>\n      <th>1</th>\n      <td>Biden to unveil major new spending plans as De...</td>\n      <td>https://apple.news/AHAdrDeI2QsOHQvky_R6QKA</td>\n      <td>Nouvelles americaines - Politique</td>\n      <td>False</td>\n      <td>0.003250</td>\n    </tr>\n    <tr>\n      <th>2</th>\n      <td>Blinken suggests US won't take punitive action...</td>\n      <td>https://apple.news/AATez8h0STMeO9_-cMUvl4w</td>\n      <td>Nouvelles americaines - Politique</td>\n      <td>False</td>\n      <td>0.028561</td>\n    </tr>\n    <tr>\n      <th>3</th>\n      <td>One day before the Republican Party’s elite do...</td>\n      <td>https://apple.news/AOpNgt6jzTFmO0SeiBeI_tA</td>\n      <td>Nouvelles americaines - Politique</td>\n      <td>False</td>\n      <td>0.000071</td>\n    </tr>\n    <tr>\n      <th>4</th>\n      <td>Erin O’Toole wanted Conservatives to affirm th...</td>\n      <td>https://apple.news/AA7uTFp8pSPi_JyUAxkQLAw</td>\n      <td>Nouvelles canadiennes - Politique</td>\n      <td>False</td>\n      <td>0.054618</td>\n    </tr>\n    <tr>\n      <th>5</th>\n      <td>Western Canada: Supreme Court upholds Ottawa’s...</td>\n      <td>https://apple.news/AwReImVYORaqXxkN82-kYnQ</td>\n      <td>Nouvelles canadiennes - Politique</td>\n      <td>False</td>\n      <td>0.014806</td>\n    </tr>\n    <tr>\n      <th>6</th>\n      <td>US-China relations: Beijing’s plan for aviatio...</td>\n      <td>https://apple.news/Ah-0sZKV0QKKmKUaMk8MklA</td>\n      <td>Nouvelles internationales - Politique</td>\n      <td>False</td>\n      <td>0.019378</td>\n    </tr>\n    <tr>\n      <th>7</th>\n      <td>West Coast Trail will reopen to Canadian hiker...</td>\n      <td>https://apple.news/Axn6cI_0TRtK6r0gAH2oD0g</td>\n      <td>Nouvelles canadiennes locales - faits divers</td>\n      <td>False</td>\n      <td>0.063427</td>\n    </tr>\n    <tr>\n      <th>8</th>\n      <td>iOS 14.5 beta 5 is now available to developer ...</td>\n      <td>https://apple.news/AvwAnqPIrRnmSwMTh0UQ2dg</td>\n      <td>Nouvelles tech</td>\n      <td>False</td>\n      <td>0.000276</td>\n    </tr>\n    <tr>\n      <th>9</th>\n      <td>A New Snapshot of a Black Hole Reveals Its Mys...</td>\n      <td>https://apple.news/A4-miuWiySUye_iTyOTS8uw</td>\n      <td>Nouvelles science</td>\n      <td>False</td>\n      <td>0.000410</td>\n    </tr>\n    <tr>\n      <th>10</th>\n      <td>Canadiens acquire Eric Staal from the Buffalo ...</td>\n      <td>https://www.nhl.com/canadiens/news/canadiens-a...</td>\n      <td>Nouvelles sport</td>\n      <td>False</td>\n      <td>0.046781</td>\n    </tr>\n    <tr>\n      <th>11</th>\n      <td>Just 30 More Awesome Products That We Found Sc...</td>\n      <td>https://www.buzzfeed.com/mayning/tiktok-produc...</td>\n      <td>buzzfeed</td>\n      <td>False</td>\n      <td>0.000755</td>\n    </tr>\n    <tr>\n      <th>12</th>\n      <td>Trump Releases Footage of Yet-to-Air 60 Minute...</td>\n      <td>https://nymag.com/intelligencer/2020/10/trump-...</td>\n      <td>fake</td>\n      <td>False</td>\n      <td>0.015721</td>\n    </tr>\n    <tr>\n      <th>13</th>\n      <td>Source: Biden to Debate Wearing Brain Implant,...</td>\n      <td>https://nymag.com/intelligencer/2020/09/trump-...</td>\n      <td>fake</td>\n      <td>False</td>\n      <td>0.000653</td>\n    </tr>\n    <tr>\n      <th>14</th>\n      <td>Vatican Cardinal: In a Globalized World, ‘Ther...</td>\n      <td>https://www.infowars.com/posts/vatican-cardina...</td>\n      <td>fake</td>\n      <td>False</td>\n      <td>0.025157</td>\n    </tr>\n    <tr>\n      <th>15</th>\n      <td>Texas GOP Votes To Delete Its Gab Account Afte...</td>\n      <td>https://www.infowars.com/posts/texas-gop-votes...</td>\n      <td>fake</td>\n      <td>False</td>\n      <td>0.009057</td>\n    </tr>\n    <tr>\n      <th>16</th>\n      <td>Here Come The Global Vaccine Passports Vaccina...</td>\n      <td>https://www.infowars.com/posts/here-come-the-g...</td>\n      <td>fake</td>\n      <td>False</td>\n      <td>0.000071</td>\n    </tr>\n    <tr>\n      <th>17</th>\n      <td>Nolte: Whites Excluded, Illegal Aliens Qualify...</td>\n      <td>https://www.breitbart.com/politics/2021/03/26/...</td>\n      <td>fake</td>\n      <td>False</td>\n      <td>0.000275</td>\n    </tr>\n  </tbody>\n</table>\n</div>",
      "text/plain": "                                              Article  \\\n0   Members of Congress may use campaign funds to ...   \n1   Biden to unveil major new spending plans as De...   \n2   Blinken suggests US won't take punitive action...   \n3   One day before the Republican Party’s elite do...   \n4   Erin O’Toole wanted Conservatives to affirm th...   \n5   Western Canada: Supreme Court upholds Ottawa’s...   \n6   US-China relations: Beijing’s plan for aviatio...   \n7   West Coast Trail will reopen to Canadian hiker...   \n8   iOS 14.5 beta 5 is now available to developer ...   \n9   A New Snapshot of a Black Hole Reveals Its Mys...   \n10  Canadiens acquire Eric Staal from the Buffalo ...   \n11  Just 30 More Awesome Products That We Found Sc...   \n12  Trump Releases Footage of Yet-to-Air 60 Minute...   \n13  Source: Biden to Debate Wearing Brain Implant,...   \n14  Vatican Cardinal: In a Globalized World, ‘Ther...   \n15  Texas GOP Votes To Delete Its Gab Account Afte...   \n16  Here Come The Global Vaccine Passports Vaccina...   \n17  Nolte: Whites Excluded, Illegal Aliens Qualify...   \n\n                                                 Link  \\\n0   https://www.cnn.com/2021/03/26/politics/campai...   \n1          https://apple.news/AHAdrDeI2QsOHQvky_R6QKA   \n2          https://apple.news/AATez8h0STMeO9_-cMUvl4w   \n3          https://apple.news/AOpNgt6jzTFmO0SeiBeI_tA   \n4          https://apple.news/AA7uTFp8pSPi_JyUAxkQLAw   \n5          https://apple.news/AwReImVYORaqXxkN82-kYnQ   \n6          https://apple.news/Ah-0sZKV0QKKmKUaMk8MklA   \n7          https://apple.news/Axn6cI_0TRtK6r0gAH2oD0g   \n8          https://apple.news/AvwAnqPIrRnmSwMTh0UQ2dg   \n9          https://apple.news/A4-miuWiySUye_iTyOTS8uw   \n10  https://www.nhl.com/canadiens/news/canadiens-a...   \n11  https://www.buzzfeed.com/mayning/tiktok-produc...   \n12  https://nymag.com/intelligencer/2020/10/trump-...   \n13  https://nymag.com/intelligencer/2020/09/trump-...   \n14  https://www.infowars.com/posts/vatican-cardina...   \n15  https://www.infowars.com/posts/texas-gop-votes...   \n16  https://www.infowars.com/posts/here-come-the-g...   \n17  https://www.breitbart.com/politics/2021/03/26/...   \n\n                                            Type  Résultat     Score  \n0              Nouvelles americaines - Politique     False  0.066841  \n1              Nouvelles americaines - Politique     False  0.003250  \n2              Nouvelles americaines - Politique     False  0.028561  \n3              Nouvelles americaines - Politique     False  0.000071  \n4              Nouvelles canadiennes - Politique     False  0.054618  \n5              Nouvelles canadiennes - Politique     False  0.014806  \n6          Nouvelles internationales - Politique     False  0.019378  \n7   Nouvelles canadiennes locales - faits divers     False  0.063427  \n8                                Nouvelles tech      False  0.000276  \n9                              Nouvelles science     False  0.000410  \n10                               Nouvelles sport     False  0.046781  \n11                                      buzzfeed     False  0.000755  \n12                                          fake     False  0.015721  \n13                                          fake     False  0.000653  \n14                                          fake     False  0.025157  \n15                                          fake     False  0.009057  \n16                                          fake     False  0.000071  \n17                                          fake     False  0.000275  "
     },
     "execution_count": 97,
     "metadata": {},
     "output_type": "execute_result"
    }
   ],
   "source": [
    "sample"
   ]
  }
 ],
 "metadata": {
  "kernelspec": {
   "display_name": "Python 3.8.8 64-bit ('base': conda)",
   "name": "python388jvsc74a57bd0edd520d6644a321125cc4a079653ea19f3677dde8ec49922823a2d76c0a5a38b"
  },
  "language_info": {
   "codemirror_mode": {
    "name": "ipython",
    "version": 3
   },
   "file_extension": ".py",
   "mimetype": "text/x-python",
   "name": "python",
   "nbconvert_exporter": "python",
   "pygments_lexer": "ipython3",
   "version": "3.8.8"
  },
  "orig_nbformat": 2
 },
 "nbformat": 4,
 "nbformat_minor": 2
}