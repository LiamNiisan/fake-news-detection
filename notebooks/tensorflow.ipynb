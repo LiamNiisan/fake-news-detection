{
 "cells": [
  {
   "cell_type": "code",
   "execution_count": 2,
   "metadata": {},
   "outputs": [],
   "source": [
    "import os, sys"
   ]
  },
  {
   "cell_type": "code",
   "execution_count": 3,
   "metadata": {},
   "outputs": [
    {
     "data": {
      "text/plain": "'/Users/badr/Documents/ETS/Hiv2021/PFE/VS/git/fake-news-detection/notebooks'"
     },
     "execution_count": 3,
     "metadata": {},
     "output_type": "execute_result"
    }
   ],
   "source": [
    "cwd = os.getcwd()\n",
    "cwd"
   ]
  },
  {
   "cell_type": "code",
   "execution_count": 4,
   "metadata": {},
   "outputs": [],
   "source": [
    "main_repository = os.path.join(cwd, os.pardir)"
   ]
  },
  {
   "cell_type": "code",
   "execution_count": 5,
   "metadata": {},
   "outputs": [],
   "source": [
    "sys.path.append(os.path.join(main_repository, 'src'))"
   ]
  },
  {
   "cell_type": "markdown",
   "metadata": {},
   "source": [
    "## Create Tensorflow Object"
   ]
  },
  {
   "cell_type": "code",
   "execution_count": 6,
   "metadata": {},
   "outputs": [],
   "source": [
    "from tensorflow_model.TensorflowModel import TensorflowModel"
   ]
  },
  {
   "cell_type": "code",
   "execution_count": 7,
   "metadata": {},
   "outputs": [],
   "source": [
    "Tensorflow = TensorflowModel(main_repository, 5)"
   ]
  },
  {
   "cell_type": "markdown",
   "metadata": {},
   "source": [
    "## Prepare Data for Training"
   ]
  },
  {
   "cell_type": "code",
   "execution_count": null,
   "metadata": {},
   "outputs": [],
   "source": [
    "Tensorflow.preprocess()"
   ]
  },
  {
   "cell_type": "code",
   "execution_count": 7,
   "metadata": {},
   "outputs": [
    {
     "name": "stderr",
     "output_type": "stream",
     "text": [
      "100%|██████████| 5/5 [01:48<00:00, 21.67s/it]\n"
     ]
    }
   ],
   "source": [
    "Tensorflow.format()"
   ]
  },
  {
   "cell_type": "markdown",
   "metadata": {},
   "source": [
    "## Training"
   ]
  },
  {
   "cell_type": "code",
   "execution_count": 21,
   "metadata": {},
   "outputs": [
    {
     "name": "stderr",
     "output_type": "stream",
     "text": [
      "  0%|          | 0/5 [00:00<?, ?it/s]"
     ]
    },
    {
     "name": "stdout",
     "output_type": "stream",
     "text": [
      "Found 28746 files belonging to 2 classes.\n",
      "Found 7188 files belonging to 2 classes.\n",
      "Epoch 1/40\n",
      "899/899 [==============================] - 16s 17ms/step - loss: 0.5649 - binary_accuracy: 0.7421 - val_loss: 0.4790 - val_binary_accuracy: 0.7038\n",
      "Epoch 2/40\n",
      "899/899 [==============================] - 2s 2ms/step - loss: 0.2000 - binary_accuracy: 0.9456 - val_loss: 0.4092 - val_binary_accuracy: 0.7706\n",
      "Epoch 3/40\n",
      "899/899 [==============================] - 2s 2ms/step - loss: 0.1304 - binary_accuracy: 0.9590 - val_loss: 0.3451 - val_binary_accuracy: 0.8267\n",
      "Epoch 4/40\n",
      "899/899 [==============================] - 2s 2ms/step - loss: 0.1001 - binary_accuracy: 0.9687 - val_loss: 0.2967 - val_binary_accuracy: 0.8610\n",
      "Epoch 5/40\n",
      "899/899 [==============================] - 2s 2ms/step - loss: 0.0813 - binary_accuracy: 0.9737 - val_loss: 0.2448 - val_binary_accuracy: 0.8944\n",
      "Epoch 6/40\n",
      "899/899 [==============================] - 2s 2ms/step - loss: 0.0699 - binary_accuracy: 0.9778 - val_loss: 0.2090 - val_binary_accuracy: 0.9160\n",
      "Epoch 7/40\n",
      "899/899 [==============================] - 2s 2ms/step - loss: 0.0611 - binary_accuracy: 0.9806 - val_loss: 0.1807 - val_binary_accuracy: 0.9306\n",
      "Epoch 8/40\n",
      "899/899 [==============================] - 2s 2ms/step - loss: 0.0554 - binary_accuracy: 0.9825 - val_loss: 0.1669 - val_binary_accuracy: 0.9396\n",
      "Epoch 9/40\n",
      "899/899 [==============================] - 1s 2ms/step - loss: 0.0506 - binary_accuracy: 0.9846 - val_loss: 0.1591 - val_binary_accuracy: 0.9439\n",
      "Epoch 10/40\n",
      "899/899 [==============================] - 1s 2ms/step - loss: 0.0479 - binary_accuracy: 0.9849 - val_loss: 0.1499 - val_binary_accuracy: 0.9480\n",
      "Epoch 11/40\n",
      "899/899 [==============================] - 1s 2ms/step - loss: 0.0454 - binary_accuracy: 0.9863 - val_loss: 0.1443 - val_binary_accuracy: 0.9509\n",
      "Epoch 12/40\n",
      "899/899 [==============================] - 1s 2ms/step - loss: 0.0438 - binary_accuracy: 0.9874 - val_loss: 0.1371 - val_binary_accuracy: 0.9538\n",
      "Epoch 13/40\n",
      "899/899 [==============================] - 2s 2ms/step - loss: 0.0431 - binary_accuracy: 0.9870 - val_loss: 0.1276 - val_binary_accuracy: 0.9577\n",
      "Epoch 14/40\n",
      "899/899 [==============================] - 2s 2ms/step - loss: 0.0420 - binary_accuracy: 0.9873 - val_loss: 0.1291 - val_binary_accuracy: 0.9576\n",
      "Epoch 15/40\n",
      "899/899 [==============================] - 2s 2ms/step - loss: 0.0396 - binary_accuracy: 0.9876 - val_loss: 0.1168 - val_binary_accuracy: 0.9620\n",
      "Epoch 16/40\n",
      "899/899 [==============================] - 1s 2ms/step - loss: 0.0399 - binary_accuracy: 0.9878 - val_loss: 0.1172 - val_binary_accuracy: 0.9623\n",
      "Epoch 17/40\n",
      "899/899 [==============================] - 2s 2ms/step - loss: 0.0403 - binary_accuracy: 0.9873 - val_loss: 0.1148 - val_binary_accuracy: 0.9641\n",
      "Epoch 18/40\n",
      "899/899 [==============================] - 2s 2ms/step - loss: 0.0396 - binary_accuracy: 0.9877 - val_loss: 0.1188 - val_binary_accuracy: 0.9624\n",
      "Epoch 19/40\n",
      "899/899 [==============================] - 1s 2ms/step - loss: 0.0396 - binary_accuracy: 0.9885 - val_loss: 0.1171 - val_binary_accuracy: 0.9638\n",
      "Epoch 20/40\n",
      "899/899 [==============================] - 2s 2ms/step - loss: 0.0388 - binary_accuracy: 0.9885 - val_loss: 0.1188 - val_binary_accuracy: 0.9631\n",
      "Epoch 21/40\n",
      "899/899 [==============================] - 2s 2ms/step - loss: 0.0378 - binary_accuracy: 0.9886 - val_loss: 0.1134 - val_binary_accuracy: 0.9652\n",
      "Epoch 22/40\n",
      "899/899 [==============================] - 2s 2ms/step - loss: 0.0386 - binary_accuracy: 0.9881 - val_loss: 0.1135 - val_binary_accuracy: 0.9654\n",
      "Epoch 23/40\n",
      "899/899 [==============================] - 1s 2ms/step - loss: 0.0389 - binary_accuracy: 0.9884 - val_loss: 0.1170 - val_binary_accuracy: 0.9642\n",
      "Epoch 24/40\n",
      "899/899 [==============================] - 2s 2ms/step - loss: 0.0385 - binary_accuracy: 0.9883 - val_loss: 0.1182 - val_binary_accuracy: 0.9641\n",
      "Epoch 25/40\n",
      "899/899 [==============================] - 2s 2ms/step - loss: 0.0376 - binary_accuracy: 0.9878 - val_loss: 0.1130 - val_binary_accuracy: 0.9659\n",
      "Epoch 26/40\n",
      "899/899 [==============================] - 2s 2ms/step - loss: 0.0388 - binary_accuracy: 0.9882 - val_loss: 0.1143 - val_binary_accuracy: 0.9654\n",
      "Epoch 27/40\n",
      "899/899 [==============================] - 2s 2ms/step - loss: 0.0379 - binary_accuracy: 0.9885 - val_loss: 0.1130 - val_binary_accuracy: 0.9662\n",
      "Epoch 28/40\n",
      "899/899 [==============================] - 2s 2ms/step - loss: 0.0369 - binary_accuracy: 0.9889 - val_loss: 0.1119 - val_binary_accuracy: 0.9668\n",
      "Epoch 29/40\n",
      "899/899 [==============================] - 2s 2ms/step - loss: 0.0382 - binary_accuracy: 0.9880 - val_loss: 0.1155 - val_binary_accuracy: 0.9655\n",
      "Epoch 30/40\n",
      "899/899 [==============================] - 2s 2ms/step - loss: 0.0378 - binary_accuracy: 0.9883 - val_loss: 0.1123 - val_binary_accuracy: 0.9668\n",
      "Epoch 31/40\n",
      "899/899 [==============================] - 2s 2ms/step - loss: 0.0372 - binary_accuracy: 0.9882 - val_loss: 0.1106 - val_binary_accuracy: 0.9672\n",
      "Epoch 32/40\n",
      "899/899 [==============================] - 2s 2ms/step - loss: 0.0379 - binary_accuracy: 0.9881 - val_loss: 0.1154 - val_binary_accuracy: 0.9662\n",
      "Epoch 33/40\n",
      "899/899 [==============================] - 2s 2ms/step - loss: 0.0373 - binary_accuracy: 0.9883 - val_loss: 0.1186 - val_binary_accuracy: 0.9649\n",
      "Epoch 34/40\n",
      "899/899 [==============================] - 2s 2ms/step - loss: 0.0373 - binary_accuracy: 0.9889 - val_loss: 0.1148 - val_binary_accuracy: 0.9662\n",
      "Epoch 35/40\n",
      "899/899 [==============================] - 2s 2ms/step - loss: 0.0373 - binary_accuracy: 0.9884 - val_loss: 0.1148 - val_binary_accuracy: 0.9673\n",
      "Epoch 36/40\n",
      "899/899 [==============================] - 2s 2ms/step - loss: 0.0367 - binary_accuracy: 0.9878 - val_loss: 0.1149 - val_binary_accuracy: 0.9670\n",
      "Epoch 37/40\n",
      "899/899 [==============================] - 2s 2ms/step - loss: 0.0371 - binary_accuracy: 0.9886 - val_loss: 0.1131 - val_binary_accuracy: 0.9672\n",
      "Epoch 38/40\n",
      "899/899 [==============================] - 2s 2ms/step - loss: 0.0370 - binary_accuracy: 0.9886 - val_loss: 0.1177 - val_binary_accuracy: 0.9661\n",
      "Epoch 39/40\n",
      "899/899 [==============================] - 2s 2ms/step - loss: 0.0367 - binary_accuracy: 0.9879 - val_loss: 0.1139 - val_binary_accuracy: 0.9672\n",
      "Epoch 40/40\n",
      "899/899 [==============================] - 2s 2ms/step - loss: 0.0373 - binary_accuracy: 0.9884 - val_loss: 0.1120 - val_binary_accuracy: 0.9676\n",
      "225/225 [==============================] - 3s 13ms/step - loss: 0.1135 - accuracy: 0.9674\n",
      "INFO:tensorflow:Assets written to: /Users/badr/Documents/ETS/Hiv2021/PFE/VS/git/fake-news-detection/notebooks/../models/tensorflow/model_1/assets\n"
     ]
    },
    {
     "name": "stderr",
     "output_type": "stream",
     "text": [
      " 20%|██        | 1/5 [01:43<06:54, 103.72s/it]"
     ]
    },
    {
     "name": "stdout",
     "output_type": "stream",
     "text": [
      "Found 28746 files belonging to 2 classes.\n",
      "Found 7188 files belonging to 2 classes.\n",
      "Epoch 1/40\n",
      "899/899 [==============================] - 15s 16ms/step - loss: 0.5675 - binary_accuracy: 0.7626 - val_loss: 0.4769 - val_binary_accuracy: 0.7109\n",
      "Epoch 2/40\n",
      "899/899 [==============================] - 1s 1ms/step - loss: 0.2022 - binary_accuracy: 0.9428 - val_loss: 0.4017 - val_binary_accuracy: 0.7838\n",
      "Epoch 3/40\n",
      "899/899 [==============================] - 1s 1ms/step - loss: 0.1298 - binary_accuracy: 0.9603 - val_loss: 0.3284 - val_binary_accuracy: 0.8385\n",
      "Epoch 4/40\n",
      "899/899 [==============================] - 1s 2ms/step - loss: 0.0988 - binary_accuracy: 0.9698 - val_loss: 0.2784 - val_binary_accuracy: 0.8738\n",
      "Epoch 5/40\n",
      "899/899 [==============================] - 2s 2ms/step - loss: 0.0796 - binary_accuracy: 0.9752 - val_loss: 0.2264 - val_binary_accuracy: 0.9062\n",
      "Epoch 6/40\n",
      "899/899 [==============================] - 1s 2ms/step - loss: 0.0669 - binary_accuracy: 0.9789 - val_loss: 0.1925 - val_binary_accuracy: 0.9243\n",
      "Epoch 7/40\n",
      "899/899 [==============================] - 1s 2ms/step - loss: 0.0579 - binary_accuracy: 0.9807 - val_loss: 0.1672 - val_binary_accuracy: 0.9393\n",
      "Epoch 8/40\n",
      "899/899 [==============================] - 2s 2ms/step - loss: 0.0518 - binary_accuracy: 0.9836 - val_loss: 0.1490 - val_binary_accuracy: 0.9473\n",
      "Epoch 9/40\n",
      "899/899 [==============================] - 2s 2ms/step - loss: 0.0471 - binary_accuracy: 0.9850 - val_loss: 0.1379 - val_binary_accuracy: 0.9538\n",
      "Epoch 10/40\n",
      "899/899 [==============================] - 2s 2ms/step - loss: 0.0438 - binary_accuracy: 0.9865 - val_loss: 0.1268 - val_binary_accuracy: 0.9580\n",
      "Epoch 11/40\n",
      "899/899 [==============================] - 2s 2ms/step - loss: 0.0408 - binary_accuracy: 0.9876 - val_loss: 0.1201 - val_binary_accuracy: 0.9612\n",
      "Epoch 12/40\n",
      "899/899 [==============================] - 2s 2ms/step - loss: 0.0390 - binary_accuracy: 0.9879 - val_loss: 0.1216 - val_binary_accuracy: 0.9620\n",
      "Epoch 13/40\n",
      "899/899 [==============================] - 2s 3ms/step - loss: 0.0369 - binary_accuracy: 0.9886 - val_loss: 0.1161 - val_binary_accuracy: 0.9627\n",
      "Epoch 14/40\n",
      "899/899 [==============================] - 2s 2ms/step - loss: 0.0364 - binary_accuracy: 0.9889 - val_loss: 0.1174 - val_binary_accuracy: 0.9629\n",
      "Epoch 15/40\n",
      "899/899 [==============================] - 2s 2ms/step - loss: 0.0358 - binary_accuracy: 0.9886 - val_loss: 0.1130 - val_binary_accuracy: 0.9638\n",
      "Epoch 16/40\n",
      "899/899 [==============================] - 2s 2ms/step - loss: 0.0359 - binary_accuracy: 0.9898 - val_loss: 0.1173 - val_binary_accuracy: 0.9636\n",
      "Epoch 17/40\n",
      "899/899 [==============================] - 2s 2ms/step - loss: 0.0347 - binary_accuracy: 0.9886 - val_loss: 0.1103 - val_binary_accuracy: 0.9648\n",
      "Epoch 18/40\n",
      "899/899 [==============================] - 2s 2ms/step - loss: 0.0335 - binary_accuracy: 0.9897 - val_loss: 0.1077 - val_binary_accuracy: 0.9659\n",
      "Epoch 19/40\n",
      "899/899 [==============================] - 2s 2ms/step - loss: 0.0341 - binary_accuracy: 0.9898 - val_loss: 0.1120 - val_binary_accuracy: 0.9649\n",
      "Epoch 20/40\n",
      "899/899 [==============================] - 2s 2ms/step - loss: 0.0341 - binary_accuracy: 0.9896 - val_loss: 0.1065 - val_binary_accuracy: 0.9665\n",
      "Epoch 21/40\n",
      "899/899 [==============================] - 2s 2ms/step - loss: 0.0337 - binary_accuracy: 0.9897 - val_loss: 0.1118 - val_binary_accuracy: 0.9649\n",
      "Epoch 22/40\n",
      "899/899 [==============================] - 2s 2ms/step - loss: 0.0327 - binary_accuracy: 0.9903 - val_loss: 0.1041 - val_binary_accuracy: 0.9670\n",
      "Epoch 23/40\n",
      "899/899 [==============================] - 2s 2ms/step - loss: 0.0328 - binary_accuracy: 0.9898 - val_loss: 0.1076 - val_binary_accuracy: 0.9662\n",
      "Epoch 24/40\n",
      "899/899 [==============================] - 2s 2ms/step - loss: 0.0328 - binary_accuracy: 0.9905 - val_loss: 0.1129 - val_binary_accuracy: 0.9655\n",
      "Epoch 25/40\n",
      "899/899 [==============================] - 2s 2ms/step - loss: 0.0324 - binary_accuracy: 0.9901 - val_loss: 0.1056 - val_binary_accuracy: 0.9673\n",
      "Epoch 26/40\n",
      "899/899 [==============================] - 2s 2ms/step - loss: 0.0326 - binary_accuracy: 0.9900 - val_loss: 0.1114 - val_binary_accuracy: 0.9658\n",
      "Epoch 27/40\n",
      "899/899 [==============================] - 2s 2ms/step - loss: 0.0320 - binary_accuracy: 0.9901 - val_loss: 0.1066 - val_binary_accuracy: 0.9672\n",
      "Epoch 28/40\n",
      "899/899 [==============================] - 2s 2ms/step - loss: 0.0322 - binary_accuracy: 0.9903 - val_loss: 0.1102 - val_binary_accuracy: 0.9665\n",
      "Epoch 29/40\n",
      "899/899 [==============================] - 2s 2ms/step - loss: 0.0318 - binary_accuracy: 0.9909 - val_loss: 0.1040 - val_binary_accuracy: 0.9677\n",
      "Epoch 30/40\n",
      "899/899 [==============================] - 2s 2ms/step - loss: 0.0319 - binary_accuracy: 0.9901 - val_loss: 0.1078 - val_binary_accuracy: 0.9670\n",
      "Epoch 31/40\n",
      "899/899 [==============================] - 2s 2ms/step - loss: 0.0311 - binary_accuracy: 0.9907 - val_loss: 0.1074 - val_binary_accuracy: 0.9672\n",
      "Epoch 32/40\n",
      "899/899 [==============================] - 2s 2ms/step - loss: 0.0314 - binary_accuracy: 0.9905 - val_loss: 0.1069 - val_binary_accuracy: 0.9669\n",
      "Epoch 33/40\n",
      "899/899 [==============================] - 2s 2ms/step - loss: 0.0308 - binary_accuracy: 0.9908 - val_loss: 0.1056 - val_binary_accuracy: 0.9672\n",
      "Epoch 34/40\n",
      "899/899 [==============================] - 2s 2ms/step - loss: 0.0317 - binary_accuracy: 0.9900 - val_loss: 0.1049 - val_binary_accuracy: 0.9670\n",
      "Epoch 35/40\n",
      "899/899 [==============================] - 2s 2ms/step - loss: 0.0317 - binary_accuracy: 0.9898 - val_loss: 0.1078 - val_binary_accuracy: 0.9663\n",
      "Epoch 36/40\n",
      "899/899 [==============================] - 2s 2ms/step - loss: 0.0312 - binary_accuracy: 0.9902 - val_loss: 0.1117 - val_binary_accuracy: 0.9663\n",
      "Epoch 37/40\n",
      "899/899 [==============================] - 2s 2ms/step - loss: 0.0303 - binary_accuracy: 0.9906 - val_loss: 0.1053 - val_binary_accuracy: 0.9669\n",
      "Epoch 38/40\n",
      "899/899 [==============================] - 2s 2ms/step - loss: 0.0316 - binary_accuracy: 0.9903 - val_loss: 0.1064 - val_binary_accuracy: 0.9668\n",
      "Epoch 39/40\n",
      "899/899 [==============================] - 2s 2ms/step - loss: 0.0313 - binary_accuracy: 0.9901 - val_loss: 0.1082 - val_binary_accuracy: 0.9666\n",
      "Epoch 40/40\n",
      "899/899 [==============================] - 2s 2ms/step - loss: 0.0316 - binary_accuracy: 0.9901 - val_loss: 0.1101 - val_binary_accuracy: 0.9662\n",
      "225/225 [==============================] - 3s 13ms/step - loss: 0.1016 - accuracy: 0.9680\n",
      "INFO:tensorflow:Assets written to: /Users/badr/Documents/ETS/Hiv2021/PFE/VS/git/fake-news-detection/notebooks/../models/tensorflow/model_2/assets\n"
     ]
    },
    {
     "name": "stderr",
     "output_type": "stream",
     "text": [
      " 40%|████      | 2/5 [03:26<05:09, 103.00s/it]"
     ]
    },
    {
     "name": "stdout",
     "output_type": "stream",
     "text": [
      "Found 28748 files belonging to 2 classes.\n",
      "Found 7188 files belonging to 2 classes.\n",
      "Epoch 1/40\n",
      "899/899 [==============================] - 13s 14ms/step - loss: 0.5674 - binary_accuracy: 0.8036 - val_loss: 0.4935 - val_binary_accuracy: 0.6914\n",
      "Epoch 2/40\n",
      "899/899 [==============================] - 1s 1ms/step - loss: 0.2003 - binary_accuracy: 0.9466 - val_loss: 0.4274 - val_binary_accuracy: 0.7631\n",
      "Epoch 3/40\n",
      "899/899 [==============================] - 1s 1ms/step - loss: 0.1306 - binary_accuracy: 0.9610 - val_loss: 0.3697 - val_binary_accuracy: 0.8133\n",
      "Epoch 4/40\n",
      "899/899 [==============================] - 1s 2ms/step - loss: 0.0999 - binary_accuracy: 0.9693 - val_loss: 0.3109 - val_binary_accuracy: 0.8535\n",
      "Epoch 5/40\n",
      "899/899 [==============================] - 1s 1ms/step - loss: 0.0811 - binary_accuracy: 0.9738 - val_loss: 0.2664 - val_binary_accuracy: 0.8833\n",
      "Epoch 6/40\n",
      "899/899 [==============================] - 1s 1ms/step - loss: 0.0687 - binary_accuracy: 0.9768 - val_loss: 0.2237 - val_binary_accuracy: 0.9082\n",
      "Epoch 7/40\n",
      "899/899 [==============================] - 1s 1ms/step - loss: 0.0593 - binary_accuracy: 0.9809 - val_loss: 0.1938 - val_binary_accuracy: 0.9272\n",
      "Epoch 8/40\n",
      "899/899 [==============================] - 1s 1ms/step - loss: 0.0523 - binary_accuracy: 0.9826 - val_loss: 0.1748 - val_binary_accuracy: 0.9382\n",
      "Epoch 9/40\n",
      "899/899 [==============================] - 1s 1ms/step - loss: 0.0483 - binary_accuracy: 0.9836 - val_loss: 0.1570 - val_binary_accuracy: 0.9469\n",
      "Epoch 10/40\n",
      "899/899 [==============================] - 1s 2ms/step - loss: 0.0435 - binary_accuracy: 0.9845 - val_loss: 0.1493 - val_binary_accuracy: 0.9495\n",
      "Epoch 11/40\n",
      "899/899 [==============================] - 1s 2ms/step - loss: 0.0407 - binary_accuracy: 0.9863 - val_loss: 0.1386 - val_binary_accuracy: 0.9542\n",
      "Epoch 12/40\n",
      "899/899 [==============================] - 1s 2ms/step - loss: 0.0398 - binary_accuracy: 0.9863 - val_loss: 0.1340 - val_binary_accuracy: 0.9566\n",
      "Epoch 13/40\n",
      "899/899 [==============================] - 1s 2ms/step - loss: 0.0373 - binary_accuracy: 0.9876 - val_loss: 0.1310 - val_binary_accuracy: 0.9580\n",
      "Epoch 14/40\n",
      "899/899 [==============================] - 1s 2ms/step - loss: 0.0367 - binary_accuracy: 0.9881 - val_loss: 0.1295 - val_binary_accuracy: 0.9584\n",
      "Epoch 15/40\n",
      "899/899 [==============================] - 1s 2ms/step - loss: 0.0355 - binary_accuracy: 0.9882 - val_loss: 0.1229 - val_binary_accuracy: 0.9612\n",
      "Epoch 16/40\n",
      "899/899 [==============================] - 1s 2ms/step - loss: 0.0352 - binary_accuracy: 0.9886 - val_loss: 0.1221 - val_binary_accuracy: 0.9620\n",
      "Epoch 17/40\n",
      "899/899 [==============================] - 1s 2ms/step - loss: 0.0343 - binary_accuracy: 0.9887 - val_loss: 0.1283 - val_binary_accuracy: 0.9608\n",
      "Epoch 18/40\n",
      "899/899 [==============================] - 1s 2ms/step - loss: 0.0345 - binary_accuracy: 0.9886 - val_loss: 0.1236 - val_binary_accuracy: 0.9622\n",
      "Epoch 19/40\n",
      "899/899 [==============================] - 1s 2ms/step - loss: 0.0339 - binary_accuracy: 0.9890 - val_loss: 0.1202 - val_binary_accuracy: 0.9633\n",
      "Epoch 20/40\n",
      "899/899 [==============================] - 1s 2ms/step - loss: 0.0337 - binary_accuracy: 0.9890 - val_loss: 0.1256 - val_binary_accuracy: 0.9620\n",
      "Epoch 21/40\n",
      "899/899 [==============================] - 1s 2ms/step - loss: 0.0334 - binary_accuracy: 0.9892 - val_loss: 0.1262 - val_binary_accuracy: 0.9623\n",
      "Epoch 22/40\n",
      "899/899 [==============================] - 1s 2ms/step - loss: 0.0326 - binary_accuracy: 0.9892 - val_loss: 0.1186 - val_binary_accuracy: 0.9638\n",
      "Epoch 23/40\n",
      "899/899 [==============================] - 1s 2ms/step - loss: 0.0334 - binary_accuracy: 0.9890 - val_loss: 0.1234 - val_binary_accuracy: 0.9629\n",
      "Epoch 24/40\n",
      "899/899 [==============================] - 1s 2ms/step - loss: 0.0322 - binary_accuracy: 0.9895 - val_loss: 0.1265 - val_binary_accuracy: 0.9627\n",
      "Epoch 25/40\n",
      "899/899 [==============================] - 1s 2ms/step - loss: 0.0326 - binary_accuracy: 0.9895 - val_loss: 0.1240 - val_binary_accuracy: 0.9630\n",
      "Epoch 26/40\n",
      "899/899 [==============================] - 1s 2ms/step - loss: 0.0328 - binary_accuracy: 0.9886 - val_loss: 0.1229 - val_binary_accuracy: 0.9636\n",
      "Epoch 27/40\n",
      "899/899 [==============================] - 1s 2ms/step - loss: 0.0324 - binary_accuracy: 0.9895 - val_loss: 0.1226 - val_binary_accuracy: 0.9634\n",
      "Epoch 28/40\n",
      "899/899 [==============================] - 1s 2ms/step - loss: 0.0328 - binary_accuracy: 0.9893 - val_loss: 0.1261 - val_binary_accuracy: 0.9633\n",
      "Epoch 29/40\n",
      "899/899 [==============================] - 1s 2ms/step - loss: 0.0322 - binary_accuracy: 0.9896 - val_loss: 0.1194 - val_binary_accuracy: 0.9654\n",
      "Epoch 30/40\n",
      "899/899 [==============================] - 1s 2ms/step - loss: 0.0321 - binary_accuracy: 0.9894 - val_loss: 0.1329 - val_binary_accuracy: 0.9623\n",
      "Epoch 31/40\n",
      "899/899 [==============================] - 1s 2ms/step - loss: 0.0324 - binary_accuracy: 0.9893 - val_loss: 0.1278 - val_binary_accuracy: 0.9634\n",
      "Epoch 32/40\n",
      "899/899 [==============================] - 1s 2ms/step - loss: 0.0318 - binary_accuracy: 0.9892 - val_loss: 0.1297 - val_binary_accuracy: 0.9631\n",
      "Epoch 33/40\n",
      "899/899 [==============================] - 1s 2ms/step - loss: 0.0321 - binary_accuracy: 0.9899 - val_loss: 0.1219 - val_binary_accuracy: 0.9648\n",
      "Epoch 34/40\n",
      "899/899 [==============================] - 1s 2ms/step - loss: 0.0321 - binary_accuracy: 0.9898 - val_loss: 0.1251 - val_binary_accuracy: 0.9642\n",
      "Epoch 35/40\n",
      "899/899 [==============================] - 2s 2ms/step - loss: 0.0315 - binary_accuracy: 0.9898 - val_loss: 0.1240 - val_binary_accuracy: 0.9649\n",
      "Epoch 36/40\n",
      "899/899 [==============================] - 1s 2ms/step - loss: 0.0314 - binary_accuracy: 0.9903 - val_loss: 0.1229 - val_binary_accuracy: 0.9656\n",
      "Epoch 37/40\n",
      "899/899 [==============================] - 2s 2ms/step - loss: 0.0323 - binary_accuracy: 0.9898 - val_loss: 0.1275 - val_binary_accuracy: 0.9638\n",
      "Epoch 38/40\n",
      "899/899 [==============================] - 2s 2ms/step - loss: 0.0319 - binary_accuracy: 0.9894 - val_loss: 0.1263 - val_binary_accuracy: 0.9648\n",
      "Epoch 39/40\n",
      "899/899 [==============================] - 2s 2ms/step - loss: 0.0316 - binary_accuracy: 0.9899 - val_loss: 0.1227 - val_binary_accuracy: 0.9655\n",
      "Epoch 40/40\n",
      "899/899 [==============================] - 2s 2ms/step - loss: 0.0315 - binary_accuracy: 0.9895 - val_loss: 0.1227 - val_binary_accuracy: 0.9656\n",
      "225/225 [==============================] - 3s 13ms/step - loss: 0.1297 - accuracy: 0.9627\n",
      "INFO:tensorflow:Assets written to: /Users/badr/Documents/ETS/Hiv2021/PFE/VS/git/fake-news-detection/notebooks/../models/tensorflow/model_3/assets\n"
     ]
    },
    {
     "name": "stderr",
     "output_type": "stream",
     "text": [
      " 60%|██████    | 3/5 [04:56<03:14, 97.04s/it] "
     ]
    },
    {
     "name": "stdout",
     "output_type": "stream",
     "text": [
      "Found 28748 files belonging to 2 classes.\n",
      "Found 7188 files belonging to 2 classes.\n",
      "Epoch 1/40\n",
      "899/899 [==============================] - 14s 15ms/step - loss: 0.5640 - binary_accuracy: 0.7439 - val_loss: 0.4914 - val_binary_accuracy: 0.6892\n",
      "Epoch 2/40\n",
      "899/899 [==============================] - 1s 1ms/step - loss: 0.1980 - binary_accuracy: 0.9485 - val_loss: 0.4108 - val_binary_accuracy: 0.7725\n",
      "Epoch 3/40\n",
      "899/899 [==============================] - 1s 1ms/step - loss: 0.1268 - binary_accuracy: 0.9627 - val_loss: 0.3396 - val_binary_accuracy: 0.8314\n",
      "Epoch 4/40\n",
      "899/899 [==============================] - 1s 1ms/step - loss: 0.0954 - binary_accuracy: 0.9707 - val_loss: 0.2829 - val_binary_accuracy: 0.8702\n",
      "Epoch 5/40\n",
      "899/899 [==============================] - 1s 1ms/step - loss: 0.0774 - binary_accuracy: 0.9755 - val_loss: 0.2311 - val_binary_accuracy: 0.9012\n",
      "Epoch 6/40\n",
      "899/899 [==============================] - 1s 1ms/step - loss: 0.0657 - binary_accuracy: 0.9784 - val_loss: 0.1817 - val_binary_accuracy: 0.9289\n",
      "Epoch 7/40\n",
      "899/899 [==============================] - 1s 1ms/step - loss: 0.0569 - binary_accuracy: 0.9819 - val_loss: 0.1585 - val_binary_accuracy: 0.9410\n",
      "Epoch 8/40\n",
      "899/899 [==============================] - 1s 1ms/step - loss: 0.0502 - binary_accuracy: 0.9830 - val_loss: 0.1338 - val_binary_accuracy: 0.9528\n",
      "Epoch 9/40\n",
      "899/899 [==============================] - 1s 1ms/step - loss: 0.0467 - binary_accuracy: 0.9838 - val_loss: 0.1206 - val_binary_accuracy: 0.9585\n",
      "Epoch 10/40\n",
      "899/899 [==============================] - 1s 1ms/step - loss: 0.0426 - binary_accuracy: 0.9865 - val_loss: 0.1050 - val_binary_accuracy: 0.9648\n",
      "Epoch 11/40\n",
      "899/899 [==============================] - 1s 1ms/step - loss: 0.0398 - binary_accuracy: 0.9868 - val_loss: 0.1000 - val_binary_accuracy: 0.9658\n",
      "Epoch 12/40\n",
      "899/899 [==============================] - 1s 1ms/step - loss: 0.0387 - binary_accuracy: 0.9871 - val_loss: 0.0978 - val_binary_accuracy: 0.9666\n",
      "Epoch 13/40\n",
      "899/899 [==============================] - 1s 1ms/step - loss: 0.0373 - binary_accuracy: 0.9877 - val_loss: 0.0927 - val_binary_accuracy: 0.9686\n",
      "Epoch 14/40\n",
      "899/899 [==============================] - 1s 2ms/step - loss: 0.0354 - binary_accuracy: 0.9885 - val_loss: 0.0893 - val_binary_accuracy: 0.9698\n",
      "Epoch 15/40\n",
      "899/899 [==============================] - 1s 2ms/step - loss: 0.0352 - binary_accuracy: 0.9888 - val_loss: 0.0890 - val_binary_accuracy: 0.9697\n",
      "Epoch 16/40\n",
      "899/899 [==============================] - 1s 2ms/step - loss: 0.0341 - binary_accuracy: 0.9892 - val_loss: 0.0874 - val_binary_accuracy: 0.9701\n",
      "Epoch 17/40\n",
      "899/899 [==============================] - 1s 2ms/step - loss: 0.0339 - binary_accuracy: 0.9889 - val_loss: 0.0856 - val_binary_accuracy: 0.9705\n",
      "Epoch 18/40\n",
      "899/899 [==============================] - 1s 1ms/step - loss: 0.0340 - binary_accuracy: 0.9892 - val_loss: 0.0856 - val_binary_accuracy: 0.9704\n",
      "Epoch 19/40\n",
      "899/899 [==============================] - 1s 1ms/step - loss: 0.0319 - binary_accuracy: 0.9899 - val_loss: 0.0829 - val_binary_accuracy: 0.9712\n",
      "Epoch 20/40\n",
      "899/899 [==============================] - 1s 2ms/step - loss: 0.0335 - binary_accuracy: 0.9891 - val_loss: 0.0855 - val_binary_accuracy: 0.9709\n",
      "Epoch 21/40\n",
      "899/899 [==============================] - 1s 1ms/step - loss: 0.0321 - binary_accuracy: 0.9892 - val_loss: 0.0858 - val_binary_accuracy: 0.9713\n",
      "Epoch 22/40\n",
      "899/899 [==============================] - 1s 2ms/step - loss: 0.0319 - binary_accuracy: 0.9899 - val_loss: 0.0878 - val_binary_accuracy: 0.9712\n",
      "Epoch 23/40\n",
      "899/899 [==============================] - 1s 2ms/step - loss: 0.0316 - binary_accuracy: 0.9889 - val_loss: 0.0848 - val_binary_accuracy: 0.9718\n",
      "Epoch 24/40\n",
      "899/899 [==============================] - 1s 1ms/step - loss: 0.0319 - binary_accuracy: 0.9899 - val_loss: 0.0837 - val_binary_accuracy: 0.9723\n",
      "Epoch 25/40\n",
      "899/899 [==============================] - 1s 2ms/step - loss: 0.0310 - binary_accuracy: 0.9897 - val_loss: 0.0856 - val_binary_accuracy: 0.9720\n",
      "Epoch 26/40\n",
      "899/899 [==============================] - 1s 2ms/step - loss: 0.0317 - binary_accuracy: 0.9902 - val_loss: 0.0855 - val_binary_accuracy: 0.9726\n",
      "Epoch 27/40\n",
      "899/899 [==============================] - 1s 2ms/step - loss: 0.0308 - binary_accuracy: 0.9898 - val_loss: 0.0838 - val_binary_accuracy: 0.9720\n",
      "Epoch 28/40\n",
      "899/899 [==============================] - 1s 2ms/step - loss: 0.0309 - binary_accuracy: 0.9901 - val_loss: 0.0824 - val_binary_accuracy: 0.9723\n",
      "Epoch 29/40\n",
      "899/899 [==============================] - 1s 1ms/step - loss: 0.0308 - binary_accuracy: 0.9901 - val_loss: 0.0864 - val_binary_accuracy: 0.9720\n",
      "Epoch 30/40\n",
      "899/899 [==============================] - 1s 2ms/step - loss: 0.0305 - binary_accuracy: 0.9899 - val_loss: 0.0839 - val_binary_accuracy: 0.9725\n",
      "Epoch 31/40\n",
      "899/899 [==============================] - 1s 2ms/step - loss: 0.0306 - binary_accuracy: 0.9901 - val_loss: 0.0850 - val_binary_accuracy: 0.9725\n",
      "Epoch 32/40\n",
      "899/899 [==============================] - 2s 2ms/step - loss: 0.0305 - binary_accuracy: 0.9899 - val_loss: 0.0850 - val_binary_accuracy: 0.9720\n",
      "Epoch 33/40\n",
      "899/899 [==============================] - 2s 2ms/step - loss: 0.0302 - binary_accuracy: 0.9902 - val_loss: 0.0844 - val_binary_accuracy: 0.9723\n",
      "Epoch 34/40\n",
      "899/899 [==============================] - 2s 2ms/step - loss: 0.0300 - binary_accuracy: 0.9899 - val_loss: 0.0880 - val_binary_accuracy: 0.9720\n",
      "Epoch 35/40\n",
      "899/899 [==============================] - 2s 2ms/step - loss: 0.0309 - binary_accuracy: 0.9898 - val_loss: 0.0857 - val_binary_accuracy: 0.9722\n",
      "Epoch 36/40\n",
      "899/899 [==============================] - 2s 2ms/step - loss: 0.0301 - binary_accuracy: 0.9901 - val_loss: 0.0868 - val_binary_accuracy: 0.9718\n",
      "Epoch 37/40\n",
      "899/899 [==============================] - 2s 2ms/step - loss: 0.0309 - binary_accuracy: 0.9900 - val_loss: 0.0865 - val_binary_accuracy: 0.9723\n",
      "Epoch 38/40\n",
      "899/899 [==============================] - 2s 2ms/step - loss: 0.0306 - binary_accuracy: 0.9898 - val_loss: 0.0838 - val_binary_accuracy: 0.9723\n",
      "Epoch 39/40\n",
      "899/899 [==============================] - 2s 2ms/step - loss: 0.0296 - binary_accuracy: 0.9904 - val_loss: 0.0882 - val_binary_accuracy: 0.9715\n",
      "Epoch 40/40\n",
      "899/899 [==============================] - 2s 2ms/step - loss: 0.0310 - binary_accuracy: 0.9896 - val_loss: 0.0870 - val_binary_accuracy: 0.9719\n",
      "225/225 [==============================] - 3s 13ms/step - loss: 0.0844 - accuracy: 0.9750\n",
      "INFO:tensorflow:Assets written to: /Users/badr/Documents/ETS/Hiv2021/PFE/VS/git/fake-news-detection/notebooks/../models/tensorflow/model_4/assets\n"
     ]
    },
    {
     "name": "stderr",
     "output_type": "stream",
     "text": [
      " 80%|████████  | 4/5 [06:27<01:34, 94.68s/it]"
     ]
    },
    {
     "name": "stdout",
     "output_type": "stream",
     "text": [
      "Found 28748 files belonging to 2 classes.\n",
      "Found 7188 files belonging to 2 classes.\n",
      "Epoch 1/40\n",
      "899/899 [==============================] - 10s 10ms/step - loss: 0.5715 - binary_accuracy: 0.7426 - val_loss: 0.4796 - val_binary_accuracy: 0.7134\n",
      "Epoch 2/40\n",
      "899/899 [==============================] - 1s 1ms/step - loss: 0.1995 - binary_accuracy: 0.9465 - val_loss: 0.3987 - val_binary_accuracy: 0.7884\n",
      "Epoch 3/40\n",
      "899/899 [==============================] - 1s 1ms/step - loss: 0.1289 - binary_accuracy: 0.9616 - val_loss: 0.3337 - val_binary_accuracy: 0.8395\n",
      "Epoch 4/40\n",
      "899/899 [==============================] - 1s 1ms/step - loss: 0.0990 - binary_accuracy: 0.9694 - val_loss: 0.2787 - val_binary_accuracy: 0.8783\n",
      "Epoch 5/40\n",
      "899/899 [==============================] - 1s 1ms/step - loss: 0.0811 - binary_accuracy: 0.9744 - val_loss: 0.2308 - val_binary_accuracy: 0.9048\n",
      "Epoch 6/40\n",
      "899/899 [==============================] - 1s 1ms/step - loss: 0.0680 - binary_accuracy: 0.9792 - val_loss: 0.1948 - val_binary_accuracy: 0.9242\n",
      "Epoch 7/40\n",
      "899/899 [==============================] - 1s 2ms/step - loss: 0.0607 - binary_accuracy: 0.9810 - val_loss: 0.1661 - val_binary_accuracy: 0.9374\n",
      "Epoch 8/40\n",
      "899/899 [==============================] - 2s 2ms/step - loss: 0.0543 - binary_accuracy: 0.9831 - val_loss: 0.1451 - val_binary_accuracy: 0.9485\n",
      "Epoch 9/40\n",
      "899/899 [==============================] - 2s 2ms/step - loss: 0.0486 - binary_accuracy: 0.9849 - val_loss: 0.1324 - val_binary_accuracy: 0.9559\n",
      "Epoch 10/40\n",
      "899/899 [==============================] - 2s 2ms/step - loss: 0.0462 - binary_accuracy: 0.9858 - val_loss: 0.1298 - val_binary_accuracy: 0.9580\n",
      "Epoch 11/40\n",
      "899/899 [==============================] - 2s 2ms/step - loss: 0.0439 - binary_accuracy: 0.9864 - val_loss: 0.1188 - val_binary_accuracy: 0.9609\n",
      "Epoch 12/40\n",
      "899/899 [==============================] - 2s 2ms/step - loss: 0.0418 - binary_accuracy: 0.9863 - val_loss: 0.1125 - val_binary_accuracy: 0.9629\n",
      "Epoch 13/40\n",
      "899/899 [==============================] - 2s 2ms/step - loss: 0.0407 - binary_accuracy: 0.9878 - val_loss: 0.1096 - val_binary_accuracy: 0.9648\n",
      "Epoch 14/40\n",
      "899/899 [==============================] - 2s 2ms/step - loss: 0.0387 - binary_accuracy: 0.9880 - val_loss: 0.1073 - val_binary_accuracy: 0.9655\n",
      "Epoch 15/40\n",
      "899/899 [==============================] - 2s 2ms/step - loss: 0.0385 - binary_accuracy: 0.9880 - val_loss: 0.1037 - val_binary_accuracy: 0.9666\n",
      "Epoch 16/40\n",
      "899/899 [==============================] - 2s 2ms/step - loss: 0.0372 - binary_accuracy: 0.9881 - val_loss: 0.1008 - val_binary_accuracy: 0.9673\n",
      "Epoch 17/40\n",
      "899/899 [==============================] - 1s 2ms/step - loss: 0.0368 - binary_accuracy: 0.9883 - val_loss: 0.1036 - val_binary_accuracy: 0.9666\n",
      "Epoch 18/40\n",
      "899/899 [==============================] - 2s 2ms/step - loss: 0.0359 - binary_accuracy: 0.9886 - val_loss: 0.1011 - val_binary_accuracy: 0.9677\n",
      "Epoch 19/40\n",
      "899/899 [==============================] - 2s 2ms/step - loss: 0.0356 - binary_accuracy: 0.9889 - val_loss: 0.1006 - val_binary_accuracy: 0.9679\n",
      "Epoch 20/40\n",
      "899/899 [==============================] - 2s 2ms/step - loss: 0.0351 - binary_accuracy: 0.9886 - val_loss: 0.0954 - val_binary_accuracy: 0.9695\n",
      "Epoch 21/40\n",
      "899/899 [==============================] - 2s 2ms/step - loss: 0.0360 - binary_accuracy: 0.9890 - val_loss: 0.0979 - val_binary_accuracy: 0.9691\n",
      "Epoch 22/40\n",
      "899/899 [==============================] - 1s 2ms/step - loss: 0.0348 - binary_accuracy: 0.9891 - val_loss: 0.0966 - val_binary_accuracy: 0.9699\n",
      "Epoch 23/40\n",
      "899/899 [==============================] - 1s 2ms/step - loss: 0.0340 - binary_accuracy: 0.9891 - val_loss: 0.1017 - val_binary_accuracy: 0.9684\n",
      "Epoch 24/40\n",
      "899/899 [==============================] - 2s 2ms/step - loss: 0.0345 - binary_accuracy: 0.9893 - val_loss: 0.0979 - val_binary_accuracy: 0.9697\n",
      "Epoch 25/40\n",
      "899/899 [==============================] - 2s 2ms/step - loss: 0.0347 - binary_accuracy: 0.9887 - val_loss: 0.0981 - val_binary_accuracy: 0.9694\n",
      "Epoch 26/40\n",
      "899/899 [==============================] - 2s 2ms/step - loss: 0.0339 - binary_accuracy: 0.9892 - val_loss: 0.0982 - val_binary_accuracy: 0.9698\n",
      "Epoch 27/40\n",
      "899/899 [==============================] - 2s 2ms/step - loss: 0.0345 - binary_accuracy: 0.9896 - val_loss: 0.0978 - val_binary_accuracy: 0.9699\n",
      "Epoch 28/40\n",
      "899/899 [==============================] - 2s 2ms/step - loss: 0.0341 - binary_accuracy: 0.9892 - val_loss: 0.0974 - val_binary_accuracy: 0.9702\n",
      "Epoch 29/40\n",
      "899/899 [==============================] - 2s 2ms/step - loss: 0.0339 - binary_accuracy: 0.9899 - val_loss: 0.0967 - val_binary_accuracy: 0.9705\n",
      "Epoch 30/40\n",
      "899/899 [==============================] - 2s 2ms/step - loss: 0.0343 - binary_accuracy: 0.9897 - val_loss: 0.0975 - val_binary_accuracy: 0.9702\n",
      "Epoch 31/40\n",
      "899/899 [==============================] - 2s 2ms/step - loss: 0.0342 - binary_accuracy: 0.9890 - val_loss: 0.1007 - val_binary_accuracy: 0.9693\n",
      "Epoch 32/40\n",
      "899/899 [==============================] - 2s 2ms/step - loss: 0.0342 - binary_accuracy: 0.9894 - val_loss: 0.0981 - val_binary_accuracy: 0.9699\n",
      "Epoch 33/40\n",
      "899/899 [==============================] - 2s 2ms/step - loss: 0.0339 - binary_accuracy: 0.9896 - val_loss: 0.0987 - val_binary_accuracy: 0.9694\n",
      "Epoch 34/40\n",
      "899/899 [==============================] - 2s 2ms/step - loss: 0.0341 - binary_accuracy: 0.9896 - val_loss: 0.0984 - val_binary_accuracy: 0.9694\n",
      "Epoch 35/40\n",
      "899/899 [==============================] - 2s 2ms/step - loss: 0.0329 - binary_accuracy: 0.9900 - val_loss: 0.0970 - val_binary_accuracy: 0.9698\n",
      "Epoch 36/40\n",
      "899/899 [==============================] - 2s 2ms/step - loss: 0.0332 - binary_accuracy: 0.9897 - val_loss: 0.0986 - val_binary_accuracy: 0.9695\n",
      "Epoch 37/40\n",
      "899/899 [==============================] - 2s 2ms/step - loss: 0.0333 - binary_accuracy: 0.9897 - val_loss: 0.0994 - val_binary_accuracy: 0.9694\n",
      "Epoch 38/40\n",
      "899/899 [==============================] - 2s 2ms/step - loss: 0.0327 - binary_accuracy: 0.9898 - val_loss: 0.0950 - val_binary_accuracy: 0.9706\n",
      "Epoch 39/40\n",
      "899/899 [==============================] - 2s 2ms/step - loss: 0.0326 - binary_accuracy: 0.9896 - val_loss: 0.0976 - val_binary_accuracy: 0.9694\n",
      "Epoch 40/40\n",
      "899/899 [==============================] - 2s 2ms/step - loss: 0.0322 - binary_accuracy: 0.9894 - val_loss: 0.0957 - val_binary_accuracy: 0.9705\n",
      "225/225 [==============================] - 4s 15ms/step - loss: 0.0865 - accuracy: 0.9736\n",
      "INFO:tensorflow:Assets written to: /Users/badr/Documents/ETS/Hiv2021/PFE/VS/git/fake-news-detection/notebooks/../models/tensorflow/model_5/assets\n"
     ]
    },
    {
     "name": "stderr",
     "output_type": "stream",
     "text": [
      "100%|██████████| 5/5 [08:03<00:00, 96.78s/it]\n"
     ]
    }
   ],
   "source": [
    "Tensorflow.train(embedding_dim = 32, max_features = 625, sequence_length = 125)"
   ]
  },
  {
   "cell_type": "markdown",
   "metadata": {},
   "source": [
    "## Testing"
   ]
  },
  {
   "cell_type": "code",
   "execution_count": 22,
   "metadata": {},
   "outputs": [
    {
     "name": "stderr",
     "output_type": "stream",
     "text": [
      "  0%|          | 0/5 [00:00<?, ?it/s]"
     ]
    },
    {
     "name": "stdout",
     "output_type": "stream",
     "text": [
      "WARNING:tensorflow:11 out of the last 11 calls to <function recreate_function.<locals>.restored_function_body at 0x7f8294f44dc0> triggered tf.function retracing. Tracing is expensive and the excessive number of tracings could be due to (1) creating @tf.function repeatedly in a loop, (2) passing tensors with different shapes, (3) passing Python objects instead of tensors. For (1), please define your @tf.function outside of the loop. For (2), @tf.function has experimental_relax_shapes=True option that relaxes argument shapes that can avoid unnecessary retracing. For (3), please refer to https://www.tensorflow.org/guide/function#controlling_retracing and https://www.tensorflow.org/api_docs/python/tf/function for  more details.\n",
      "Found 8985 files belonging to 2 classes.\n",
      "281/281 [==============================] - 4s 15ms/step - loss: 0.1166 - accuracy: 0.9677\n"
     ]
    },
    {
     "name": "stderr",
     "output_type": "stream",
     "text": [
      " 20%|██        | 1/5 [00:05<00:21,  5.41s/it]"
     ]
    },
    {
     "name": "stdout",
     "output_type": "stream",
     "text": [
      "WARNING:tensorflow:11 out of the last 11 calls to <function recreate_function.<locals>.restored_function_body at 0x7f829caf9670> triggered tf.function retracing. Tracing is expensive and the excessive number of tracings could be due to (1) creating @tf.function repeatedly in a loop, (2) passing tensors with different shapes, (3) passing Python objects instead of tensors. For (1), please define your @tf.function outside of the loop. For (2), @tf.function has experimental_relax_shapes=True option that relaxes argument shapes that can avoid unnecessary retracing. For (3), please refer to https://www.tensorflow.org/guide/function#controlling_retracing and https://www.tensorflow.org/api_docs/python/tf/function for  more details.\n",
      "Found 8985 files belonging to 2 classes.\n",
      "281/281 [==============================] - 5s 15ms/step - loss: 0.1070 - accuracy: 0.9689\n"
     ]
    },
    {
     "name": "stderr",
     "output_type": "stream",
     "text": [
      " 40%|████      | 2/5 [00:11<00:16,  5.54s/it]"
     ]
    },
    {
     "name": "stdout",
     "output_type": "stream",
     "text": [
      "WARNING:tensorflow:11 out of the last 11 calls to <function recreate_function.<locals>.restored_function_body at 0x7f82b0ddfd30> triggered tf.function retracing. Tracing is expensive and the excessive number of tracings could be due to (1) creating @tf.function repeatedly in a loop, (2) passing tensors with different shapes, (3) passing Python objects instead of tensors. For (1), please define your @tf.function outside of the loop. For (2), @tf.function has experimental_relax_shapes=True option that relaxes argument shapes that can avoid unnecessary retracing. For (3), please refer to https://www.tensorflow.org/guide/function#controlling_retracing and https://www.tensorflow.org/api_docs/python/tf/function for  more details.\n",
      "Found 8983 files belonging to 2 classes.\n",
      "281/281 [==============================] - 4s 15ms/step - loss: 0.0997 - accuracy: 0.9709\n"
     ]
    },
    {
     "name": "stderr",
     "output_type": "stream",
     "text": [
      " 60%|██████    | 3/5 [00:16<00:10,  5.39s/it]"
     ]
    },
    {
     "name": "stdout",
     "output_type": "stream",
     "text": [
      "WARNING:tensorflow:11 out of the last 11 calls to <function recreate_function.<locals>.restored_function_body at 0x7f8285bd7280> triggered tf.function retracing. Tracing is expensive and the excessive number of tracings could be due to (1) creating @tf.function repeatedly in a loop, (2) passing tensors with different shapes, (3) passing Python objects instead of tensors. For (1), please define your @tf.function outside of the loop. For (2), @tf.function has experimental_relax_shapes=True option that relaxes argument shapes that can avoid unnecessary retracing. For (3), please refer to https://www.tensorflow.org/guide/function#controlling_retracing and https://www.tensorflow.org/api_docs/python/tf/function for  more details.\n",
      "Found 8983 files belonging to 2 classes.\n",
      "281/281 [==============================] - 4s 15ms/step - loss: 0.0931 - accuracy: 0.9698\n"
     ]
    },
    {
     "name": "stderr",
     "output_type": "stream",
     "text": [
      " 80%|████████  | 4/5 [00:21<00:05,  5.32s/it]"
     ]
    },
    {
     "name": "stdout",
     "output_type": "stream",
     "text": [
      "WARNING:tensorflow:11 out of the last 11 calls to <function recreate_function.<locals>.restored_function_body at 0x7f829c5f73a0> triggered tf.function retracing. Tracing is expensive and the excessive number of tracings could be due to (1) creating @tf.function repeatedly in a loop, (2) passing tensors with different shapes, (3) passing Python objects instead of tensors. For (1), please define your @tf.function outside of the loop. For (2), @tf.function has experimental_relax_shapes=True option that relaxes argument shapes that can avoid unnecessary retracing. For (3), please refer to https://www.tensorflow.org/guide/function#controlling_retracing and https://www.tensorflow.org/api_docs/python/tf/function for  more details.\n",
      "Found 8983 files belonging to 2 classes.\n",
      "281/281 [==============================] - 4s 14ms/step - loss: 0.0923 - accuracy: 0.9705\n"
     ]
    },
    {
     "name": "stderr",
     "output_type": "stream",
     "text": [
      "100%|██████████| 5/5 [00:26<00:00,  5.32s/it]\n"
     ]
    }
   ],
   "source": [
    "Tensorflow.test()"
   ]
  },
  {
   "cell_type": "code",
   "execution_count": 23,
   "metadata": {},
   "outputs": [
    {
     "data": {
      "text/plain": "0.9695898056030273"
     },
     "execution_count": 23,
     "metadata": {},
     "output_type": "execute_result"
    }
   ],
   "source": [
    "Tensorflow.f1_score"
   ]
  }
 ],
 "metadata": {
  "kernelspec": {
   "display_name": "Python 3.8.8 64-bit ('base': conda)",
   "name": "python388jvsc74a57bd0edd520d6644a321125cc4a079653ea19f3677dde8ec49922823a2d76c0a5a38b"
  },
  "language_info": {
   "codemirror_mode": {
    "name": "ipython",
    "version": 3
   },
   "file_extension": ".py",
   "mimetype": "text/x-python",
   "name": "python",
   "nbconvert_exporter": "python",
   "pygments_lexer": "ipython3",
   "version": "3.8.8"
  },
  "orig_nbformat": 2
 },
 "nbformat": 4,
 "nbformat_minor": 2
}