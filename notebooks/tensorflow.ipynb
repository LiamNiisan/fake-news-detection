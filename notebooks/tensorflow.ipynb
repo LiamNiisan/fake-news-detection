{
 "cells": [
  {
   "cell_type": "code",
   "execution_count": 1,
   "metadata": {},
   "outputs": [],
   "source": [
    "import os, sys"
   ]
  },
  {
   "cell_type": "code",
   "execution_count": 2,
   "metadata": {},
   "outputs": [
    {
     "data": {
      "text/plain": "'/Users/badr/Documents/ETS/Hiv2021/PFE/VS/git/fake-news-detection/notebooks'"
     },
     "execution_count": 2,
     "metadata": {},
     "output_type": "execute_result"
    }
   ],
   "source": [
    "cwd = os.getcwd()\n",
    "cwd"
   ]
  },
  {
   "cell_type": "code",
   "execution_count": 3,
   "metadata": {},
   "outputs": [],
   "source": [
    "main_repository = os.path.join(cwd, os.pardir)"
   ]
  },
  {
   "cell_type": "code",
   "execution_count": 4,
   "metadata": {},
   "outputs": [],
   "source": [
    "sys.path.append(os.path.join(main_repository, 'src'))"
   ]
  },
  {
   "cell_type": "markdown",
   "metadata": {},
   "source": [
    "## Create Tensorflow Object"
   ]
  },
  {
   "cell_type": "code",
   "execution_count": 5,
   "metadata": {},
   "outputs": [],
   "source": [
    "from tensorflow_model.TensorflowModel import TensorflowModel"
   ]
  },
  {
   "cell_type": "code",
   "execution_count": 6,
   "metadata": {},
   "outputs": [],
   "source": [
    "Tensorflow = TensorflowModel(main_repository, 5)"
   ]
  },
  {
   "cell_type": "markdown",
   "metadata": {},
   "source": [
    "## Prepare Data for Training"
   ]
  },
  {
   "cell_type": "code",
   "execution_count": null,
   "metadata": {},
   "outputs": [],
   "source": [
    "Tensorflow.preprocess()"
   ]
  },
  {
   "cell_type": "code",
   "execution_count": 8,
   "metadata": {},
   "outputs": [
    {
     "name": "stderr",
     "output_type": "stream",
     "text": [
      "100%|██████████| 5/5 [02:27<00:00, 29.44s/it]\n"
     ]
    }
   ],
   "source": [
    "Tensorflow.format()"
   ]
  },
  {
   "cell_type": "markdown",
   "metadata": {},
   "source": [
    "## Training"
   ]
  },
  {
   "cell_type": "code",
   "execution_count": 7,
   "metadata": {},
   "outputs": [
    {
     "name": "stderr",
     "output_type": "stream",
     "text": [
      "  0%|          | 0/5 [00:00<?, ?it/s]"
     ]
    },
    {
     "name": "stdout",
     "output_type": "stream",
     "text": [
      "Found 28746 files belonging to 2 classes.\n",
      "Found 7188 files belonging to 2 classes.\n",
      "Epoch 1/40\n",
      "899/899 [==============================] - 19s 20ms/step - loss: 0.5844 - binary_accuracy: 0.8181 - val_loss: 1.6079 - val_binary_accuracy: 0.5235\n",
      "Epoch 2/40\n",
      "899/899 [==============================] - 3s 3ms/step - loss: 0.2259 - binary_accuracy: 0.9596 - val_loss: 2.2855 - val_binary_accuracy: 0.5249\n",
      "Epoch 3/40\n",
      "899/899 [==============================] - 3s 3ms/step - loss: 0.1300 - binary_accuracy: 0.9750 - val_loss: 2.5716 - val_binary_accuracy: 0.5275\n",
      "Epoch 4/40\n",
      "899/899 [==============================] - 3s 3ms/step - loss: 0.0873 - binary_accuracy: 0.9837 - val_loss: 2.7630 - val_binary_accuracy: 0.5301\n",
      "Epoch 5/40\n",
      "899/899 [==============================] - 3s 3ms/step - loss: 0.0631 - binary_accuracy: 0.9886 - val_loss: 2.9219 - val_binary_accuracy: 0.5327\n",
      "Epoch 6/40\n",
      "899/899 [==============================] - 3s 3ms/step - loss: 0.0474 - binary_accuracy: 0.9907 - val_loss: 3.1045 - val_binary_accuracy: 0.5364\n",
      "Epoch 7/40\n",
      "899/899 [==============================] - 3s 3ms/step - loss: 0.0359 - binary_accuracy: 0.9931 - val_loss: 3.2611 - val_binary_accuracy: 0.5394\n",
      "Epoch 8/40\n",
      "899/899 [==============================] - 3s 3ms/step - loss: 0.0281 - binary_accuracy: 0.9945 - val_loss: 3.4745 - val_binary_accuracy: 0.5424\n",
      "Epoch 9/40\n",
      "899/899 [==============================] - 3s 4ms/step - loss: 0.0220 - binary_accuracy: 0.9958 - val_loss: 3.7539 - val_binary_accuracy: 0.5428\n",
      "Epoch 10/40\n",
      "899/899 [==============================] - 3s 4ms/step - loss: 0.0173 - binary_accuracy: 0.9967 - val_loss: 3.9524 - val_binary_accuracy: 0.5458\n",
      "Epoch 11/40\n",
      "899/899 [==============================] - 3s 4ms/step - loss: 0.0137 - binary_accuracy: 0.9973 - val_loss: 4.2970 - val_binary_accuracy: 0.5454\n",
      "Epoch 12/40\n",
      "899/899 [==============================] - 3s 3ms/step - loss: 0.0106 - binary_accuracy: 0.9981 - val_loss: 4.4905 - val_binary_accuracy: 0.5476\n",
      "Epoch 13/40\n",
      "899/899 [==============================] - 3s 4ms/step - loss: 0.0088 - binary_accuracy: 0.9989 - val_loss: 4.7649 - val_binary_accuracy: 0.5483\n",
      "Epoch 14/40\n",
      "899/899 [==============================] - 3s 3ms/step - loss: 0.0069 - binary_accuracy: 0.9990 - val_loss: 5.2676 - val_binary_accuracy: 0.5460\n",
      "Epoch 15/40\n",
      "899/899 [==============================] - 3s 3ms/step - loss: 0.0060 - binary_accuracy: 0.9991 - val_loss: 5.4513 - val_binary_accuracy: 0.5477\n",
      "Epoch 16/40\n",
      "899/899 [==============================] - 3s 3ms/step - loss: 0.0047 - binary_accuracy: 0.9994 - val_loss: 5.9113 - val_binary_accuracy: 0.5477\n",
      "Epoch 17/40\n",
      "899/899 [==============================] - 3s 4ms/step - loss: 0.0042 - binary_accuracy: 0.9994 - val_loss: 6.3563 - val_binary_accuracy: 0.5462\n",
      "Epoch 18/40\n",
      "899/899 [==============================] - 3s 3ms/step - loss: 0.0032 - binary_accuracy: 0.9995 - val_loss: 6.5349 - val_binary_accuracy: 0.5494\n",
      "Epoch 19/40\n",
      "899/899 [==============================] - 3s 4ms/step - loss: 0.0028 - binary_accuracy: 0.9996 - val_loss: 6.6749 - val_binary_accuracy: 0.5504\n",
      "Epoch 20/40\n",
      "899/899 [==============================] - 3s 4ms/step - loss: 0.0023 - binary_accuracy: 0.9995 - val_loss: 6.8243 - val_binary_accuracy: 0.5506\n",
      "Epoch 21/40\n",
      "899/899 [==============================] - 3s 3ms/step - loss: 0.0018 - binary_accuracy: 0.9998 - val_loss: 6.8625 - val_binary_accuracy: 0.5534\n",
      "Epoch 22/40\n",
      "899/899 [==============================] - 3s 3ms/step - loss: 0.0016 - binary_accuracy: 0.9997 - val_loss: 7.0654 - val_binary_accuracy: 0.5540\n",
      "Epoch 23/40\n",
      "899/899 [==============================] - 3s 3ms/step - loss: 0.0013 - binary_accuracy: 0.9999 - val_loss: 7.0187 - val_binary_accuracy: 0.5575\n",
      "Epoch 24/40\n",
      "899/899 [==============================] - 3s 3ms/step - loss: 0.0010 - binary_accuracy: 0.9999 - val_loss: 6.9650 - val_binary_accuracy: 0.5591\n",
      "Epoch 25/40\n",
      "899/899 [==============================] - 3s 4ms/step - loss: 8.6601e-04 - binary_accuracy: 0.9999 - val_loss: 7.1803 - val_binary_accuracy: 0.5625\n",
      "Epoch 26/40\n",
      "899/899 [==============================] - 3s 4ms/step - loss: 6.8780e-04 - binary_accuracy: 1.0000 - val_loss: 6.8522 - val_binary_accuracy: 0.5686\n",
      "Epoch 27/40\n",
      "899/899 [==============================] - 3s 4ms/step - loss: 7.0138e-04 - binary_accuracy: 1.0000 - val_loss: 7.1782 - val_binary_accuracy: 0.5643\n",
      "Epoch 28/40\n",
      "899/899 [==============================] - 3s 3ms/step - loss: 5.5405e-04 - binary_accuracy: 0.9999 - val_loss: 7.1006 - val_binary_accuracy: 0.5678\n",
      "Epoch 29/40\n",
      "899/899 [==============================] - 3s 4ms/step - loss: 4.9190e-04 - binary_accuracy: 1.0000 - val_loss: 6.6108 - val_binary_accuracy: 0.5801\n",
      "Epoch 30/40\n",
      "899/899 [==============================] - 3s 4ms/step - loss: 4.2012e-04 - binary_accuracy: 1.0000 - val_loss: 6.7637 - val_binary_accuracy: 0.5785\n",
      "Epoch 31/40\n",
      "899/899 [==============================] - 3s 3ms/step - loss: 3.6212e-04 - binary_accuracy: 1.0000 - val_loss: 6.8311 - val_binary_accuracy: 0.5792\n",
      "Epoch 32/40\n",
      "899/899 [==============================] - 3s 3ms/step - loss: 3.3617e-04 - binary_accuracy: 1.0000 - val_loss: 6.4594 - val_binary_accuracy: 0.5867\n",
      "Epoch 33/40\n",
      "899/899 [==============================] - 3s 4ms/step - loss: 2.8179e-04 - binary_accuracy: 1.0000 - val_loss: 6.4072 - val_binary_accuracy: 0.5895\n",
      "Epoch 34/40\n",
      "899/899 [==============================] - 3s 4ms/step - loss: 2.3229e-04 - binary_accuracy: 1.0000 - val_loss: 6.4530 - val_binary_accuracy: 0.5910\n",
      "Epoch 35/40\n",
      "899/899 [==============================] - 3s 3ms/step - loss: 2.3745e-04 - binary_accuracy: 1.0000 - val_loss: 6.6716 - val_binary_accuracy: 0.5914\n",
      "Epoch 36/40\n",
      "899/899 [==============================] - 3s 3ms/step - loss: 2.7907e-04 - binary_accuracy: 1.0000 - val_loss: 6.7073 - val_binary_accuracy: 0.5904\n",
      "Epoch 37/40\n",
      "899/899 [==============================] - 3s 3ms/step - loss: 2.6510e-04 - binary_accuracy: 0.9999 - val_loss: 7.2354 - val_binary_accuracy: 0.5863\n",
      "Epoch 38/40\n",
      "899/899 [==============================] - 3s 3ms/step - loss: 2.1384e-04 - binary_accuracy: 1.0000 - val_loss: 7.1728 - val_binary_accuracy: 0.5892\n",
      "Epoch 39/40\n",
      "899/899 [==============================] - 3s 4ms/step - loss: 1.8664e-04 - binary_accuracy: 1.0000 - val_loss: 7.5266 - val_binary_accuracy: 0.5838\n",
      "Epoch 40/40\n",
      "899/899 [==============================] - 4s 4ms/step - loss: 1.4169e-04 - binary_accuracy: 1.0000 - val_loss: 7.5743 - val_binary_accuracy: 0.5844\n",
      "225/225 [==============================] - 6s 23ms/step - loss: 7.3236 - accuracy: 0.5913\n",
      "INFO:tensorflow:Assets written to: /Users/badr/Documents/ETS/Hiv2021/PFE/VS/git/fake-news-detection/notebooks/../models/tensorflow/model_1/assets\n"
     ]
    },
    {
     "name": "stderr",
     "output_type": "stream",
     "text": [
      " 20%|██        | 1/5 [02:48<11:14, 168.59s/it]"
     ]
    },
    {
     "name": "stdout",
     "output_type": "stream",
     "text": [
      "Found 28746 files belonging to 2 classes.\n",
      "Found 7188 files belonging to 2 classes.\n",
      "Epoch 1/40\n",
      "899/899 [==============================] - 11s 11ms/step - loss: 0.5908 - binary_accuracy: 0.7681 - val_loss: 1.6767 - val_binary_accuracy: 0.5235\n",
      "Epoch 2/40\n",
      "899/899 [==============================] - 2s 3ms/step - loss: 0.2293 - binary_accuracy: 0.9577 - val_loss: 2.4212 - val_binary_accuracy: 0.5239\n",
      "Epoch 3/40\n",
      "899/899 [==============================] - 3s 3ms/step - loss: 0.1312 - binary_accuracy: 0.9735 - val_loss: 2.6776 - val_binary_accuracy: 0.5253\n",
      "Epoch 4/40\n",
      "899/899 [==============================] - 2s 3ms/step - loss: 0.0889 - binary_accuracy: 0.9826 - val_loss: 2.8274 - val_binary_accuracy: 0.5273\n",
      "Epoch 5/40\n",
      "899/899 [==============================] - 3s 3ms/step - loss: 0.0647 - binary_accuracy: 0.9872 - val_loss: 2.9545 - val_binary_accuracy: 0.5294\n",
      "Epoch 6/40\n",
      "899/899 [==============================] - 2s 3ms/step - loss: 0.0486 - binary_accuracy: 0.9906 - val_loss: 3.1217 - val_binary_accuracy: 0.5309\n",
      "Epoch 7/40\n",
      "899/899 [==============================] - 2s 3ms/step - loss: 0.0374 - binary_accuracy: 0.9928 - val_loss: 3.2829 - val_binary_accuracy: 0.5341\n",
      "Epoch 8/40\n",
      "899/899 [==============================] - 2s 3ms/step - loss: 0.0291 - binary_accuracy: 0.9946 - val_loss: 3.4545 - val_binary_accuracy: 0.5370\n",
      "Epoch 9/40\n",
      "899/899 [==============================] - 2s 3ms/step - loss: 0.0234 - binary_accuracy: 0.9956 - val_loss: 3.6856 - val_binary_accuracy: 0.5388\n",
      "Epoch 10/40\n",
      "899/899 [==============================] - 3s 3ms/step - loss: 0.0185 - binary_accuracy: 0.9966 - val_loss: 4.0061 - val_binary_accuracy: 0.5395\n",
      "Epoch 11/40\n",
      "899/899 [==============================] - 2s 3ms/step - loss: 0.0151 - binary_accuracy: 0.9970 - val_loss: 4.3059 - val_binary_accuracy: 0.5399\n",
      "Epoch 12/40\n",
      "899/899 [==============================] - 2s 2ms/step - loss: 0.0123 - binary_accuracy: 0.9979 - val_loss: 4.4674 - val_binary_accuracy: 0.5415\n",
      "Epoch 13/40\n",
      "899/899 [==============================] - 2s 2ms/step - loss: 0.0100 - binary_accuracy: 0.9982 - val_loss: 4.6459 - val_binary_accuracy: 0.5430\n",
      "Epoch 14/40\n",
      "899/899 [==============================] - 2s 3ms/step - loss: 0.0081 - binary_accuracy: 0.9986 - val_loss: 4.8522 - val_binary_accuracy: 0.5440\n",
      "Epoch 15/40\n",
      "899/899 [==============================] - 3s 3ms/step - loss: 0.0063 - binary_accuracy: 0.9989 - val_loss: 5.1435 - val_binary_accuracy: 0.5444\n",
      "Epoch 16/40\n",
      "899/899 [==============================] - 2s 3ms/step - loss: 0.0052 - binary_accuracy: 0.9991 - val_loss: 5.4492 - val_binary_accuracy: 0.5442\n",
      "Epoch 17/40\n",
      "899/899 [==============================] - 2s 2ms/step - loss: 0.0042 - binary_accuracy: 0.9992 - val_loss: 5.5422 - val_binary_accuracy: 0.5466\n",
      "Epoch 18/40\n",
      "899/899 [==============================] - 2s 3ms/step - loss: 0.0034 - binary_accuracy: 0.9994 - val_loss: 5.6213 - val_binary_accuracy: 0.5483\n",
      "Epoch 19/40\n",
      "899/899 [==============================] - 3s 3ms/step - loss: 0.0028 - binary_accuracy: 0.9996 - val_loss: 5.8328 - val_binary_accuracy: 0.5487\n",
      "Epoch 20/40\n",
      "899/899 [==============================] - 2s 3ms/step - loss: 0.0022 - binary_accuracy: 0.9998 - val_loss: 6.2346 - val_binary_accuracy: 0.5495\n",
      "Epoch 21/40\n",
      "899/899 [==============================] - 3s 4ms/step - loss: 0.0019 - binary_accuracy: 0.9998 - val_loss: 6.4902 - val_binary_accuracy: 0.5481\n",
      "Epoch 22/40\n",
      "899/899 [==============================] - 3s 3ms/step - loss: 0.0016 - binary_accuracy: 0.9997 - val_loss: 6.5289 - val_binary_accuracy: 0.5526\n",
      "Epoch 23/40\n",
      "899/899 [==============================] - 3s 3ms/step - loss: 0.0014 - binary_accuracy: 0.9997 - val_loss: 6.8014 - val_binary_accuracy: 0.5527\n",
      "Epoch 24/40\n",
      "899/899 [==============================] - 3s 3ms/step - loss: 0.0011 - binary_accuracy: 0.9999 - val_loss: 7.0064 - val_binary_accuracy: 0.5530\n",
      "Epoch 25/40\n",
      "899/899 [==============================] - 3s 4ms/step - loss: 9.1891e-04 - binary_accuracy: 0.9999 - val_loss: 7.3047 - val_binary_accuracy: 0.5519\n",
      "Epoch 26/40\n",
      "899/899 [==============================] - 3s 4ms/step - loss: 7.7712e-04 - binary_accuracy: 0.9999 - val_loss: 7.1762 - val_binary_accuracy: 0.5554\n",
      "Epoch 27/40\n",
      "899/899 [==============================] - 3s 4ms/step - loss: 6.7295e-04 - binary_accuracy: 0.9999 - val_loss: 7.2133 - val_binary_accuracy: 0.5568\n",
      "Epoch 28/40\n",
      "899/899 [==============================] - 3s 4ms/step - loss: 5.9416e-04 - binary_accuracy: 0.9999 - val_loss: 7.5288 - val_binary_accuracy: 0.5556\n",
      "Epoch 29/40\n",
      "899/899 [==============================] - 3s 3ms/step - loss: 4.8114e-04 - binary_accuracy: 0.9999 - val_loss: 7.3866 - val_binary_accuracy: 0.5593\n",
      "Epoch 30/40\n",
      "899/899 [==============================] - 3s 4ms/step - loss: 4.0375e-04 - binary_accuracy: 0.9999 - val_loss: 7.4185 - val_binary_accuracy: 0.5598\n",
      "Epoch 31/40\n",
      "899/899 [==============================] - 3s 4ms/step - loss: 3.9967e-04 - binary_accuracy: 1.0000 - val_loss: 7.6450 - val_binary_accuracy: 0.5594\n",
      "Epoch 32/40\n",
      "899/899 [==============================] - 3s 3ms/step - loss: 3.3675e-04 - binary_accuracy: 0.9999 - val_loss: 7.7101 - val_binary_accuracy: 0.5622\n",
      "Epoch 33/40\n",
      "899/899 [==============================] - 3s 3ms/step - loss: 3.0824e-04 - binary_accuracy: 0.9999 - val_loss: 7.6776 - val_binary_accuracy: 0.5627\n",
      "Epoch 34/40\n",
      "899/899 [==============================] - 3s 3ms/step - loss: 2.8177e-04 - binary_accuracy: 0.9999 - val_loss: 7.9719 - val_binary_accuracy: 0.5625\n",
      "Epoch 35/40\n",
      "899/899 [==============================] - 3s 3ms/step - loss: 2.3552e-04 - binary_accuracy: 1.0000 - val_loss: 8.3681 - val_binary_accuracy: 0.5593\n",
      "Epoch 36/40\n",
      "899/899 [==============================] - 3s 3ms/step - loss: 2.4951e-04 - binary_accuracy: 1.0000 - val_loss: 8.9550 - val_binary_accuracy: 0.5565\n",
      "Epoch 37/40\n",
      "899/899 [==============================] - 3s 3ms/step - loss: 2.1285e-04 - binary_accuracy: 1.0000 - val_loss: 8.9489 - val_binary_accuracy: 0.5583\n",
      "Epoch 38/40\n",
      "899/899 [==============================] - 3s 4ms/step - loss: 2.3970e-04 - binary_accuracy: 1.0000 - val_loss: 8.6490 - val_binary_accuracy: 0.5609\n",
      "Epoch 39/40\n",
      "899/899 [==============================] - 3s 4ms/step - loss: 1.5938e-04 - binary_accuracy: 1.0000 - val_loss: 8.5864 - val_binary_accuracy: 0.5622\n",
      "Epoch 40/40\n",
      "899/899 [==============================] - 3s 3ms/step - loss: 1.6975e-04 - binary_accuracy: 1.0000 - val_loss: 8.9319 - val_binary_accuracy: 0.5605\n",
      "225/225 [==============================] - 5s 19ms/step - loss: 8.8311 - accuracy: 0.5644\n",
      "INFO:tensorflow:Assets written to: /Users/badr/Documents/ETS/Hiv2021/PFE/VS/git/fake-news-detection/notebooks/../models/tensorflow/model_2/assets\n"
     ]
    },
    {
     "name": "stderr",
     "output_type": "stream",
     "text": [
      " 40%|████      | 2/5 [05:16<07:49, 156.57s/it]"
     ]
    },
    {
     "name": "stdout",
     "output_type": "stream",
     "text": [
      "Found 28748 files belonging to 2 classes.\n",
      "Found 7188 files belonging to 2 classes.\n",
      "Epoch 1/40\n",
      "899/899 [==============================] - 19s 21ms/step - loss: 0.5868 - binary_accuracy: 0.8401 - val_loss: 1.5685 - val_binary_accuracy: 0.5239\n",
      "Epoch 2/40\n",
      "899/899 [==============================] - 3s 4ms/step - loss: 0.2280 - binary_accuracy: 0.9609 - val_loss: 2.2616 - val_binary_accuracy: 0.5255\n",
      "Epoch 3/40\n",
      "899/899 [==============================] - 3s 4ms/step - loss: 0.1325 - binary_accuracy: 0.9747 - val_loss: 2.5455 - val_binary_accuracy: 0.5271\n",
      "Epoch 4/40\n",
      "899/899 [==============================] - 3s 3ms/step - loss: 0.0904 - binary_accuracy: 0.9817 - val_loss: 2.7418 - val_binary_accuracy: 0.5294\n",
      "Epoch 5/40\n",
      "899/899 [==============================] - 3s 3ms/step - loss: 0.0653 - binary_accuracy: 0.9866 - val_loss: 2.8769 - val_binary_accuracy: 0.5323\n",
      "Epoch 6/40\n",
      "899/899 [==============================] - 3s 3ms/step - loss: 0.0494 - binary_accuracy: 0.9897 - val_loss: 3.0459 - val_binary_accuracy: 0.5338\n",
      "Epoch 7/40\n",
      "899/899 [==============================] - 3s 3ms/step - loss: 0.0380 - binary_accuracy: 0.9925 - val_loss: 3.2719 - val_binary_accuracy: 0.5364\n",
      "Epoch 8/40\n",
      "899/899 [==============================] - 3s 4ms/step - loss: 0.0298 - binary_accuracy: 0.9944 - val_loss: 3.4504 - val_binary_accuracy: 0.5385\n",
      "Epoch 9/40\n",
      "899/899 [==============================] - 3s 4ms/step - loss: 0.0229 - binary_accuracy: 0.9958 - val_loss: 3.7316 - val_binary_accuracy: 0.5409\n",
      "Epoch 10/40\n",
      "899/899 [==============================] - 3s 3ms/step - loss: 0.0182 - binary_accuracy: 0.9965 - val_loss: 3.9810 - val_binary_accuracy: 0.5420\n",
      "Epoch 11/40\n",
      "899/899 [==============================] - 3s 3ms/step - loss: 0.0145 - binary_accuracy: 0.9978 - val_loss: 4.1804 - val_binary_accuracy: 0.5442\n",
      "Epoch 12/40\n",
      "899/899 [==============================] - 3s 3ms/step - loss: 0.0120 - binary_accuracy: 0.9980 - val_loss: 4.4681 - val_binary_accuracy: 0.5448\n",
      "Epoch 13/40\n",
      "899/899 [==============================] - 3s 4ms/step - loss: 0.0092 - binary_accuracy: 0.9986 - val_loss: 4.5902 - val_binary_accuracy: 0.5483\n",
      "Epoch 14/40\n",
      "899/899 [==============================] - 3s 4ms/step - loss: 0.0076 - binary_accuracy: 0.9986 - val_loss: 4.7466 - val_binary_accuracy: 0.5501\n",
      "Epoch 15/40\n",
      "899/899 [==============================] - 3s 4ms/step - loss: 0.0058 - binary_accuracy: 0.9992 - val_loss: 5.0227 - val_binary_accuracy: 0.5491\n",
      "Epoch 16/40\n",
      "899/899 [==============================] - 3s 4ms/step - loss: 0.0047 - binary_accuracy: 0.9992 - val_loss: 5.0703 - val_binary_accuracy: 0.5536\n",
      "Epoch 17/40\n",
      "899/899 [==============================] - 3s 4ms/step - loss: 0.0039 - binary_accuracy: 0.9995 - val_loss: 5.2262 - val_binary_accuracy: 0.5573\n",
      "Epoch 18/40\n",
      "899/899 [==============================] - 3s 3ms/step - loss: 0.0032 - binary_accuracy: 0.9996 - val_loss: 5.2679 - val_binary_accuracy: 0.5595\n",
      "Epoch 19/40\n",
      "899/899 [==============================] - 3s 4ms/step - loss: 0.0026 - binary_accuracy: 0.9998 - val_loss: 5.7188 - val_binary_accuracy: 0.5556\n",
      "Epoch 20/40\n",
      "899/899 [==============================] - 3s 4ms/step - loss: 0.0021 - binary_accuracy: 0.9998 - val_loss: 5.6317 - val_binary_accuracy: 0.5612\n",
      "Epoch 21/40\n",
      "899/899 [==============================] - 3s 4ms/step - loss: 0.0018 - binary_accuracy: 0.9998 - val_loss: 5.8661 - val_binary_accuracy: 0.5625\n",
      "Epoch 22/40\n",
      "899/899 [==============================] - 3s 3ms/step - loss: 0.0015 - binary_accuracy: 0.9998 - val_loss: 6.0746 - val_binary_accuracy: 0.5632\n",
      "Epoch 23/40\n",
      "899/899 [==============================] - 3s 3ms/step - loss: 0.0014 - binary_accuracy: 0.9999 - val_loss: 6.3996 - val_binary_accuracy: 0.5622\n",
      "Epoch 24/40\n",
      "899/899 [==============================] - 3s 4ms/step - loss: 0.0012 - binary_accuracy: 0.9999 - val_loss: 6.6292 - val_binary_accuracy: 0.5623\n",
      "Epoch 25/40\n",
      "899/899 [==============================] - 3s 3ms/step - loss: 0.0010 - binary_accuracy: 0.9999 - val_loss: 6.5400 - val_binary_accuracy: 0.5658\n",
      "Epoch 26/40\n",
      "899/899 [==============================] - 3s 3ms/step - loss: 8.9961e-04 - binary_accuracy: 0.9999 - val_loss: 6.8341 - val_binary_accuracy: 0.5646\n",
      "Epoch 27/40\n",
      "899/899 [==============================] - 3s 3ms/step - loss: 7.3092e-04 - binary_accuracy: 0.9999 - val_loss: 6.7073 - val_binary_accuracy: 0.5684\n",
      "Epoch 28/40\n",
      "899/899 [==============================] - 3s 3ms/step - loss: 7.9831e-04 - binary_accuracy: 0.9999 - val_loss: 6.8334 - val_binary_accuracy: 0.5682\n",
      "Epoch 29/40\n",
      "899/899 [==============================] - 3s 4ms/step - loss: 6.4504e-04 - binary_accuracy: 0.9999 - val_loss: 7.1759 - val_binary_accuracy: 0.5659\n",
      "Epoch 30/40\n",
      "899/899 [==============================] - 3s 4ms/step - loss: 6.3787e-04 - binary_accuracy: 0.9999 - val_loss: 7.0847 - val_binary_accuracy: 0.5697\n",
      "Epoch 31/40\n",
      "899/899 [==============================] - 3s 4ms/step - loss: 5.6570e-04 - binary_accuracy: 0.9999 - val_loss: 7.0267 - val_binary_accuracy: 0.5726\n",
      "Epoch 32/40\n",
      "899/899 [==============================] - 3s 3ms/step - loss: 5.4675e-04 - binary_accuracy: 0.9999 - val_loss: 7.7162 - val_binary_accuracy: 0.5651\n",
      "Epoch 33/40\n",
      "899/899 [==============================] - 3s 3ms/step - loss: 5.4528e-04 - binary_accuracy: 0.9999 - val_loss: 7.6574 - val_binary_accuracy: 0.5672\n",
      "Epoch 34/40\n",
      "899/899 [==============================] - 3s 4ms/step - loss: 4.2447e-04 - binary_accuracy: 0.9999 - val_loss: 7.6005 - val_binary_accuracy: 0.5714\n",
      "Epoch 35/40\n",
      "899/899 [==============================] - 3s 4ms/step - loss: 5.1537e-04 - binary_accuracy: 0.9999 - val_loss: 7.8027 - val_binary_accuracy: 0.5679\n",
      "Epoch 36/40\n",
      "899/899 [==============================] - 4s 4ms/step - loss: 4.1343e-04 - binary_accuracy: 0.9999 - val_loss: 7.7366 - val_binary_accuracy: 0.5715\n",
      "Epoch 37/40\n",
      "899/899 [==============================] - 4s 4ms/step - loss: 3.5359e-04 - binary_accuracy: 0.9999 - val_loss: 7.9208 - val_binary_accuracy: 0.5693\n",
      "Epoch 38/40\n",
      "899/899 [==============================] - 4s 4ms/step - loss: 4.2946e-04 - binary_accuracy: 0.9999 - val_loss: 7.9998 - val_binary_accuracy: 0.5668\n",
      "Epoch 39/40\n",
      "899/899 [==============================] - 3s 4ms/step - loss: 3.1012e-04 - binary_accuracy: 0.9999 - val_loss: 8.5526 - val_binary_accuracy: 0.5669\n",
      "Epoch 40/40\n",
      "899/899 [==============================] - 3s 3ms/step - loss: 4.0481e-04 - binary_accuracy: 0.9999 - val_loss: 8.8703 - val_binary_accuracy: 0.5639\n",
      "225/225 [==============================] - 5s 20ms/step - loss: 8.7672 - accuracy: 0.5758\n",
      "INFO:tensorflow:Assets written to: /Users/badr/Documents/ETS/Hiv2021/PFE/VS/git/fake-news-detection/notebooks/../models/tensorflow/model_3/assets\n"
     ]
    },
    {
     "name": "stderr",
     "output_type": "stream",
     "text": [
      " 60%|██████    | 3/5 [08:11<05:29, 164.76s/it]"
     ]
    },
    {
     "name": "stdout",
     "output_type": "stream",
     "text": [
      "Found 28748 files belonging to 2 classes.\n",
      "Found 7188 files belonging to 2 classes.\n",
      "Epoch 1/40\n",
      "899/899 [==============================] - 17s 18ms/step - loss: 0.5905 - binary_accuracy: 0.7510 - val_loss: 1.5548 - val_binary_accuracy: 0.5245\n",
      "Epoch 2/40\n",
      "899/899 [==============================] - 2s 3ms/step - loss: 0.2262 - binary_accuracy: 0.9602 - val_loss: 2.2023 - val_binary_accuracy: 0.5255\n",
      "Epoch 3/40\n",
      "899/899 [==============================] - 3s 3ms/step - loss: 0.1313 - binary_accuracy: 0.9740 - val_loss: 2.4243 - val_binary_accuracy: 0.5274\n",
      "Epoch 4/40\n",
      "899/899 [==============================] - 3s 4ms/step - loss: 0.0893 - binary_accuracy: 0.9819 - val_loss: 2.5359 - val_binary_accuracy: 0.5302\n",
      "Epoch 5/40\n",
      "899/899 [==============================] - 3s 3ms/step - loss: 0.0652 - binary_accuracy: 0.9876 - val_loss: 2.6252 - val_binary_accuracy: 0.5346\n",
      "Epoch 6/40\n",
      "899/899 [==============================] - 3s 4ms/step - loss: 0.0485 - binary_accuracy: 0.9909 - val_loss: 2.7249 - val_binary_accuracy: 0.5396\n",
      "Epoch 7/40\n",
      "899/899 [==============================] - 3s 4ms/step - loss: 0.0376 - binary_accuracy: 0.9928 - val_loss: 2.8568 - val_binary_accuracy: 0.5426\n",
      "Epoch 8/40\n",
      "899/899 [==============================] - 3s 4ms/step - loss: 0.0300 - binary_accuracy: 0.9950 - val_loss: 2.9777 - val_binary_accuracy: 0.5472\n",
      "Epoch 9/40\n",
      "899/899 [==============================] - 3s 3ms/step - loss: 0.0242 - binary_accuracy: 0.9958 - val_loss: 3.0884 - val_binary_accuracy: 0.5499\n",
      "Epoch 10/40\n",
      "899/899 [==============================] - 3s 3ms/step - loss: 0.0189 - binary_accuracy: 0.9968 - val_loss: 3.2572 - val_binary_accuracy: 0.5519\n",
      "Epoch 11/40\n",
      "899/899 [==============================] - 3s 4ms/step - loss: 0.0155 - binary_accuracy: 0.9975 - val_loss: 3.4738 - val_binary_accuracy: 0.5555\n",
      "Epoch 12/40\n",
      "899/899 [==============================] - 3s 4ms/step - loss: 0.0127 - binary_accuracy: 0.9975 - val_loss: 3.6293 - val_binary_accuracy: 0.5561\n",
      "Epoch 13/40\n",
      "899/899 [==============================] - 3s 4ms/step - loss: 0.0104 - binary_accuracy: 0.9985 - val_loss: 3.9766 - val_binary_accuracy: 0.5550\n",
      "Epoch 14/40\n",
      "899/899 [==============================] - 3s 4ms/step - loss: 0.0085 - binary_accuracy: 0.9988 - val_loss: 4.2090 - val_binary_accuracy: 0.5544\n",
      "Epoch 15/40\n",
      "899/899 [==============================] - 3s 3ms/step - loss: 0.0069 - binary_accuracy: 0.9988 - val_loss: 4.5284 - val_binary_accuracy: 0.5545\n",
      "Epoch 16/40\n",
      "899/899 [==============================] - 3s 3ms/step - loss: 0.0056 - binary_accuracy: 0.9991 - val_loss: 4.7668 - val_binary_accuracy: 0.5551\n",
      "Epoch 17/40\n",
      "899/899 [==============================] - 3s 3ms/step - loss: 0.0045 - binary_accuracy: 0.9992 - val_loss: 5.0295 - val_binary_accuracy: 0.5540\n",
      "Epoch 18/40\n",
      "899/899 [==============================] - 3s 3ms/step - loss: 0.0038 - binary_accuracy: 0.9994 - val_loss: 5.3093 - val_binary_accuracy: 0.5540\n",
      "Epoch 19/40\n",
      "899/899 [==============================] - 3s 4ms/step - loss: 0.0030 - binary_accuracy: 0.9995 - val_loss: 5.6616 - val_binary_accuracy: 0.5534\n",
      "Epoch 20/40\n",
      "899/899 [==============================] - 3s 4ms/step - loss: 0.0024 - binary_accuracy: 0.9996 - val_loss: 5.9863 - val_binary_accuracy: 0.5536\n",
      "Epoch 21/40\n",
      "899/899 [==============================] - 3s 4ms/step - loss: 0.0018 - binary_accuracy: 0.9998 - val_loss: 6.2191 - val_binary_accuracy: 0.5548\n",
      "Epoch 22/40\n",
      "899/899 [==============================] - 3s 4ms/step - loss: 0.0015 - binary_accuracy: 0.9998 - val_loss: 6.5391 - val_binary_accuracy: 0.5523\n",
      "Epoch 23/40\n",
      "899/899 [==============================] - 3s 3ms/step - loss: 0.0012 - binary_accuracy: 0.9999 - val_loss: 6.5668 - val_binary_accuracy: 0.5555\n",
      "Epoch 24/40\n",
      "899/899 [==============================] - 3s 3ms/step - loss: 0.0012 - binary_accuracy: 0.9997 - val_loss: 6.8580 - val_binary_accuracy: 0.5561\n",
      "Epoch 25/40\n",
      "899/899 [==============================] - 3s 4ms/step - loss: 8.3727e-04 - binary_accuracy: 0.9999 - val_loss: 6.9265 - val_binary_accuracy: 0.5570\n",
      "Epoch 26/40\n",
      "899/899 [==============================] - 3s 4ms/step - loss: 6.8403e-04 - binary_accuracy: 0.9999 - val_loss: 7.1614 - val_binary_accuracy: 0.5570\n",
      "Epoch 27/40\n",
      "899/899 [==============================] - 3s 4ms/step - loss: 5.5924e-04 - binary_accuracy: 0.9999 - val_loss: 7.4116 - val_binary_accuracy: 0.5565\n",
      "Epoch 28/40\n",
      "899/899 [==============================] - 4s 4ms/step - loss: 5.2763e-04 - binary_accuracy: 0.9999 - val_loss: 7.5705 - val_binary_accuracy: 0.5575\n",
      "Epoch 29/40\n",
      "899/899 [==============================] - 3s 4ms/step - loss: 3.6402e-04 - binary_accuracy: 1.0000 - val_loss: 7.7158 - val_binary_accuracy: 0.5579\n",
      "Epoch 30/40\n",
      "899/899 [==============================] - 3s 3ms/step - loss: 3.2002e-04 - binary_accuracy: 1.0000 - val_loss: 8.2817 - val_binary_accuracy: 0.5563\n",
      "Epoch 31/40\n",
      "899/899 [==============================] - 3s 4ms/step - loss: 3.0463e-04 - binary_accuracy: 1.0000 - val_loss: 8.0729 - val_binary_accuracy: 0.5607\n",
      "Epoch 32/40\n",
      "899/899 [==============================] - 4s 4ms/step - loss: 2.4545e-04 - binary_accuracy: 1.0000 - val_loss: 7.8556 - val_binary_accuracy: 0.5640\n",
      "Epoch 33/40\n",
      "899/899 [==============================] - 3s 4ms/step - loss: 1.5794e-04 - binary_accuracy: 1.0000 - val_loss: 8.1917 - val_binary_accuracy: 0.5623\n",
      "Epoch 34/40\n",
      "899/899 [==============================] - 3s 3ms/step - loss: 1.3801e-04 - binary_accuracy: 1.0000 - val_loss: 8.0384 - val_binary_accuracy: 0.5647\n",
      "Epoch 35/40\n",
      "899/899 [==============================] - 3s 4ms/step - loss: 1.3312e-04 - binary_accuracy: 1.0000 - val_loss: 8.5405 - val_binary_accuracy: 0.5627\n",
      "Epoch 36/40\n",
      "899/899 [==============================] - 3s 3ms/step - loss: 1.1512e-04 - binary_accuracy: 1.0000 - val_loss: 8.6049 - val_binary_accuracy: 0.5640\n",
      "Epoch 37/40\n",
      "899/899 [==============================] - 3s 3ms/step - loss: 9.5955e-05 - binary_accuracy: 1.0000 - val_loss: 8.5193 - val_binary_accuracy: 0.5665\n",
      "Epoch 38/40\n",
      "899/899 [==============================] - 3s 3ms/step - loss: 7.8003e-05 - binary_accuracy: 1.0000 - val_loss: 8.5334 - val_binary_accuracy: 0.5664\n",
      "Epoch 39/40\n",
      "899/899 [==============================] - 3s 4ms/step - loss: 5.8896e-05 - binary_accuracy: 1.0000 - val_loss: 8.9705 - val_binary_accuracy: 0.5640\n",
      "Epoch 40/40\n",
      "899/899 [==============================] - 3s 3ms/step - loss: 4.7741e-05 - binary_accuracy: 1.0000 - val_loss: 8.8651 - val_binary_accuracy: 0.5669\n",
      "225/225 [==============================] - 4s 17ms/step - loss: 8.9037 - accuracy: 0.5660\n",
      "INFO:tensorflow:Assets written to: /Users/badr/Documents/ETS/Hiv2021/PFE/VS/git/fake-news-detection/notebooks/../models/tensorflow/model_4/assets\n"
     ]
    },
    {
     "name": "stderr",
     "output_type": "stream",
     "text": [
      " 80%|████████  | 4/5 [10:57<02:45, 165.39s/it]"
     ]
    },
    {
     "name": "stdout",
     "output_type": "stream",
     "text": [
      "Found 28748 files belonging to 2 classes.\n",
      "Found 7188 files belonging to 2 classes.\n",
      "Epoch 1/40\n",
      "899/899 [==============================] - 19s 21ms/step - loss: 0.5853 - binary_accuracy: 0.7830 - val_loss: 1.5236 - val_binary_accuracy: 0.5243\n",
      "Epoch 2/40\n",
      "899/899 [==============================] - 3s 3ms/step - loss: 0.2263 - binary_accuracy: 0.9589 - val_loss: 2.1587 - val_binary_accuracy: 0.5260\n",
      "Epoch 3/40\n",
      "899/899 [==============================] - 3s 3ms/step - loss: 0.1301 - binary_accuracy: 0.9755 - val_loss: 2.4096 - val_binary_accuracy: 0.5287\n",
      "Epoch 4/40\n",
      "899/899 [==============================] - 3s 3ms/step - loss: 0.0883 - binary_accuracy: 0.9844 - val_loss: 2.5445 - val_binary_accuracy: 0.5321\n",
      "Epoch 5/40\n",
      "899/899 [==============================] - 3s 3ms/step - loss: 0.0633 - binary_accuracy: 0.9890 - val_loss: 2.6641 - val_binary_accuracy: 0.5359\n",
      "Epoch 6/40\n",
      "899/899 [==============================] - 3s 3ms/step - loss: 0.0475 - binary_accuracy: 0.9920 - val_loss: 2.8592 - val_binary_accuracy: 0.5380\n",
      "Epoch 7/40\n",
      "899/899 [==============================] - 3s 3ms/step - loss: 0.0364 - binary_accuracy: 0.9938 - val_loss: 3.0012 - val_binary_accuracy: 0.5423\n",
      "Epoch 8/40\n",
      "899/899 [==============================] - 4s 4ms/step - loss: 0.0287 - binary_accuracy: 0.9951 - val_loss: 3.1995 - val_binary_accuracy: 0.5435\n",
      "Epoch 9/40\n",
      "899/899 [==============================] - 3s 4ms/step - loss: 0.0223 - binary_accuracy: 0.9960 - val_loss: 3.4034 - val_binary_accuracy: 0.5449\n",
      "Epoch 10/40\n",
      "899/899 [==============================] - 3s 3ms/step - loss: 0.0177 - binary_accuracy: 0.9971 - val_loss: 3.7025 - val_binary_accuracy: 0.5460\n",
      "Epoch 11/40\n",
      "899/899 [==============================] - 3s 3ms/step - loss: 0.0146 - binary_accuracy: 0.9977 - val_loss: 3.9325 - val_binary_accuracy: 0.5474\n",
      "Epoch 12/40\n",
      "899/899 [==============================] - 4s 4ms/step - loss: 0.0116 - binary_accuracy: 0.9980 - val_loss: 4.1305 - val_binary_accuracy: 0.5483\n",
      "Epoch 13/40\n",
      "899/899 [==============================] - 3s 4ms/step - loss: 0.0092 - binary_accuracy: 0.9985 - val_loss: 4.4261 - val_binary_accuracy: 0.5481\n",
      "Epoch 14/40\n",
      "899/899 [==============================] - 3s 3ms/step - loss: 0.0078 - binary_accuracy: 0.9990 - val_loss: 4.7003 - val_binary_accuracy: 0.5479\n",
      "Epoch 15/40\n",
      "899/899 [==============================] - 3s 3ms/step - loss: 0.0061 - binary_accuracy: 0.9991 - val_loss: 5.0923 - val_binary_accuracy: 0.5467\n",
      "Epoch 16/40\n",
      "899/899 [==============================] - 3s 3ms/step - loss: 0.0049 - binary_accuracy: 0.9993 - val_loss: 5.4895 - val_binary_accuracy: 0.5445\n",
      "Epoch 17/40\n",
      "899/899 [==============================] - 3s 3ms/step - loss: 0.0040 - binary_accuracy: 0.9995 - val_loss: 5.7529 - val_binary_accuracy: 0.5447\n",
      "Epoch 18/40\n",
      "899/899 [==============================] - 3s 3ms/step - loss: 0.0032 - binary_accuracy: 0.9996 - val_loss: 5.9249 - val_binary_accuracy: 0.5467\n",
      "Epoch 19/40\n",
      "899/899 [==============================] - 3s 4ms/step - loss: 0.0025 - binary_accuracy: 0.9997 - val_loss: 6.2461 - val_binary_accuracy: 0.5463\n",
      "Epoch 20/40\n",
      "899/899 [==============================] - 3s 4ms/step - loss: 0.0019 - binary_accuracy: 0.9998 - val_loss: 6.4910 - val_binary_accuracy: 0.5455\n",
      "Epoch 21/40\n",
      "899/899 [==============================] - 3s 3ms/step - loss: 0.0018 - binary_accuracy: 0.9999 - val_loss: 6.4507 - val_binary_accuracy: 0.5473\n",
      "Epoch 22/40\n",
      "899/899 [==============================] - 3s 3ms/step - loss: 0.0013 - binary_accuracy: 0.9999 - val_loss: 6.7947 - val_binary_accuracy: 0.5473\n",
      "Epoch 23/40\n",
      "899/899 [==============================] - 3s 3ms/step - loss: 0.0011 - binary_accuracy: 1.0000 - val_loss: 6.6685 - val_binary_accuracy: 0.5524\n",
      "Epoch 24/40\n",
      "899/899 [==============================] - 3s 3ms/step - loss: 9.1686e-04 - binary_accuracy: 1.0000 - val_loss: 6.6297 - val_binary_accuracy: 0.5529\n",
      "Epoch 25/40\n",
      "899/899 [==============================] - 3s 3ms/step - loss: 7.2285e-04 - binary_accuracy: 1.0000 - val_loss: 6.9601 - val_binary_accuracy: 0.5520\n",
      "Epoch 26/40\n",
      "899/899 [==============================] - 3s 3ms/step - loss: 6.5361e-04 - binary_accuracy: 1.0000 - val_loss: 6.8027 - val_binary_accuracy: 0.5548\n",
      "Epoch 27/40\n",
      "899/899 [==============================] - 3s 4ms/step - loss: 5.1266e-04 - binary_accuracy: 1.0000 - val_loss: 7.0907 - val_binary_accuracy: 0.5541\n",
      "Epoch 28/40\n",
      "899/899 [==============================] - 5s 5ms/step - loss: 4.3849e-04 - binary_accuracy: 1.0000 - val_loss: 6.8137 - val_binary_accuracy: 0.5595\n",
      "Epoch 29/40\n",
      "899/899 [==============================] - 4s 5ms/step - loss: 3.8907e-04 - binary_accuracy: 1.0000 - val_loss: 6.6396 - val_binary_accuracy: 0.5650\n",
      "Epoch 30/40\n",
      "899/899 [==============================] - 3s 4ms/step - loss: 2.8957e-04 - binary_accuracy: 1.0000 - val_loss: 6.8212 - val_binary_accuracy: 0.5647\n",
      "Epoch 31/40\n",
      "899/899 [==============================] - 3s 3ms/step - loss: 2.8124e-04 - binary_accuracy: 1.0000 - val_loss: 6.7442 - val_binary_accuracy: 0.5703\n",
      "Epoch 32/40\n",
      "899/899 [==============================] - 3s 3ms/step - loss: 2.7048e-04 - binary_accuracy: 1.0000 - val_loss: 6.7978 - val_binary_accuracy: 0.5689\n",
      "Epoch 33/40\n",
      "899/899 [==============================] - 3s 3ms/step - loss: 2.1012e-04 - binary_accuracy: 1.0000 - val_loss: 7.1394 - val_binary_accuracy: 0.5679\n",
      "Epoch 34/40\n",
      "899/899 [==============================] - 3s 3ms/step - loss: 1.7907e-04 - binary_accuracy: 1.0000 - val_loss: 7.7527 - val_binary_accuracy: 0.5626\n",
      "Epoch 35/40\n",
      "899/899 [==============================] - 4s 4ms/step - loss: 1.9748e-04 - binary_accuracy: 1.0000 - val_loss: 6.8401 - val_binary_accuracy: 0.5768\n",
      "Epoch 36/40\n",
      "899/899 [==============================] - 3s 4ms/step - loss: 1.8046e-04 - binary_accuracy: 1.0000 - val_loss: 7.2629 - val_binary_accuracy: 0.5729\n",
      "Epoch 37/40\n",
      "899/899 [==============================] - 3s 3ms/step - loss: 1.5057e-04 - binary_accuracy: 1.0000 - val_loss: 7.3092 - val_binary_accuracy: 0.5735\n",
      "Epoch 38/40\n",
      "899/899 [==============================] - 4s 4ms/step - loss: 1.6402e-04 - binary_accuracy: 1.0000 - val_loss: 7.6845 - val_binary_accuracy: 0.5714\n",
      "Epoch 39/40\n",
      "899/899 [==============================] - 4s 4ms/step - loss: 1.3116e-04 - binary_accuracy: 1.0000 - val_loss: 7.9904 - val_binary_accuracy: 0.5703\n",
      "Epoch 40/40\n",
      "899/899 [==============================] - 5s 5ms/step - loss: 1.3305e-04 - binary_accuracy: 1.0000 - val_loss: 7.3868 - val_binary_accuracy: 0.5799\n",
      "225/225 [==============================] - 6s 22ms/step - loss: 7.2543 - accuracy: 0.5831\n",
      "INFO:tensorflow:Assets written to: /Users/badr/Documents/ETS/Hiv2021/PFE/VS/git/fake-news-detection/notebooks/../models/tensorflow/model_5/assets\n"
     ]
    },
    {
     "name": "stderr",
     "output_type": "stream",
     "text": [
      "100%|██████████| 5/5 [13:52<00:00, 166.60s/it]\n"
     ]
    }
   ],
   "source": [
    "Tensorflow.train()"
   ]
  },
  {
   "cell_type": "markdown",
   "metadata": {},
   "source": [
    "## Testing"
   ]
  },
  {
   "cell_type": "code",
   "execution_count": 7,
   "metadata": {},
   "outputs": [
    {
     "name": "stderr",
     "output_type": "stream",
     "text": [
      "  0%|          | 0/5 [00:00<?, ?it/s]"
     ]
    },
    {
     "name": "stdout",
     "output_type": "stream",
     "text": [
      "Found 8985 files belonging to 2 classes.\n",
      "281/281 [==============================] - 6s 20ms/step - loss: 7.4650 - accuracy: 0.5928\n"
     ]
    },
    {
     "name": "stderr",
     "output_type": "stream",
     "text": [
      " 20%|██        | 1/5 [00:07<00:29,  7.42s/it]"
     ]
    },
    {
     "name": "stdout",
     "output_type": "stream",
     "text": [
      "Found 8985 files belonging to 2 classes.\n",
      "281/281 [==============================] - 6s 19ms/step - loss: 9.0002 - accuracy: 0.5632\n"
     ]
    },
    {
     "name": "stderr",
     "output_type": "stream",
     "text": [
      " 40%|████      | 2/5 [00:14<00:21,  7.07s/it]"
     ]
    },
    {
     "name": "stdout",
     "output_type": "stream",
     "text": [
      "Found 8983 files belonging to 2 classes.\n",
      "281/281 [==============================] - 6s 20ms/step - loss: 9.0440 - accuracy: 0.5609\n"
     ]
    },
    {
     "name": "stderr",
     "output_type": "stream",
     "text": [
      " 60%|██████    | 3/5 [00:21<00:14,  7.24s/it]"
     ]
    },
    {
     "name": "stdout",
     "output_type": "stream",
     "text": [
      "Found 8983 files belonging to 2 classes.\n",
      "281/281 [==============================] - 6s 20ms/step - loss: 9.0179 - accuracy: 0.5654\n"
     ]
    },
    {
     "name": "stderr",
     "output_type": "stream",
     "text": [
      " 80%|████████  | 4/5 [00:28<00:07,  7.12s/it]"
     ]
    },
    {
     "name": "stdout",
     "output_type": "stream",
     "text": [
      "WARNING:tensorflow:5 out of the last 5 calls to <function recreate_function.<locals>.restored_function_body at 0x7fa2ff9efee0> triggered tf.function retracing. Tracing is expensive and the excessive number of tracings could be due to (1) creating @tf.function repeatedly in a loop, (2) passing tensors with different shapes, (3) passing Python objects instead of tensors. For (1), please define your @tf.function outside of the loop. For (2), @tf.function has experimental_relax_shapes=True option that relaxes argument shapes that can avoid unnecessary retracing. For (3), please refer to https://www.tensorflow.org/guide/function#controlling_retracing and https://www.tensorflow.org/api_docs/python/tf/function for  more details.\n",
      "Found 8983 files belonging to 2 classes.\n",
      "281/281 [==============================] - 6s 18ms/step - loss: 7.2976 - accuracy: 0.5814\n"
     ]
    },
    {
     "name": "stderr",
     "output_type": "stream",
     "text": [
      "100%|██████████| 5/5 [00:35<00:00,  7.03s/it]\n"
     ]
    }
   ],
   "source": [
    "Tensorflow.test()"
   ]
  },
  {
   "cell_type": "code",
   "execution_count": 8,
   "metadata": {},
   "outputs": [
    {
     "data": {
      "text/plain": "0.5727415800094604"
     },
     "execution_count": 8,
     "metadata": {},
     "output_type": "execute_result"
    }
   ],
   "source": [
    "Tensorflow.f1_score"
   ]
  }
 ],
 "metadata": {
  "kernelspec": {
   "display_name": "Python 3.8.8 64-bit ('base': conda)",
   "name": "python388jvsc74a57bd0edd520d6644a321125cc4a079653ea19f3677dde8ec49922823a2d76c0a5a38b"
  },
  "language_info": {
   "codemirror_mode": {
    "name": "ipython",
    "version": 3
   },
   "file_extension": ".py",
   "mimetype": "text/x-python",
   "name": "python",
   "nbconvert_exporter": "python",
   "pygments_lexer": "ipython3",
   "version": "3.8.8"
  },
  "orig_nbformat": 2
 },
 "nbformat": 4,
 "nbformat_minor": 2
}